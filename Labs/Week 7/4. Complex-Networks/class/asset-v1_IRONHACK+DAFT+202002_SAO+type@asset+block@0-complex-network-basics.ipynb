{
 "cells": [
  {
   "cell_type": "markdown",
   "metadata": {},
   "source": [
    "import pandas as pd\n",
    "import numpy as np\n",
    "# ^^^ pyforest auto-imports - don't write above this line\n",
    "# Complex Networks - Graphs"
   ]
  },
  {
   "cell_type": "markdown",
   "metadata": {},
   "source": [
    "The main library used to handle graphs is <a href=https://networkx.github.io/><b>networkx</b></a>"
   ]
  },
  {
   "cell_type": "code",
   "execution_count": null,
   "metadata": {},
   "outputs": [],
   "source": [
    "# !pip install networkx"
   ]
  },
  {
   "cell_type": "code",
   "execution_count": 1,
   "metadata": {
    "ExecuteTime": {
     "end_time": "2020-04-17T12:43:55.684355Z",
     "start_time": "2020-04-17T12:43:55.220506Z"
    },
    "slideshow": {
     "slide_type": "slide"
    }
   },
   "outputs": [],
   "source": [
    "import networkx as nx\n",
    "import matplotlib.pyplot as plt"
   ]
  },
  {
   "cell_type": "markdown",
   "metadata": {},
   "source": [
    "## Networkx"
   ]
  },
  {
   "cell_type": "markdown",
   "metadata": {},
   "source": [
    "### The Graph class\n",
    "\n",
    "The most important class in Networkx is the Graph class. It creates an empty graph for you to load data. \n",
    "This creates what is called an `undirected graph` - that is, the graph doesn't really care about source and target nodes. It just connects dots."
   ]
  },
  {
   "cell_type": "code",
   "execution_count": 15,
   "metadata": {
    "ExecuteTime": {
     "end_time": "2020-04-17T12:44:48.848512Z",
     "start_time": "2020-04-17T12:44:48.845520Z"
    },
    "slideshow": {
     "slide_type": "slide"
    }
   },
   "outputs": [],
   "source": [
    "G = nx.Graph()"
   ]
  },
  {
   "cell_type": "markdown",
   "metadata": {},
   "source": [
    "### Graph nodes\n",
    "\n",
    "By invoking `.nodes` on a graph, you can see all your graph's nodes. Of course there are none yet."
   ]
  },
  {
   "cell_type": "code",
   "execution_count": 16,
   "metadata": {
    "ExecuteTime": {
     "end_time": "2020-04-17T12:44:49.176635Z",
     "start_time": "2020-04-17T12:44:49.171648Z"
    },
    "slideshow": {
     "slide_type": "slide"
    }
   },
   "outputs": [
    {
     "data": {
      "text/plain": [
       "NodeView(())"
      ]
     },
     "execution_count": 16,
     "metadata": {},
     "output_type": "execute_result"
    }
   ],
   "source": [
    "G.nodes"
   ]
  },
  {
   "cell_type": "markdown",
   "metadata": {},
   "source": [
    "### Helper function to visualize graph\n",
    "\n",
    "For now, I'll create a function to visualize graphs - but we'll come back later on how to that exactly"
   ]
  },
  {
   "cell_type": "code",
   "execution_count": 17,
   "metadata": {
    "ExecuteTime": {
     "end_time": "2020-04-17T12:44:49.478435Z",
     "start_time": "2020-04-17T12:44:49.474419Z"
    }
   },
   "outputs": [],
   "source": [
    "# Visualisation helper function\n",
    "def view_graph(G):\n",
    "    \"\"\"\n",
    "    View graph is a helper function that takes a graph G and plot its contents.\n",
    "    \"\"\"\n",
    "    \n",
    "    print(f'Nodes in graph: {G.nodes}')\n",
    "    print(f'Edges in graph: {G.edges}')\n",
    "    \n",
    "    # Create a visualisation using NetworkX and draw using matplotlib\n",
    "    pos = nx.spring_layout(G)\n",
    "    nx.draw(G, pos=pos, with_labels=True)\n",
    "    plt.show()"
   ]
  },
  {
   "cell_type": "markdown",
   "metadata": {},
   "source": [
    "### Add nodes to graph:\n",
    "\n",
    "#### The `.add_node()` method\n",
    "\n",
    "The `.add_node()` function is like a way of updating a dictionary for graphs. It takes a `key`, a name of your node, and this will be the `id` of your node. The example I'll use here is to add_node named `1`, but it could be anything like a string as well. "
   ]
  },
  {
   "cell_type": "code",
   "execution_count": 18,
   "metadata": {
    "ExecuteTime": {
     "end_time": "2020-04-17T12:44:50.257974Z",
     "start_time": "2020-04-17T12:44:50.254982Z"
    }
   },
   "outputs": [],
   "source": [
    "G.add_node(1)"
   ]
  },
  {
   "cell_type": "code",
   "execution_count": 19,
   "metadata": {
    "ExecuteTime": {
     "end_time": "2020-04-17T12:44:50.738488Z",
     "start_time": "2020-04-17T12:44:50.733502Z"
    }
   },
   "outputs": [
    {
     "data": {
      "text/plain": [
       "NodeView((1,))"
      ]
     },
     "execution_count": 19,
     "metadata": {},
     "output_type": "execute_result"
    }
   ],
   "source": [
    "G.nodes"
   ]
  },
  {
   "cell_type": "code",
   "execution_count": 20,
   "metadata": {
    "ExecuteTime": {
     "end_time": "2020-04-17T12:44:58.239601Z",
     "start_time": "2020-04-17T12:44:58.133856Z"
    },
    "slideshow": {
     "slide_type": "slide"
    }
   },
   "outputs": [
    {
     "name": "stdout",
     "output_type": "stream",
     "text": [
      "Nodes in graph: [1]\n",
      "Edges in graph: []\n"
     ]
    },
    {
     "data": {
      "image/png": "[encoded data removed]",
      "text/plain": [
       "<Figure size 432x288 with 1 Axes>"
      ]
     },
     "metadata": {},
     "output_type": "display_data"
    }
   ],
   "source": [
    "# visualizing it\n",
    "view_graph(G);"
   ]
  },
  {
   "cell_type": "markdown",
   "metadata": {},
   "source": [
    "#### The `add_nodes_from()` method\n",
    "\n",
    "The `add_nodes_from()` receives multiple nodes at a time and add all of them to your graph"
   ]
  },
  {
   "cell_type": "code",
   "execution_count": 21,
   "metadata": {
    "ExecuteTime": {
     "end_time": "2020-04-17T12:45:26.469232Z",
     "start_time": "2020-04-17T12:45:26.466239Z"
    },
    "slideshow": {
     "slide_type": "slide"
    }
   },
   "outputs": [],
   "source": [
    "G.add_nodes_from([2, 3])"
   ]
  },
  {
   "cell_type": "code",
   "execution_count": 42,
   "metadata": {
    "ExecuteTime": {
     "end_time": "2020-04-17T12:47:19.392348Z",
     "start_time": "2020-04-17T12:47:19.280646Z"
    }
   },
   "outputs": [
    {
     "name": "stdout",
     "output_type": "stream",
     "text": [
      "Nodes in graph: [1, 2, 3]\n",
      "Edges in graph: []\n"
     ]
    },
    {
     "data": {
      "image/png": "[encoded data removed]",
      "text/plain": [
       "<Figure size 432x288 with 1 Axes>"
      ]
     },
     "metadata": {},
     "output_type": "display_data"
    }
   ],
   "source": [
    "view_graph(G)"
   ]
  },
  {
   "cell_type": "markdown",
   "metadata": {
    "ExecuteTime": {
     "end_time": "2020-04-17T11:20:13.214437Z",
     "start_time": "2020-04-17T11:20:13.210473Z"
    }
   },
   "source": [
    "### Adding Edges to your graph\n",
    "\n",
    "#### The `add_edge()` method\n",
    "\n",
    "The `add_edge()` method is like the `add_node`, except you have to specify two nodes to connect them.\n",
    "\n",
    "The two nodes are usually called `u` and `v`, where `u` is the source node and `v` the target node. \n",
    "However, remember Graph is an instance of an `undirected graph`, which means the graph won't care about sources and targets, it will just put a line between them."
   ]
  },
  {
   "cell_type": "code",
   "execution_count": 43,
   "metadata": {
    "ExecuteTime": {
     "end_time": "2020-04-17T12:51:10.891024Z",
     "start_time": "2020-04-17T12:51:10.888032Z"
    },
    "slideshow": {
     "slide_type": "slide"
    }
   },
   "outputs": [],
   "source": [
    "G.add_edge(1, 2)"
   ]
  },
  {
   "cell_type": "code",
   "execution_count": 45,
   "metadata": {
    "ExecuteTime": {
     "end_time": "2020-04-17T12:51:21.237803Z",
     "start_time": "2020-04-17T12:51:21.132058Z"
    }
   },
   "outputs": [
    {
     "name": "stdout",
     "output_type": "stream",
     "text": [
      "Nodes in graph: [1, 2, 3]\n",
      "Edges in graph: [(1, 2)]\n"
     ]
    },
    {
     "data": {
      "image/png": "[encoded data removed]",
      "text/plain": [
       "<Figure size 432x288 with 1 Axes>"
      ]
     },
     "metadata": {},
     "output_type": "display_data"
    }
   ],
   "source": [
    "view_graph(G)"
   ]
  },
  {
   "cell_type": "markdown",
   "metadata": {},
   "source": [
    "#### The `add_edges_from()` method\n",
    "\n",
    "Just like `add_nodes_from` adds a bunch of nodes to your graph, you can do that too with edges."
   ]
  },
  {
   "cell_type": "code",
   "execution_count": 46,
   "metadata": {
    "ExecuteTime": {
     "end_time": "2020-04-17T12:52:14.699659Z",
     "start_time": "2020-04-17T12:52:14.696640Z"
    },
    "slideshow": {
     "slide_type": "slide"
    }
   },
   "outputs": [],
   "source": [
    "G.add_edges_from([(1, 3), (2, 3)])"
   ]
  },
  {
   "cell_type": "code",
   "execution_count": 47,
   "metadata": {
    "ExecuteTime": {
     "end_time": "2020-04-17T12:52:15.242364Z",
     "start_time": "2020-04-17T12:52:15.138613Z"
    }
   },
   "outputs": [
    {
     "name": "stdout",
     "output_type": "stream",
     "text": [
      "Nodes in graph: [1, 2, 3]\n",
      "Edges in graph: [(1, 2), (1, 3), (2, 3)]\n"
     ]
    },
    {
     "data": {
      "image/png": "[encoded data removed]",
      "text/plain": [
       "<Figure size 432x288 with 1 Axes>"
      ]
     },
     "metadata": {},
     "output_type": "display_data"
    }
   ],
   "source": [
    "view_graph(G)"
   ]
  },
  {
   "cell_type": "markdown",
   "metadata": {},
   "source": [
    "# Creating a simple example structure\n",
    "\n",
    "You can also specify the edges of your graph on the instance creation:"
   ]
  },
  {
   "cell_type": "code",
   "execution_count": 48,
   "metadata": {
    "ExecuteTime": {
     "end_time": "2020-04-17T12:53:04.205377Z",
     "start_time": "2020-04-17T12:53:04.201897Z"
    }
   },
   "outputs": [],
   "source": [
    "friends_connections = [('Arthur', 'Jenny'), \n",
    "                       ('Jenny', 'Chris'), \n",
    "                       ('Chris', 'Arthur')]"
   ]
  },
  {
   "cell_type": "code",
   "execution_count": 55,
   "metadata": {
    "ExecuteTime": {
     "end_time": "2020-04-17T12:55:59.134585Z",
     "start_time": "2020-04-17T12:55:59.121621Z"
    }
   },
   "outputs": [
    {
     "data": {
      "application/javascript": [
       "\n",
       "        if (window._pyforest_update_imports_cell) { window._pyforest_update_imports_cell('import pandas as pd\\nimport numpy as np'); }\n",
       "    "
      ],
      "text/plain": [
       "<IPython.core.display.Javascript object>"
      ]
     },
     "metadata": {},
     "output_type": "display_data"
    },
    {
     "data": {
      "application/javascript": [
       "\n",
       "        if (window._pyforest_update_imports_cell) { window._pyforest_update_imports_cell('import pandas as pd\\nimport numpy as np'); }\n",
       "    "
      ],
      "text/plain": [
       "<IPython.core.display.Javascript object>"
      ]
     },
     "metadata": {},
     "output_type": "display_data"
    },
    {
     "data": {
      "application/javascript": [
       "\n",
       "        if (window._pyforest_update_imports_cell) { window._pyforest_update_imports_cell('import pandas as pd\\nimport numpy as np'); }\n",
       "    "
      ],
      "text/plain": [
       "<IPython.core.display.Javascript object>"
      ]
     },
     "metadata": {},
     "output_type": "display_data"
    },
    {
     "data": {
      "application/javascript": [
       "\n",
       "        if (window._pyforest_update_imports_cell) { window._pyforest_update_imports_cell('import pandas as pd\\nimport numpy as np'); }\n",
       "    "
      ],
      "text/plain": [
       "<IPython.core.display.Javascript object>"
      ]
     },
     "metadata": {},
     "output_type": "display_data"
    },
    {
     "data": {
      "text/html": [
       "<div>\n",
       "<style scoped>\n",
       "    .dataframe tbody tr th:only-of-type {\n",
       "        vertical-align: middle;\n",
       "    }\n",
       "\n",
       "    .dataframe tbody tr th {\n",
       "        vertical-align: top;\n",
       "    }\n",
       "\n",
       "    .dataframe thead th {\n",
       "        text-align: right;\n",
       "    }\n",
       "</style>\n",
       "<table border=\"1\" class=\"dataframe\">\n",
       "  <thead>\n",
       "    <tr style=\"text-align: right;\">\n",
       "      <th></th>\n",
       "      <th>cpf_origem</th>\n",
       "      <th>cpf_destino</th>\n",
       "      <th>vlr</th>\n",
       "    </tr>\n",
       "  </thead>\n",
       "  <tbody>\n",
       "    <tr>\n",
       "      <td>0</td>\n",
       "      <td>92</td>\n",
       "      <td>78</td>\n",
       "      <td>73</td>\n",
       "    </tr>\n",
       "    <tr>\n",
       "      <td>1</td>\n",
       "      <td>93</td>\n",
       "      <td>96</td>\n",
       "      <td>6</td>\n",
       "    </tr>\n",
       "    <tr>\n",
       "      <td>2</td>\n",
       "      <td>36</td>\n",
       "      <td>63</td>\n",
       "      <td>52</td>\n",
       "    </tr>\n",
       "    <tr>\n",
       "      <td>3</td>\n",
       "      <td>59</td>\n",
       "      <td>73</td>\n",
       "      <td>60</td>\n",
       "    </tr>\n",
       "    <tr>\n",
       "      <td>4</td>\n",
       "      <td>4</td>\n",
       "      <td>2</td>\n",
       "      <td>58</td>\n",
       "    </tr>\n",
       "    <tr>\n",
       "      <td>5</td>\n",
       "      <td>7</td>\n",
       "      <td>23</td>\n",
       "      <td>59</td>\n",
       "    </tr>\n",
       "    <tr>\n",
       "      <td>6</td>\n",
       "      <td>98</td>\n",
       "      <td>50</td>\n",
       "      <td>43</td>\n",
       "    </tr>\n",
       "    <tr>\n",
       "      <td>7</td>\n",
       "      <td>73</td>\n",
       "      <td>49</td>\n",
       "      <td>95</td>\n",
       "    </tr>\n",
       "    <tr>\n",
       "      <td>8</td>\n",
       "      <td>47</td>\n",
       "      <td>41</td>\n",
       "      <td>24</td>\n",
       "    </tr>\n",
       "    <tr>\n",
       "      <td>9</td>\n",
       "      <td>30</td>\n",
       "      <td>93</td>\n",
       "      <td>50</td>\n",
       "    </tr>\n",
       "  </tbody>\n",
       "</table>\n",
       "</div>"
      ],
      "text/plain": [
       "   cpf_origem  cpf_destino  vlr\n",
       "0          92           78   73\n",
       "1          93           96    6\n",
       "2          36           63   52\n",
       "3          59           73   60\n",
       "4           4            2   58\n",
       "5           7           23   59\n",
       "6          98           50   43\n",
       "7          73           49   95\n",
       "8          47           41   24\n",
       "9          30           93   50"
      ]
     },
     "execution_count": 55,
     "metadata": {},
     "output_type": "execute_result"
    }
   ],
   "source": [
    "pd.DataFrame({'cpf_origem':np.random.randint(0,100, size=10),\n",
    "              'cpf_destino':np.random.randint(0,100, size=10),\n",
    "              'vlr':np.random.randint(0,100, size=10)})"
   ]
  },
  {
   "cell_type": "code",
   "execution_count": 49,
   "metadata": {
    "ExecuteTime": {
     "end_time": "2020-04-17T12:53:11.273469Z",
     "start_time": "2020-04-17T12:53:11.270476Z"
    },
    "slideshow": {
     "slide_type": "slide"
    }
   },
   "outputs": [],
   "source": [
    "friends = nx.Graph(friends_connections)"
   ]
  },
  {
   "cell_type": "code",
   "execution_count": 51,
   "metadata": {
    "ExecuteTime": {
     "end_time": "2020-04-17T12:54:20.344209Z",
     "start_time": "2020-04-17T12:54:20.340220Z"
    }
   },
   "outputs": [
    {
     "data": {
      "text/plain": [
       "NodeView(('Arthur', 'Jenny', 'Chris'))"
      ]
     },
     "execution_count": 51,
     "metadata": {},
     "output_type": "execute_result"
    }
   ],
   "source": [
    "friends.nodes"
   ]
  },
  {
   "cell_type": "code",
   "execution_count": 52,
   "metadata": {
    "ExecuteTime": {
     "end_time": "2020-04-17T12:54:29.765610Z",
     "start_time": "2020-04-17T12:54:29.760648Z"
    }
   },
   "outputs": [
    {
     "data": {
      "text/plain": [
       "EdgeView([('Arthur', 'Jenny'), ('Arthur', 'Chris'), ('Jenny', 'Chris')])"
      ]
     },
     "execution_count": 52,
     "metadata": {},
     "output_type": "execute_result"
    }
   ],
   "source": [
    "friends.edges"
   ]
  },
  {
   "cell_type": "code",
   "execution_count": 50,
   "metadata": {
    "ExecuteTime": {
     "end_time": "2020-04-17T12:53:12.777734Z",
     "start_time": "2020-04-17T12:53:12.672987Z"
    }
   },
   "outputs": [
    {
     "name": "stdout",
     "output_type": "stream",
     "text": [
      "Nodes in graph: ['Arthur', 'Jenny', 'Chris']\n",
      "Edges in graph: [('Arthur', 'Jenny'), ('Arthur', 'Chris'), ('Jenny', 'Chris')]\n"
     ]
    },
    {
     "data": {
      "image/png": "[encoded data removed]",
      "text/plain": [
       "<Figure size 432x288 with 1 Axes>"
      ]
     },
     "metadata": {},
     "output_type": "display_data"
    }
   ],
   "source": [
    "view_graph(friends)"
   ]
  },
  {
   "cell_type": "markdown",
   "metadata": {},
   "source": [
    "## Graph's `.neighbors()` method.\n",
    "\n",
    "The method `.neighbors()` returns an iterator - it means you have to transform it into a list to view the resulting neighbours of a node. "
   ]
  },
  {
   "cell_type": "code",
   "execution_count": 57,
   "metadata": {
    "ExecuteTime": {
     "end_time": "2020-04-17T12:59:14.317308Z",
     "start_time": "2020-04-17T12:59:14.313326Z"
    },
    "slideshow": {
     "slide_type": "slide"
    }
   },
   "outputs": [
    {
     "data": {
      "text/plain": [
       "['Jenny', 'Chris']"
      ]
     },
     "execution_count": 57,
     "metadata": {},
     "output_type": "execute_result"
    }
   ],
   "source": [
    "list(friends.neighbors('Arthur'))"
   ]
  },
  {
   "cell_type": "markdown",
   "metadata": {},
   "source": [
    "## Degree of a node\n",
    "\n",
    "An important concept in graphs is the degree of a node. Usually, you are interested in the relevance of that node to your structure, and the most simple relevance metric is the degree of a node, which is just how many neighbours (or <b>connections</b>) it has."
   ]
  },
  {
   "cell_type": "code",
   "execution_count": 58,
   "metadata": {
    "ExecuteTime": {
     "end_time": "2020-04-17T12:59:41.911251Z",
     "start_time": "2020-04-17T12:59:41.906264Z"
    }
   },
   "outputs": [
    {
     "data": {
      "text/plain": [
       "2"
      ]
     },
     "execution_count": 58,
     "metadata": {},
     "output_type": "execute_result"
    }
   ],
   "source": [
    "len(list(friends.neighbors('Arthur')))"
   ]
  },
  {
   "cell_type": "markdown",
   "metadata": {},
   "source": [
    "Of course there's already something that does that automatically for you. In this case it is a property of a graph called `.degree`. Just as a curiosity: a property is like an attribute, but under the hood it runs a method."
   ]
  },
  {
   "cell_type": "code",
   "execution_count": 59,
   "metadata": {
    "ExecuteTime": {
     "end_time": "2020-04-17T12:59:56.455666Z",
     "start_time": "2020-04-17T12:59:56.451677Z"
    }
   },
   "outputs": [
    {
     "data": {
      "text/plain": [
       "DegreeView({'Arthur': 2, 'Jenny': 2, 'Chris': 2})"
      ]
     },
     "execution_count": 59,
     "metadata": {},
     "output_type": "execute_result"
    }
   ],
   "source": [
    "friends.degree"
   ]
  },
  {
   "cell_type": "code",
   "execution_count": 60,
   "metadata": {
    "ExecuteTime": {
     "end_time": "2020-04-17T13:02:46.893708Z",
     "start_time": "2020-04-17T13:02:46.888694Z"
    }
   },
   "outputs": [
    {
     "data": {
      "text/plain": [
       "2"
      ]
     },
     "execution_count": 60,
     "metadata": {},
     "output_type": "execute_result"
    }
   ],
   "source": [
    "friends.degree['Arthur']"
   ]
  },
  {
   "cell_type": "markdown",
   "metadata": {},
   "source": [
    "## Removing nodes\n",
    "\n",
    "You can remove nodes using the `.remove_node()` method."
   ]
  },
  {
   "cell_type": "code",
   "execution_count": 61,
   "metadata": {
    "ExecuteTime": {
     "end_time": "2020-04-17T13:04:43.910645Z",
     "start_time": "2020-04-17T13:04:43.906656Z"
    },
    "slideshow": {
     "slide_type": "slide"
    }
   },
   "outputs": [],
   "source": [
    "friends.remove_node('Arthur')"
   ]
  },
  {
   "cell_type": "code",
   "execution_count": 62,
   "metadata": {
    "ExecuteTime": {
     "end_time": "2020-04-17T13:04:44.845540Z",
     "start_time": "2020-04-17T13:04:44.840524Z"
    }
   },
   "outputs": [
    {
     "data": {
      "text/plain": [
       "DegreeView({'Jenny': 1, 'Chris': 1})"
      ]
     },
     "execution_count": 62,
     "metadata": {},
     "output_type": "execute_result"
    }
   ],
   "source": [
    "friends.degree"
   ]
  },
  {
   "cell_type": "code",
   "execution_count": 64,
   "metadata": {
    "ExecuteTime": {
     "end_time": "2020-04-17T13:04:48.479532Z",
     "start_time": "2020-04-17T13:04:48.378773Z"
    }
   },
   "outputs": [
    {
     "name": "stdout",
     "output_type": "stream",
     "text": [
      "Nodes in graph: ['Jenny', 'Chris']\n",
      "Edges in graph: [('Jenny', 'Chris')]\n"
     ]
    },
    {
     "data": {
      "image/png": "[encoded data removed]",
      "text/plain": [
       "<Figure size 432x288 with 1 Axes>"
      ]
     },
     "metadata": {},
     "output_type": "display_data"
    }
   ],
   "source": [
    "view_graph(friends)"
   ]
  },
  {
   "cell_type": "markdown",
   "metadata": {},
   "source": [
    "## Removing edges\n",
    "\n",
    "You can remove connections with the `remove_edge()` method. You have to specify again both `u` and `v` nodes."
   ]
  },
  {
   "cell_type": "code",
   "execution_count": 65,
   "metadata": {
    "ExecuteTime": {
     "end_time": "2020-04-17T13:05:01.100707Z",
     "start_time": "2020-04-17T13:05:00.998955Z"
    },
    "slideshow": {
     "slide_type": "slide"
    }
   },
   "outputs": [
    {
     "name": "stdout",
     "output_type": "stream",
     "text": [
      "Nodes in graph: ['Jenny', 'Chris']\n",
      "Edges in graph: []\n"
     ]
    },
    {
     "data": {
      "image/png": "[encoded data removed]",
      "text/plain": [
       "<Figure size 432x288 with 1 Axes>"
      ]
     },
     "metadata": {},
     "output_type": "display_data"
    }
   ],
   "source": [
    "friends.remove_edge('Chris',  'Jenny')\n",
    "view_graph(friends)"
   ]
  },
  {
   "cell_type": "code",
   "execution_count": 66,
   "metadata": {
    "ExecuteTime": {
     "end_time": "2020-04-17T13:05:13.589869Z",
     "start_time": "2020-04-17T13:05:13.522050Z"
    }
   },
   "outputs": [
    {
     "ename": "TypeError",
     "evalue": "'Graph' object is not callable",
     "output_type": "error",
     "traceback": [
      "\u001b[1;31m---------------------------------------------------------------------------\u001b[0m",
      "\u001b[1;31mTypeError\u001b[0m                                 Traceback (most recent call last)",
      "\u001b[1;32m<ipython-input-66-55e1b9f3e771>\u001b[0m in \u001b[0;36m<module>\u001b[1;34m\u001b[0m\n\u001b[0;32m      1\u001b[0m \u001b[1;31m# shift-tab your own graph <3\u001b[0m\u001b[1;33m\u001b[0m\u001b[1;33m\u001b[0m\u001b[1;33m\u001b[0m\u001b[0m\n\u001b[1;32m----> 2\u001b[1;33m \u001b[0mfriends\u001b[0m\u001b[1;33m(\u001b[0m\u001b[1;33m)\u001b[0m\u001b[1;33m\u001b[0m\u001b[1;33m\u001b[0m\u001b[0m\n\u001b[0m",
      "\u001b[1;31mTypeError\u001b[0m: 'Graph' object is not callable"
     ]
    }
   ],
   "source": [
    "# shift-tab your own graph <3\n",
    "friends()"
   ]
  },
  {
   "cell_type": "markdown",
   "metadata": {},
   "source": [
    "# Another example"
   ]
  },
  {
   "cell_type": "markdown",
   "metadata": {},
   "source": [
    "## Another helper function to visualize the next example more closely."
   ]
  },
  {
   "cell_type": "code",
   "execution_count": 68,
   "metadata": {
    "ExecuteTime": {
     "end_time": "2020-04-17T13:23:06.184582Z",
     "start_time": "2020-04-17T13:23:06.178599Z"
    }
   },
   "outputs": [],
   "source": [
    "# Visualisation helper function\n",
    "def view_graph(G):\n",
    "    \"\"\"\n",
    "    View graph is a helper function that takes a graph G and plot its contents.\n",
    "    \n",
    "    This is specific for the uk_places graph below. \n",
    "    It takes its attribute and plot their labels.\n",
    "    \"\"\"\n",
    "    \n",
    "    print(f'Nodes in graph: {G.nodes}')\n",
    "    print(f'Edges in graph: {G.edges}')\n",
    "    \n",
    "    # Create a visualisation using NetworkX and draw using matplotlib\n",
    "    pos = nx.spring_layout(G)   \n",
    "    \n",
    "    # Extract node attributes and display them as labels\n",
    "    if len(nx.get_node_attributes(G, 'population')) != 0:\n",
    "        labels = {key: f'{key} : {str(value)}' for (key, value) in nx.get_node_attributes(G, 'population').items()}\n",
    "        \n",
    "        nx.draw(G, pos=pos, with_labels=True, labels=labels)\n",
    "    else:\n",
    "        nx.draw(G, pos=pos, with_labels=True)\n",
    "    # Extract edge attributes and display them as labels    \n",
    "    if len(nx.get_edge_attributes(G,'distance')) != 0:\n",
    "        edge_labels = nx.get_edge_attributes(G, 'distance')\n",
    "        nx.draw_networkx_edge_labels(G, pos=pos, labels = edge_labels)\n",
    "    plt.figure(figsize=(12,12)) \n",
    "    plt.show()"
   ]
  },
  {
   "cell_type": "markdown",
   "metadata": {},
   "source": [
    "## Directed Graphs - DiGraph\n",
    "\n",
    "Using `Digraph` class from networkx, you can create directed graphs. This means that the order now matters, the first node in a description of an edge is the `source node` and the last node is the `target node`. It is represented graphically via an arrow pointing from source to target."
   ]
  },
  {
   "cell_type": "code",
   "execution_count": 69,
   "metadata": {
    "ExecuteTime": {
     "end_time": "2020-04-17T13:23:11.649575Z",
     "start_time": "2020-04-17T13:23:11.645585Z"
    },
    "slideshow": {
     "slide_type": "slide"
    }
   },
   "outputs": [],
   "source": [
    "roads = [('London', 'Manchester'), \n",
    "         ('Manchester', 'Leeds'), \n",
    "         ('London', 'Leeds')]\n",
    "\n",
    "uk_places = nx.DiGraph(roads)"
   ]
  },
  {
   "cell_type": "code",
   "execution_count": 71,
   "metadata": {
    "ExecuteTime": {
     "end_time": "2020-04-17T13:23:15.912634Z",
     "start_time": "2020-04-17T13:23:15.802927Z"
    }
   },
   "outputs": [
    {
     "name": "stdout",
     "output_type": "stream",
     "text": [
      "Nodes in graph: ['London', 'Manchester', 'Leeds']\n",
      "Edges in graph: [('London', 'Manchester'), ('London', 'Leeds'), ('Manchester', 'Leeds')]\n"
     ]
    },
    {
     "data": {
      "image/png": "[encoded data removed]",
      "text/plain": [
       "<Figure size 432x288 with 1 Axes>"
      ]
     },
     "metadata": {},
     "output_type": "display_data"
    },
    {
     "data": {
      "text/plain": [
       "<Figure size 864x864 with 0 Axes>"
      ]
     },
     "metadata": {},
     "output_type": "display_data"
    }
   ],
   "source": [
    "view_graph(uk_places)"
   ]
  },
  {
   "cell_type": "markdown",
   "metadata": {},
   "source": [
    "## Directed Graph features: successors and predecessors"
   ]
  },
  {
   "cell_type": "code",
   "execution_count": 78,
   "metadata": {
    "ExecuteTime": {
     "end_time": "2020-04-17T13:24:56.676438Z",
     "start_time": "2020-04-17T13:24:56.672449Z"
    }
   },
   "outputs": [
    {
     "data": {
      "text/plain": [
       "['Manchester', 'Leeds']"
      ]
     },
     "execution_count": 78,
     "metadata": {},
     "output_type": "execute_result"
    }
   ],
   "source": [
    "# from London, you can go both to Manchester or Leeds\n",
    "list(uk_places.successors('London'))"
   ]
  },
  {
   "cell_type": "code",
   "execution_count": 80,
   "metadata": {
    "ExecuteTime": {
     "end_time": "2020-04-17T13:25:18.237187Z",
     "start_time": "2020-04-17T13:25:18.232201Z"
    }
   },
   "outputs": [
    {
     "data": {
      "text/plain": [
       "['Leeds']"
      ]
     },
     "execution_count": 80,
     "metadata": {},
     "output_type": "execute_result"
    }
   ],
   "source": [
    "list(uk_places.successors('Manchester'))"
   ]
  },
  {
   "cell_type": "code",
   "execution_count": 81,
   "metadata": {
    "ExecuteTime": {
     "end_time": "2020-04-17T13:25:28.034547Z",
     "start_time": "2020-04-17T13:25:28.030585Z"
    }
   },
   "outputs": [
    {
     "data": {
      "text/plain": [
       "['London']"
      ]
     },
     "execution_count": 81,
     "metadata": {},
     "output_type": "execute_result"
    }
   ],
   "source": [
    "# you can only go to Manchester from London\n",
    "list(uk_places.predecessors('Manchester'))"
   ]
  },
  {
   "cell_type": "code",
   "execution_count": 82,
   "metadata": {
    "ExecuteTime": {
     "end_time": "2020-04-17T13:25:58.105872Z",
     "start_time": "2020-04-17T13:25:58.101884Z"
    },
    "slideshow": {
     "slide_type": "slide"
    }
   },
   "outputs": [
    {
     "data": {
      "text/plain": [
       "[]"
      ]
     },
     "execution_count": 82,
     "metadata": {},
     "output_type": "execute_result"
    }
   ],
   "source": [
    "# there's no way to go to London:\n",
    "list(uk_places.predecessors('London'))"
   ]
  },
  {
   "cell_type": "markdown",
   "metadata": {},
   "source": [
    "## Subgraphs\n",
    "\n",
    "The `.subgraphs()` method creates a subset of your whole graph."
   ]
  },
  {
   "cell_type": "code",
   "execution_count": 83,
   "metadata": {
    "ExecuteTime": {
     "end_time": "2020-04-17T13:26:39.016440Z",
     "start_time": "2020-04-17T13:26:39.013421Z"
    },
    "slideshow": {
     "slide_type": "slide"
    }
   },
   "outputs": [],
   "source": [
    "subgraph = uk_places.subgraph(['London', 'Manchester'])"
   ]
  },
  {
   "cell_type": "code",
   "execution_count": 85,
   "metadata": {
    "ExecuteTime": {
     "end_time": "2020-04-17T13:26:41.625966Z",
     "start_time": "2020-04-17T13:26:41.526233Z"
    }
   },
   "outputs": [
    {
     "name": "stdout",
     "output_type": "stream",
     "text": [
      "Nodes in graph: ['London', 'Manchester']\n",
      "Edges in graph: [('London', 'Manchester')]\n"
     ]
    },
    {
     "data": {
      "image/png": "[encoded data removed]",
      "text/plain": [
       "<Figure size 432x288 with 1 Axes>"
      ]
     },
     "metadata": {},
     "output_type": "display_data"
    },
    {
     "data": {
      "text/plain": [
       "<Figure size 864x864 with 0 Axes>"
      ]
     },
     "metadata": {},
     "output_type": "display_data"
    }
   ],
   "source": [
    "view_graph(subgraph)"
   ]
  },
  {
   "cell_type": "code",
   "execution_count": 86,
   "metadata": {
    "ExecuteTime": {
     "end_time": "2020-04-17T13:27:25.813485Z",
     "start_time": "2020-04-17T13:27:25.809496Z"
    }
   },
   "outputs": [
    {
     "data": {
      "text/plain": [
       "DiDegreeView({'London': 2, 'Manchester': 2, 'Leeds': 2})"
      ]
     },
     "execution_count": 86,
     "metadata": {},
     "output_type": "execute_result"
    }
   ],
   "source": [
    "uk_places.degree"
   ]
  },
  {
   "cell_type": "markdown",
   "metadata": {},
   "source": [
    "## Degrees\n",
    "\n",
    "Along with the measure of degrees (how many nodes a node is connected to), comes the notion of `in_degree` and `out_degree`"
   ]
  },
  {
   "cell_type": "code",
   "execution_count": 87,
   "metadata": {
    "ExecuteTime": {
     "end_time": "2020-04-17T13:27:43.622626Z",
     "start_time": "2020-04-17T13:27:43.618636Z"
    },
    "slideshow": {
     "slide_type": "slide"
    }
   },
   "outputs": [
    {
     "data": {
      "text/plain": [
       "[('London', 0), ('Manchester', 1), ('Leeds', 2)]"
      ]
     },
     "execution_count": 87,
     "metadata": {},
     "output_type": "execute_result"
    }
   ],
   "source": [
    "list(uk_places.in_degree)"
   ]
  },
  {
   "cell_type": "code",
   "execution_count": 88,
   "metadata": {
    "ExecuteTime": {
     "end_time": "2020-04-17T13:28:12.409073Z",
     "start_time": "2020-04-17T13:28:12.404086Z"
    }
   },
   "outputs": [
    {
     "data": {
      "text/plain": [
       "[('London', 2), ('Manchester', 1), ('Leeds', 0)]"
      ]
     },
     "execution_count": 88,
     "metadata": {},
     "output_type": "execute_result"
    }
   ],
   "source": [
    "list(uk_places.out_degree)"
   ]
  },
  {
   "cell_type": "code",
   "execution_count": 89,
   "metadata": {
    "ExecuteTime": {
     "end_time": "2020-04-17T13:28:22.283630Z",
     "start_time": "2020-04-17T13:28:22.279666Z"
    }
   },
   "outputs": [
    {
     "data": {
      "text/plain": [
       "OutDegreeView({'London': 2, 'Manchester': 1, 'Leeds': 0})"
      ]
     },
     "execution_count": 89,
     "metadata": {},
     "output_type": "execute_result"
    }
   ],
   "source": [
    "uk_places.out_degree"
   ]
  },
  {
   "cell_type": "code",
   "execution_count": 94,
   "metadata": {
    "ExecuteTime": {
     "end_time": "2020-04-17T13:28:42.309605Z",
     "start_time": "2020-04-17T13:28:42.304618Z"
    },
    "slideshow": {
     "slide_type": "slide"
    }
   },
   "outputs": [
    {
     "data": {
      "text/plain": [
       "OutDegreeView({'Manchester': 1})"
      ]
     },
     "execution_count": 94,
     "metadata": {},
     "output_type": "execute_result"
    }
   ],
   "source": [
    "uk_places.out_degree(['Manchester'])"
   ]
  },
  {
   "cell_type": "code",
   "execution_count": 96,
   "metadata": {
    "ExecuteTime": {
     "end_time": "2020-04-17T13:29:03.970299Z",
     "start_time": "2020-04-17T13:29:03.966311Z"
    }
   },
   "outputs": [
    {
     "data": {
      "text/plain": [
       "1"
      ]
     },
     "execution_count": 96,
     "metadata": {},
     "output_type": "execute_result"
    }
   ],
   "source": [
    "uk_places.out_degree()['Manchester']"
   ]
  },
  {
   "cell_type": "markdown",
   "metadata": {},
   "source": [
    "# Adding information to your graph"
   ]
  },
  {
   "cell_type": "markdown",
   "metadata": {},
   "source": [
    "## Adding features to a node\n",
    "\n",
    "You can recall that we can obtain a node from our graph using `.nodes` attribute"
   ]
  },
  {
   "cell_type": "code",
   "execution_count": 98,
   "metadata": {
    "ExecuteTime": {
     "end_time": "2020-04-17T13:29:33.242773Z",
     "start_time": "2020-04-17T13:29:33.238810Z"
    }
   },
   "outputs": [
    {
     "data": {
      "text/plain": [
       "NodeView(('London', 'Manchester', 'Leeds'))"
      ]
     },
     "execution_count": 98,
     "metadata": {},
     "output_type": "execute_result"
    }
   ],
   "source": [
    "uk_places.nodes"
   ]
  },
  {
   "cell_type": "markdown",
   "metadata": {
    "ExecuteTime": {
     "end_time": "2020-04-17T11:42:36.265487Z",
     "start_time": "2020-04-17T11:42:36.262490Z"
    }
   },
   "source": [
    "Inside a node, you can see the `node's attribute`. By now, there are none, of course. For example, for `London`"
   ]
  },
  {
   "cell_type": "code",
   "execution_count": 101,
   "metadata": {
    "ExecuteTime": {
     "end_time": "2020-04-17T13:30:11.534737Z",
     "start_time": "2020-04-17T13:30:11.530748Z"
    }
   },
   "outputs": [
    {
     "data": {
      "text/plain": [
       "{}"
      ]
     },
     "execution_count": 101,
     "metadata": {},
     "output_type": "execute_result"
    }
   ],
   "source": [
    "uk_places.nodes['London']"
   ]
  },
  {
   "cell_type": "markdown",
   "metadata": {},
   "source": [
    "But it is, thus, like a dictionary that we can add information to:"
   ]
  },
  {
   "cell_type": "code",
   "execution_count": 103,
   "metadata": {
    "ExecuteTime": {
     "end_time": "2020-04-17T13:31:01.746573Z",
     "start_time": "2020-04-17T13:31:01.742556Z"
    },
    "slideshow": {
     "slide_type": "slide"
    }
   },
   "outputs": [],
   "source": [
    "uk_places.nodes['London']['population'] = 8000000\n",
    "uk_places.nodes['Manchester']['population'] = 500000\n",
    "uk_places.nodes['Leeds']['population'] = 470000"
   ]
  },
  {
   "cell_type": "code",
   "execution_count": null,
   "metadata": {},
   "outputs": [],
   "source": [
    "uk_places.nodes['London']['population'] = 8000000\n",
    "uk_places.nodes['Manchester']['population'] = 500000\n",
    "uk_places.nodes['Leeds']['population'] = 470000"
   ]
  },
  {
   "cell_type": "code",
   "execution_count": 106,
   "metadata": {
    "ExecuteTime": {
     "end_time": "2020-04-17T13:31:16.462389Z",
     "start_time": "2020-04-17T13:31:16.458428Z"
    }
   },
   "outputs": [
    {
     "data": {
      "text/plain": [
       "{'population': 8000000}"
      ]
     },
     "execution_count": 106,
     "metadata": {},
     "output_type": "execute_result"
    }
   ],
   "source": [
    "uk_places.nodes['London']"
   ]
  },
  {
   "cell_type": "code",
   "execution_count": 107,
   "metadata": {
    "ExecuteTime": {
     "end_time": "2020-04-17T13:32:12.067020Z",
     "start_time": "2020-04-17T13:32:11.952416Z"
    }
   },
   "outputs": [
    {
     "name": "stdout",
     "output_type": "stream",
     "text": [
      "Nodes in graph: ['London', 'Manchester', 'Leeds']\n",
      "Edges in graph: [('London', 'Manchester'), ('London', 'Leeds'), ('Manchester', 'Leeds')]\n"
     ]
    },
    {
     "data": {
      "image/png": "[encoded data removed]",
      "text/plain": [
       "<Figure size 432x288 with 1 Axes>"
      ]
     },
     "metadata": {},
     "output_type": "display_data"
    },
    {
     "data": {
      "text/plain": [
       "<Figure size 864x864 with 0 Axes>"
      ]
     },
     "metadata": {},
     "output_type": "display_data"
    }
   ],
   "source": [
    "view_graph(uk_places)"
   ]
  },
  {
   "cell_type": "markdown",
   "metadata": {},
   "source": [
    "# Adding features to edges\n",
    "\n",
    "The edges attribute is also like a dictionary, but remember, the `key` of an edge is the pair of `source node` and `target node` (`u`, `v`)"
   ]
  },
  {
   "cell_type": "code",
   "execution_count": 110,
   "metadata": {
    "ExecuteTime": {
     "end_time": "2020-04-17T13:35:30.751685Z",
     "start_time": "2020-04-17T13:35:30.746698Z"
    }
   },
   "outputs": [
    {
     "data": {
      "text/plain": [
       "{'population': 8000000}"
      ]
     },
     "execution_count": 110,
     "metadata": {},
     "output_type": "execute_result"
    }
   ],
   "source": [
    "uk_places.nodes['London']"
   ]
  },
  {
   "cell_type": "code",
   "execution_count": 111,
   "metadata": {
    "ExecuteTime": {
     "end_time": "2020-04-17T13:35:38.857504Z",
     "start_time": "2020-04-17T13:35:38.853515Z"
    }
   },
   "outputs": [
    {
     "data": {
      "text/plain": [
       "OutEdgeView([('London', 'Manchester'), ('London', 'Leeds'), ('Manchester', 'Leeds')])"
      ]
     },
     "execution_count": 111,
     "metadata": {},
     "output_type": "execute_result"
    }
   ],
   "source": [
    "uk_places.edges"
   ]
  },
  {
   "cell_type": "code",
   "execution_count": 112,
   "metadata": {
    "ExecuteTime": {
     "end_time": "2020-04-17T13:35:49.146817Z",
     "start_time": "2020-04-17T13:35:49.143796Z"
    }
   },
   "outputs": [
    {
     "data": {
      "text/plain": [
       "{}"
      ]
     },
     "execution_count": 112,
     "metadata": {},
     "output_type": "execute_result"
    }
   ],
   "source": [
    "uk_places.edges[('London', 'Manchester')]"
   ]
  },
  {
   "cell_type": "code",
   "execution_count": 113,
   "metadata": {
    "ExecuteTime": {
     "end_time": "2020-04-17T13:36:09.739310Z",
     "start_time": "2020-04-17T13:36:09.735320Z"
    }
   },
   "outputs": [
    {
     "data": {
      "text/plain": [
       "{}"
      ]
     },
     "execution_count": 113,
     "metadata": {},
     "output_type": "execute_result"
    }
   ],
   "source": [
    "# of course it is empty for now\n",
    "uk_places.edges['London', 'Leeds']"
   ]
  },
  {
   "cell_type": "code",
   "execution_count": 115,
   "metadata": {
    "ExecuteTime": {
     "end_time": "2020-04-17T13:37:25.497420Z",
     "start_time": "2020-04-17T13:37:25.367175Z"
    },
    "slideshow": {
     "slide_type": "slide"
    }
   },
   "outputs": [
    {
     "name": "stdout",
     "output_type": "stream",
     "text": [
      "Nodes in graph: ['London', 'Manchester', 'Leeds']\n",
      "Edges in graph: [('London', 'Manchester'), ('London', 'Leeds'), ('Manchester', 'Leeds')]\n"
     ]
    },
    {
     "data": {
      "image/png": "[encoded data removed]",
      "text/plain": [
       "<Figure size 432x288 with 1 Axes>"
      ]
     },
     "metadata": {},
     "output_type": "display_data"
    },
    {
     "data": {
      "text/plain": [
       "<Figure size 864x864 with 0 Axes>"
      ]
     },
     "metadata": {},
     "output_type": "display_data"
    }
   ],
   "source": [
    "# but we can add anything again, like a dictionary.\n",
    "uk_places.edges['London', 'Leeds']['distance'] = 195\n",
    "uk_places.edges['London', 'Manchester']['distance'] = 208\n",
    "uk_places.edges['Manchester', 'Leeds']['distance'] = 45\n",
    "\n",
    "view_graph(uk_places)"
   ]
  },
  {
   "cell_type": "markdown",
   "metadata": {},
   "source": [
    "## Setting node attributes all together:\n",
    "\n",
    "The methods `nx.set_node_attributes( your_graph, node_json )` and `nx.set_edge_attributes( your_graph, edge_json )` do it all together:"
   ]
  },
  {
   "cell_type": "code",
   "execution_count": 116,
   "metadata": {
    "ExecuteTime": {
     "end_time": "2020-04-17T13:38:32.865166Z",
     "start_time": "2020-04-17T13:38:32.862173Z"
    },
    "slideshow": {
     "slide_type": "slide"
    }
   },
   "outputs": [],
   "source": [
    "# see it is a dictionary of dictionaries, containing the key node: {attributtes dictionary}\n",
    "node_attributes = {'London': {'population': 4000000, 'money':10},\n",
    "                   'Manchester': {'population': 200000},\n",
    "                   'Leeds': {'population': 970000}\n",
    "                  }\n",
    "\n",
    "nx.set_node_attributes(uk_places, node_attributes)"
   ]
  },
  {
   "cell_type": "code",
   "execution_count": 117,
   "metadata": {
    "ExecuteTime": {
     "end_time": "2020-04-17T13:40:23.424132Z",
     "start_time": "2020-04-17T13:40:23.420142Z"
    }
   },
   "outputs": [],
   "source": [
    "edge_attributes = {('London', 'Leeds'): {'distance': 295},\n",
    "                   ('London', 'Manchester'): {'distance': 508},\n",
    "                   ('Manchester', 'Leeds'): {'distance': 450},\n",
    "        }\n",
    "\n",
    "nx.set_edge_attributes(uk_places, edge_attributes)"
   ]
  },
  {
   "cell_type": "code",
   "execution_count": 119,
   "metadata": {
    "ExecuteTime": {
     "end_time": "2020-04-17T13:40:27.316081Z",
     "start_time": "2020-04-17T13:40:27.191590Z"
    }
   },
   "outputs": [
    {
     "name": "stdout",
     "output_type": "stream",
     "text": [
      "Nodes in graph: ['London', 'Manchester', 'Leeds']\n",
      "Edges in graph: [('London', 'Manchester'), ('London', 'Leeds'), ('Manchester', 'Leeds')]\n"
     ]
    },
    {
     "data": {
      "image/png": "[encoded data removed]",
      "text/plain": [
       "<Figure size 432x288 with 1 Axes>"
      ]
     },
     "metadata": {},
     "output_type": "display_data"
    },
    {
     "data": {
      "text/plain": [
       "<Figure size 864x864 with 0 Axes>"
      ]
     },
     "metadata": {},
     "output_type": "display_data"
    }
   ],
   "source": [
    "view_graph(uk_places)"
   ]
  }
 ],
 "metadata": {
  "kernelspec": {
   "display_name": "Python 3",
   "language": "python",
   "name": "python3"
  },
  "language_info": {
   "codemirror_mode": {
    "name": "ipython",
    "version": 3
   },
   "file_extension": ".py",
   "mimetype": "text/x-python",
   "name": "python",
   "nbconvert_exporter": "python",
   "pygments_lexer": "ipython3",
   "version": "3.7.4"
  },
  "livereveal": {
   "transition": "zoomy"
  },
  "toc": {
   "base_numbering": 1,
   "nav_menu": {},
   "number_sections": true,
   "sideBar": true,
   "skip_h1_title": false,
   "title_cell": "Table of Contents",
   "title_sidebar": "Contents",
   "toc_cell": false,
   "toc_position": {},
   "toc_section_display": true,
   "toc_window_display": false
  },
  "varInspector": {
   "cols": {
    "lenName": 16,
    "lenType": 16,
    "lenVar": 40
   },
   "kernels_config": {
    "python": {
     "delete_cmd_postfix": "",
     "delete_cmd_prefix": "del ",
     "library": "var_list.py",
     "varRefreshCmd": "print(var_dic_list())"
    },
    "r": {
     "delete_cmd_postfix": ") ",
     "delete_cmd_prefix": "rm(",
     "library": "var_list.r",
     "varRefreshCmd": "cat(var_dic_list()) "
    }
   },
   "types_to_exclude": [
    "module",
    "function",
    "builtin_function_or_method",
    "instance",
    "_Feature"
   ],
   "window_display": false
  }
 },
 "nbformat": 4,
 "nbformat_minor": 2
}
