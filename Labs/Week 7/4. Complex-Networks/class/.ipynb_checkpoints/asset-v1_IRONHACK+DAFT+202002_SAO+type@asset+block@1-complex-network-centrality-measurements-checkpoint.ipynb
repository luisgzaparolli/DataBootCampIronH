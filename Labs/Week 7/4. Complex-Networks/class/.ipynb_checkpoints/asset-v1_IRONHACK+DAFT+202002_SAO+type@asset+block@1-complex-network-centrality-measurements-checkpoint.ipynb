{
 "cells": [
  {
   "cell_type": "markdown",
   "metadata": {},
   "source": [
    "import matplotlib.pyplot as plt\n",
    "import numpy as np\n",
    "# ^^^ pyforest auto-imports - don't write above this line\n",
    "# Centrality Measures"
   ]
  },
  {
   "cell_type": "code",
   "execution_count": 226,
   "metadata": {
    "ExecuteTime": {
     "end_time": "2020-04-17T15:02:06.436866Z",
     "start_time": "2020-04-17T15:02:05.735364Z"
    }
   },
   "outputs": [],
   "source": [
    "import pandas as pd\n",
    "df = pd.read_csv('https://raw.githubusercontent.com/rfordatascience/tidytuesday/master/data/2019/2019-02-26/small_trains.csv')"
   ]
  },
  {
   "cell_type": "code",
   "execution_count": 227,
   "metadata": {
    "ExecuteTime": {
     "end_time": "2020-04-17T15:02:06.448881Z",
     "start_time": "2020-04-17T15:02:06.438861Z"
    }
   },
   "outputs": [
    {
     "data": {
      "text/html": [
       "<div>\n",
       "<style scoped>\n",
       "    .dataframe tbody tr th:only-of-type {\n",
       "        vertical-align: middle;\n",
       "    }\n",
       "\n",
       "    .dataframe tbody tr th {\n",
       "        vertical-align: top;\n",
       "    }\n",
       "\n",
       "    .dataframe thead th {\n",
       "        text-align: right;\n",
       "    }\n",
       "</style>\n",
       "<table border=\"1\" class=\"dataframe\">\n",
       "  <thead>\n",
       "    <tr style=\"text-align: right;\">\n",
       "      <th></th>\n",
       "      <th>year</th>\n",
       "      <th>month</th>\n",
       "      <th>service</th>\n",
       "      <th>departure_station</th>\n",
       "      <th>arrival_station</th>\n",
       "      <th>journey_time_avg</th>\n",
       "      <th>total_num_trips</th>\n",
       "      <th>avg_delay_all_departing</th>\n",
       "      <th>avg_delay_all_arriving</th>\n",
       "      <th>num_late_at_departure</th>\n",
       "      <th>num_arriving_late</th>\n",
       "      <th>delay_cause</th>\n",
       "      <th>delayed_number</th>\n",
       "    </tr>\n",
       "  </thead>\n",
       "  <tbody>\n",
       "    <tr>\n",
       "      <td>0</td>\n",
       "      <td>2017</td>\n",
       "      <td>9</td>\n",
       "      <td>National</td>\n",
       "      <td>PARIS EST</td>\n",
       "      <td>METZ</td>\n",
       "      <td>85.133779</td>\n",
       "      <td>299</td>\n",
       "      <td>0.752007</td>\n",
       "      <td>0.419844</td>\n",
       "      <td>15</td>\n",
       "      <td>17.0</td>\n",
       "      <td>delay_cause_external_cause</td>\n",
       "      <td>0.250000</td>\n",
       "    </tr>\n",
       "    <tr>\n",
       "      <td>1</td>\n",
       "      <td>2017</td>\n",
       "      <td>9</td>\n",
       "      <td>National</td>\n",
       "      <td>REIMS</td>\n",
       "      <td>PARIS EST</td>\n",
       "      <td>47.064516</td>\n",
       "      <td>218</td>\n",
       "      <td>1.263518</td>\n",
       "      <td>1.137558</td>\n",
       "      <td>10</td>\n",
       "      <td>23.0</td>\n",
       "      <td>delay_cause_external_cause</td>\n",
       "      <td>0.250000</td>\n",
       "    </tr>\n",
       "    <tr>\n",
       "      <td>2</td>\n",
       "      <td>2017</td>\n",
       "      <td>9</td>\n",
       "      <td>National</td>\n",
       "      <td>PARIS EST</td>\n",
       "      <td>STRASBOURG</td>\n",
       "      <td>116.234940</td>\n",
       "      <td>333</td>\n",
       "      <td>1.139257</td>\n",
       "      <td>1.586396</td>\n",
       "      <td>20</td>\n",
       "      <td>19.0</td>\n",
       "      <td>delay_cause_external_cause</td>\n",
       "      <td>0.214286</td>\n",
       "    </tr>\n",
       "    <tr>\n",
       "      <td>3</td>\n",
       "      <td>2017</td>\n",
       "      <td>9</td>\n",
       "      <td>National</td>\n",
       "      <td>PARIS LYON</td>\n",
       "      <td>AVIGNON TGV</td>\n",
       "      <td>161.089583</td>\n",
       "      <td>481</td>\n",
       "      <td>1.406215</td>\n",
       "      <td>4.788542</td>\n",
       "      <td>36</td>\n",
       "      <td>61.0</td>\n",
       "      <td>delay_cause_external_cause</td>\n",
       "      <td>0.155172</td>\n",
       "    </tr>\n",
       "    <tr>\n",
       "      <td>4</td>\n",
       "      <td>2017</td>\n",
       "      <td>9</td>\n",
       "      <td>National</td>\n",
       "      <td>PARIS LYON</td>\n",
       "      <td>BELLEGARDE (AIN)</td>\n",
       "      <td>164.452632</td>\n",
       "      <td>190</td>\n",
       "      <td>1.728947</td>\n",
       "      <td>6.008860</td>\n",
       "      <td>16</td>\n",
       "      <td>38.0</td>\n",
       "      <td>delay_cause_external_cause</td>\n",
       "      <td>0.166667</td>\n",
       "    </tr>\n",
       "  </tbody>\n",
       "</table>\n",
       "</div>"
      ],
      "text/plain": [
       "   year  month   service departure_station   arrival_station  \\\n",
       "0  2017      9  National         PARIS EST              METZ   \n",
       "1  2017      9  National             REIMS         PARIS EST   \n",
       "2  2017      9  National         PARIS EST        STRASBOURG   \n",
       "3  2017      9  National        PARIS LYON       AVIGNON TGV   \n",
       "4  2017      9  National        PARIS LYON  BELLEGARDE (AIN)   \n",
       "\n",
       "   journey_time_avg  total_num_trips  avg_delay_all_departing  \\\n",
       "0         85.133779              299                 0.752007   \n",
       "1         47.064516              218                 1.263518   \n",
       "2        116.234940              333                 1.139257   \n",
       "3        161.089583              481                 1.406215   \n",
       "4        164.452632              190                 1.728947   \n",
       "\n",
       "   avg_delay_all_arriving  num_late_at_departure  num_arriving_late  \\\n",
       "0                0.419844                     15               17.0   \n",
       "1                1.137558                     10               23.0   \n",
       "2                1.586396                     20               19.0   \n",
       "3                4.788542                     36               61.0   \n",
       "4                6.008860                     16               38.0   \n",
       "\n",
       "                  delay_cause  delayed_number  \n",
       "0  delay_cause_external_cause        0.250000  \n",
       "1  delay_cause_external_cause        0.250000  \n",
       "2  delay_cause_external_cause        0.214286  \n",
       "3  delay_cause_external_cause        0.155172  \n",
       "4  delay_cause_external_cause        0.166667  "
      ]
     },
     "execution_count": 227,
     "metadata": {},
     "output_type": "execute_result"
    }
   ],
   "source": [
    "df.head()"
   ]
  },
  {
   "cell_type": "code",
   "execution_count": 228,
   "metadata": {
    "ExecuteTime": {
     "end_time": "2020-04-17T15:02:06.459838Z",
     "start_time": "2020-04-17T15:02:06.449835Z"
    }
   },
   "outputs": [
    {
     "data": {
      "text/html": [
       "<div>\n",
       "<style scoped>\n",
       "    .dataframe tbody tr th:only-of-type {\n",
       "        vertical-align: middle;\n",
       "    }\n",
       "\n",
       "    .dataframe tbody tr th {\n",
       "        vertical-align: top;\n",
       "    }\n",
       "\n",
       "    .dataframe thead th {\n",
       "        text-align: right;\n",
       "    }\n",
       "</style>\n",
       "<table border=\"1\" class=\"dataframe\">\n",
       "  <thead>\n",
       "    <tr style=\"text-align: right;\">\n",
       "      <th></th>\n",
       "      <th>departure_station</th>\n",
       "      <th>arrival_station</th>\n",
       "    </tr>\n",
       "  </thead>\n",
       "  <tbody>\n",
       "    <tr>\n",
       "      <td>0</td>\n",
       "      <td>PARIS EST</td>\n",
       "      <td>METZ</td>\n",
       "    </tr>\n",
       "    <tr>\n",
       "      <td>1</td>\n",
       "      <td>REIMS</td>\n",
       "      <td>PARIS EST</td>\n",
       "    </tr>\n",
       "    <tr>\n",
       "      <td>2</td>\n",
       "      <td>PARIS EST</td>\n",
       "      <td>STRASBOURG</td>\n",
       "    </tr>\n",
       "    <tr>\n",
       "      <td>3</td>\n",
       "      <td>PARIS LYON</td>\n",
       "      <td>AVIGNON TGV</td>\n",
       "    </tr>\n",
       "    <tr>\n",
       "      <td>4</td>\n",
       "      <td>PARIS LYON</td>\n",
       "      <td>BELLEGARDE (AIN)</td>\n",
       "    </tr>\n",
       "    <tr>\n",
       "      <td>...</td>\n",
       "      <td>...</td>\n",
       "      <td>...</td>\n",
       "    </tr>\n",
       "    <tr>\n",
       "      <td>32767</td>\n",
       "      <td>ANGOULEME</td>\n",
       "      <td>PARIS MONTPARNASSE</td>\n",
       "    </tr>\n",
       "    <tr>\n",
       "      <td>32768</td>\n",
       "      <td>TOULOUSE MATABIAU</td>\n",
       "      <td>PARIS MONTPARNASSE</td>\n",
       "    </tr>\n",
       "    <tr>\n",
       "      <td>32769</td>\n",
       "      <td>PARIS MONTPARNASSE</td>\n",
       "      <td>TOURS</td>\n",
       "    </tr>\n",
       "    <tr>\n",
       "      <td>32770</td>\n",
       "      <td>PARIS MONTPARNASSE</td>\n",
       "      <td>LAVAL</td>\n",
       "    </tr>\n",
       "    <tr>\n",
       "      <td>32771</td>\n",
       "      <td>ST MALO</td>\n",
       "      <td>PARIS MONTPARNASSE</td>\n",
       "    </tr>\n",
       "  </tbody>\n",
       "</table>\n",
       "<p>32772 rows × 2 columns</p>\n",
       "</div>"
      ],
      "text/plain": [
       "        departure_station     arrival_station\n",
       "0               PARIS EST                METZ\n",
       "1                   REIMS           PARIS EST\n",
       "2               PARIS EST          STRASBOURG\n",
       "3              PARIS LYON         AVIGNON TGV\n",
       "4              PARIS LYON    BELLEGARDE (AIN)\n",
       "...                   ...                 ...\n",
       "32767           ANGOULEME  PARIS MONTPARNASSE\n",
       "32768   TOULOUSE MATABIAU  PARIS MONTPARNASSE\n",
       "32769  PARIS MONTPARNASSE               TOURS\n",
       "32770  PARIS MONTPARNASSE               LAVAL\n",
       "32771             ST MALO  PARIS MONTPARNASSE\n",
       "\n",
       "[32772 rows x 2 columns]"
      ]
     },
     "execution_count": 228,
     "metadata": {},
     "output_type": "execute_result"
    }
   ],
   "source": [
    "data = df[['departure_station','arrival_station']]\n",
    "data"
   ]
  },
  {
   "cell_type": "code",
   "execution_count": 229,
   "metadata": {
    "ExecuteTime": {
     "end_time": "2020-04-17T15:02:06.463819Z",
     "start_time": "2020-04-17T15:02:06.460803Z"
    }
   },
   "outputs": [],
   "source": [
    "import networkx as nx"
   ]
  },
  {
   "cell_type": "code",
   "execution_count": 230,
   "metadata": {
    "ExecuteTime": {
     "end_time": "2020-04-17T15:02:06.546573Z",
     "start_time": "2020-04-17T15:02:06.540589Z"
    }
   },
   "outputs": [
    {
     "data": {
      "text/html": [
       "<div>\n",
       "<style scoped>\n",
       "    .dataframe tbody tr th:only-of-type {\n",
       "        vertical-align: middle;\n",
       "    }\n",
       "\n",
       "    .dataframe tbody tr th {\n",
       "        vertical-align: top;\n",
       "    }\n",
       "\n",
       "    .dataframe thead th {\n",
       "        text-align: right;\n",
       "    }\n",
       "</style>\n",
       "<table border=\"1\" class=\"dataframe\">\n",
       "  <thead>\n",
       "    <tr style=\"text-align: right;\">\n",
       "      <th></th>\n",
       "      <th>departure_station</th>\n",
       "      <th>arrival_station</th>\n",
       "    </tr>\n",
       "  </thead>\n",
       "  <tbody>\n",
       "    <tr>\n",
       "      <td>0</td>\n",
       "      <td>PARIS EST</td>\n",
       "      <td>METZ</td>\n",
       "    </tr>\n",
       "    <tr>\n",
       "      <td>1</td>\n",
       "      <td>REIMS</td>\n",
       "      <td>PARIS EST</td>\n",
       "    </tr>\n",
       "    <tr>\n",
       "      <td>2</td>\n",
       "      <td>PARIS EST</td>\n",
       "      <td>STRASBOURG</td>\n",
       "    </tr>\n",
       "    <tr>\n",
       "      <td>3</td>\n",
       "      <td>PARIS LYON</td>\n",
       "      <td>AVIGNON TGV</td>\n",
       "    </tr>\n",
       "    <tr>\n",
       "      <td>4</td>\n",
       "      <td>PARIS LYON</td>\n",
       "      <td>BELLEGARDE (AIN)</td>\n",
       "    </tr>\n",
       "  </tbody>\n",
       "</table>\n",
       "</div>"
      ],
      "text/plain": [
       "  departure_station   arrival_station\n",
       "0         PARIS EST              METZ\n",
       "1             REIMS         PARIS EST\n",
       "2         PARIS EST        STRASBOURG\n",
       "3        PARIS LYON       AVIGNON TGV\n",
       "4        PARIS LYON  BELLEGARDE (AIN)"
      ]
     },
     "execution_count": 230,
     "metadata": {},
     "output_type": "execute_result"
    }
   ],
   "source": [
    "data.head()"
   ]
  },
  {
   "cell_type": "code",
   "execution_count": 231,
   "metadata": {
    "ExecuteTime": {
     "end_time": "2020-04-17T15:02:06.958331Z",
     "start_time": "2020-04-17T15:02:06.922363Z"
    }
   },
   "outputs": [],
   "source": [
    "G = nx.from_pandas_edgelist(data, 'departure_station', 'arrival_station', create_using=nx.DiGraph)"
   ]
  },
  {
   "cell_type": "code",
   "execution_count": 236,
   "metadata": {
    "ExecuteTime": {
     "end_time": "2020-04-17T15:02:54.905414Z",
     "start_time": "2020-04-17T15:02:54.494952Z"
    }
   },
   "outputs": [
    {
     "data": {
      "application/javascript": [
       "\n",
       "        if (window._pyforest_update_imports_cell) { window._pyforest_update_imports_cell('import matplotlib.pyplot as plt'); }\n",
       "    "
      ],
      "text/plain": [
       "<IPython.core.display.Javascript object>"
      ]
     },
     "metadata": {},
     "output_type": "display_data"
    },
    {
     "data": {
      "image/png": "[encoded data removed]",
      "text/plain": [
       "<Figure size 1080x720 with 1 Axes>"
      ]
     },
     "metadata": {},
     "output_type": "display_data"
    }
   ],
   "source": [
    "plt.figure(figsize=(15,10))\n",
    "nx.draw(G, node_size=50)"
   ]
  },
  {
   "cell_type": "code",
   "execution_count": 238,
   "metadata": {
    "ExecuteTime": {
     "end_time": "2020-04-17T15:03:50.896448Z",
     "start_time": "2020-04-17T15:03:50.889436Z"
    }
   },
   "outputs": [
    {
     "data": {
      "application/javascript": [
       "\n",
       "        if (window._pyforest_update_imports_cell) { window._pyforest_update_imports_cell('import matplotlib.pyplot as plt\\nimport numpy as np'); }\n",
       "    "
      ],
      "text/plain": [
       "<IPython.core.display.Javascript object>"
      ]
     },
     "metadata": {},
     "output_type": "display_data"
    },
    {
     "name": "stderr",
     "output_type": "stream",
     "text": [
      "c:\\programas\\anaconda3\\lib\\site-packages\\ipykernel_launcher.py:1: SettingWithCopyWarning: \n",
      "A value is trying to be set on a copy of a slice from a DataFrame.\n",
      "Try using .loc[row_indexer,col_indexer] = value instead\n",
      "\n",
      "See the caveats in the documentation: http://pandas.pydata.org/pandas-docs/stable/user_guide/indexing.html#returning-a-view-versus-a-copy\n",
      "  \"\"\"Entry point for launching an IPython kernel.\n"
     ]
    }
   ],
   "source": [
    "data['distance'] = np.random.randint(1, 100, size=data.shape[0])"
   ]
  },
  {
   "cell_type": "code",
   "execution_count": 241,
   "metadata": {
    "ExecuteTime": {
     "end_time": "2020-04-17T15:04:42.018470Z",
     "start_time": "2020-04-17T15:04:42.012487Z"
    }
   },
   "outputs": [
    {
     "data": {
      "text/html": [
       "<div>\n",
       "<style scoped>\n",
       "    .dataframe tbody tr th:only-of-type {\n",
       "        vertical-align: middle;\n",
       "    }\n",
       "\n",
       "    .dataframe tbody tr th {\n",
       "        vertical-align: top;\n",
       "    }\n",
       "\n",
       "    .dataframe thead th {\n",
       "        text-align: right;\n",
       "    }\n",
       "</style>\n",
       "<table border=\"1\" class=\"dataframe\">\n",
       "  <thead>\n",
       "    <tr style=\"text-align: right;\">\n",
       "      <th></th>\n",
       "      <th>departure_station</th>\n",
       "      <th>arrival_station</th>\n",
       "      <th>distance</th>\n",
       "    </tr>\n",
       "  </thead>\n",
       "  <tbody>\n",
       "    <tr>\n",
       "      <td>0</td>\n",
       "      <td>PARIS EST</td>\n",
       "      <td>METZ</td>\n",
       "      <td>72</td>\n",
       "    </tr>\n",
       "    <tr>\n",
       "      <td>1</td>\n",
       "      <td>REIMS</td>\n",
       "      <td>PARIS EST</td>\n",
       "      <td>84</td>\n",
       "    </tr>\n",
       "    <tr>\n",
       "      <td>2</td>\n",
       "      <td>PARIS EST</td>\n",
       "      <td>STRASBOURG</td>\n",
       "      <td>83</td>\n",
       "    </tr>\n",
       "    <tr>\n",
       "      <td>3</td>\n",
       "      <td>PARIS LYON</td>\n",
       "      <td>AVIGNON TGV</td>\n",
       "      <td>60</td>\n",
       "    </tr>\n",
       "    <tr>\n",
       "      <td>4</td>\n",
       "      <td>PARIS LYON</td>\n",
       "      <td>BELLEGARDE (AIN)</td>\n",
       "      <td>55</td>\n",
       "    </tr>\n",
       "  </tbody>\n",
       "</table>\n",
       "</div>"
      ],
      "text/plain": [
       "  departure_station   arrival_station  distance\n",
       "0         PARIS EST              METZ        72\n",
       "1             REIMS         PARIS EST        84\n",
       "2         PARIS EST        STRASBOURG        83\n",
       "3        PARIS LYON       AVIGNON TGV        60\n",
       "4        PARIS LYON  BELLEGARDE (AIN)        55"
      ]
     },
     "execution_count": 241,
     "metadata": {},
     "output_type": "execute_result"
    }
   ],
   "source": [
    "data.head()"
   ]
  },
  {
   "cell_type": "code",
   "execution_count": 242,
   "metadata": {
    "ExecuteTime": {
     "end_time": "2020-04-17T15:04:42.857646Z",
     "start_time": "2020-04-17T15:04:42.767793Z"
    }
   },
   "outputs": [],
   "source": [
    "G = nx.from_pandas_edgelist(data, 'departure_station', 'arrival_station', edge_attr='distance')"
   ]
  },
  {
   "cell_type": "code",
   "execution_count": 245,
   "metadata": {
    "ExecuteTime": {
     "end_time": "2020-04-17T15:05:04.277615Z",
     "start_time": "2020-04-17T15:05:04.273626Z"
    }
   },
   "outputs": [
    {
     "data": {
      "text/plain": [
       "{'distance': 90}"
      ]
     },
     "execution_count": 245,
     "metadata": {},
     "output_type": "execute_result"
    }
   ],
   "source": [
    "G.edges[('PARIS EST', 'METZ')]"
   ]
  },
  {
   "cell_type": "code",
   "execution_count": 239,
   "metadata": {
    "ExecuteTime": {
     "end_time": "2020-04-17T15:03:54.377466Z",
     "start_time": "2020-04-17T15:03:54.369487Z"
    }
   },
   "outputs": [
    {
     "data": {
      "text/html": [
       "<div>\n",
       "<style scoped>\n",
       "    .dataframe tbody tr th:only-of-type {\n",
       "        vertical-align: middle;\n",
       "    }\n",
       "\n",
       "    .dataframe tbody tr th {\n",
       "        vertical-align: top;\n",
       "    }\n",
       "\n",
       "    .dataframe thead th {\n",
       "        text-align: right;\n",
       "    }\n",
       "</style>\n",
       "<table border=\"1\" class=\"dataframe\">\n",
       "  <thead>\n",
       "    <tr style=\"text-align: right;\">\n",
       "      <th></th>\n",
       "      <th>departure_station</th>\n",
       "      <th>arrival_station</th>\n",
       "      <th>distance</th>\n",
       "    </tr>\n",
       "  </thead>\n",
       "  <tbody>\n",
       "    <tr>\n",
       "      <td>0</td>\n",
       "      <td>PARIS EST</td>\n",
       "      <td>METZ</td>\n",
       "      <td>72</td>\n",
       "    </tr>\n",
       "    <tr>\n",
       "      <td>1</td>\n",
       "      <td>REIMS</td>\n",
       "      <td>PARIS EST</td>\n",
       "      <td>84</td>\n",
       "    </tr>\n",
       "    <tr>\n",
       "      <td>2</td>\n",
       "      <td>PARIS EST</td>\n",
       "      <td>STRASBOURG</td>\n",
       "      <td>83</td>\n",
       "    </tr>\n",
       "    <tr>\n",
       "      <td>3</td>\n",
       "      <td>PARIS LYON</td>\n",
       "      <td>AVIGNON TGV</td>\n",
       "      <td>60</td>\n",
       "    </tr>\n",
       "    <tr>\n",
       "      <td>4</td>\n",
       "      <td>PARIS LYON</td>\n",
       "      <td>BELLEGARDE (AIN)</td>\n",
       "      <td>55</td>\n",
       "    </tr>\n",
       "    <tr>\n",
       "      <td>...</td>\n",
       "      <td>...</td>\n",
       "      <td>...</td>\n",
       "      <td>...</td>\n",
       "    </tr>\n",
       "    <tr>\n",
       "      <td>32767</td>\n",
       "      <td>ANGOULEME</td>\n",
       "      <td>PARIS MONTPARNASSE</td>\n",
       "      <td>50</td>\n",
       "    </tr>\n",
       "    <tr>\n",
       "      <td>32768</td>\n",
       "      <td>TOULOUSE MATABIAU</td>\n",
       "      <td>PARIS MONTPARNASSE</td>\n",
       "      <td>68</td>\n",
       "    </tr>\n",
       "    <tr>\n",
       "      <td>32769</td>\n",
       "      <td>PARIS MONTPARNASSE</td>\n",
       "      <td>TOURS</td>\n",
       "      <td>28</td>\n",
       "    </tr>\n",
       "    <tr>\n",
       "      <td>32770</td>\n",
       "      <td>PARIS MONTPARNASSE</td>\n",
       "      <td>LAVAL</td>\n",
       "      <td>15</td>\n",
       "    </tr>\n",
       "    <tr>\n",
       "      <td>32771</td>\n",
       "      <td>ST MALO</td>\n",
       "      <td>PARIS MONTPARNASSE</td>\n",
       "      <td>42</td>\n",
       "    </tr>\n",
       "  </tbody>\n",
       "</table>\n",
       "<p>32772 rows × 3 columns</p>\n",
       "</div>"
      ],
      "text/plain": [
       "        departure_station     arrival_station  distance\n",
       "0               PARIS EST                METZ        72\n",
       "1                   REIMS           PARIS EST        84\n",
       "2               PARIS EST          STRASBOURG        83\n",
       "3              PARIS LYON         AVIGNON TGV        60\n",
       "4              PARIS LYON    BELLEGARDE (AIN)        55\n",
       "...                   ...                 ...       ...\n",
       "32767           ANGOULEME  PARIS MONTPARNASSE        50\n",
       "32768   TOULOUSE MATABIAU  PARIS MONTPARNASSE        68\n",
       "32769  PARIS MONTPARNASSE               TOURS        28\n",
       "32770  PARIS MONTPARNASSE               LAVAL        15\n",
       "32771             ST MALO  PARIS MONTPARNASSE        42\n",
       "\n",
       "[32772 rows x 3 columns]"
      ]
     },
     "execution_count": 239,
     "metadata": {},
     "output_type": "execute_result"
    }
   ],
   "source": [
    "data"
   ]
  },
  {
   "cell_type": "code",
   "execution_count": null,
   "metadata": {},
   "outputs": [],
   "source": []
  },
  {
   "cell_type": "code",
   "execution_count": null,
   "metadata": {},
   "outputs": [],
   "source": []
  },
  {
   "cell_type": "code",
   "execution_count": 224,
   "metadata": {
    "ExecuteTime": {
     "end_time": "2020-04-17T14:52:18.928645Z",
     "start_time": "2020-04-17T14:52:18.924656Z"
    }
   },
   "outputs": [],
   "source": [
    "G.edges['METZ','PARIS EST']['cost'] = 10\n",
    "\n",
    "G.edges['PARIS EST','METZ']['cost'] = 15"
   ]
  },
  {
   "cell_type": "code",
   "execution_count": 225,
   "metadata": {
    "ExecuteTime": {
     "end_time": "2020-04-17T14:52:28.046090Z",
     "start_time": "2020-04-17T14:52:28.042101Z"
    }
   },
   "outputs": [
    {
     "data": {
      "text/plain": [
       "{'cost': 10}"
      ]
     },
     "execution_count": 225,
     "metadata": {},
     "output_type": "execute_result"
    }
   ],
   "source": [
    "G.edges['METZ','PARIS EST']"
   ]
  },
  {
   "cell_type": "code",
   "execution_count": 155,
   "metadata": {
    "ExecuteTime": {
     "end_time": "2020-04-17T14:23:37.907808Z",
     "start_time": "2020-04-17T14:23:37.903820Z"
    }
   },
   "outputs": [
    {
     "data": {
      "text/plain": [
       "OutDegreeView({'PARIS EST': 6, 'METZ': 1, 'REIMS': 1, 'STRASBOURG': 2, 'PARIS LYON': 25, 'AVIGNON TGV': 1, 'BELLEGARDE (AIN)': 1, 'BESANCON FRANCHE COMTE TGV': 1, 'CHAMBERY CHALLES LES EAUX': 1, 'GRENOBLE': 1, 'LYON PART DIEU': 6, 'MACON LOCHE': 1, 'MARSEILLE ST CHARLES': 6, 'MONTPELLIER': 2, 'MULHOUSE VILLE': 1, 'PARIS MONTPARNASSE': 16, 'ANGERS SAINT LAUD': 1, 'BORDEAUX ST JEAN': 3, 'LA ROCHELLE VILLE': 1, 'POITIERS': 1, 'RENNES': 3, 'VANNES': 1, 'LILLE': 3, 'FRANCFORT': 1, 'LAUSANNE': 1, 'DOUAI': 1, 'PARIS NORD': 4, 'NANCY': 1, 'LE CREUSOT MONTCEAU MONTCHANIN': 1, 'NICE VILLE': 1, 'ZURICH': 1, 'NANTES': 3, 'DUNKERQUE': 1, 'PERPIGNAN': 1, 'SAINT ETIENNE CHATEAUCREUX': 1, 'ST PIERRE DES CORPS': 1, 'VALENCE ALIXAN TGV': 1, 'DIJON VILLE': 1, 'LAVAL': 1, 'QUIMPER': 1, 'TOULOUSE MATABIAU': 1, 'ARRAS': 1, 'NIMES': 1, 'TOULON': 1, 'LE MANS': 1, 'STUTTGART': 1, 'GENEVE': 1, 'ITALIE': 1, 'ANGOULEME': 1, 'ST MALO': 1, 'TOURS': 1, 'BREST': 1, 'AIX EN PROVENCE TGV': 1, 'ANNECY': 1, 'TOURCOING': 2, 'MARNE LA VALLEE': 2, 'BARCELONA': 1, 'PARIS VAUGIRARD': 3, 'MADRID': 1})"
      ]
     },
     "execution_count": 155,
     "metadata": {},
     "output_type": "execute_result"
    }
   ],
   "source": [
    "G.out_degree()"
   ]
  },
  {
   "cell_type": "code",
   "execution_count": 180,
   "metadata": {
    "ExecuteTime": {
     "end_time": "2020-04-17T14:26:37.422465Z",
     "start_time": "2020-04-17T14:26:37.418476Z"
    }
   },
   "outputs": [],
   "source": [
    "for ind, oud in zip(dict(G.out_degree()).values(), dict(G.in_degree()).values()):\n",
    "    if ind != oud:\n",
    "        print(ind, oud)"
   ]
  },
  {
   "cell_type": "code",
   "execution_count": 181,
   "metadata": {
    "ExecuteTime": {
     "end_time": "2020-04-17T14:26:48.946944Z",
     "start_time": "2020-04-17T14:26:48.943953Z"
    },
    "scrolled": true
   },
   "outputs": [],
   "source": [
    "# extra: calculate shortest path: nx.shortest_path(G, 'METZ','PARIS LYON', weights='cost')"
   ]
  },
  {
   "cell_type": "code",
   "execution_count": 144,
   "metadata": {
    "ExecuteTime": {
     "end_time": "2020-04-17T14:21:46.303299Z",
     "start_time": "2020-04-17T14:21:46.299282Z"
    }
   },
   "outputs": [
    {
     "data": {
      "text/plain": [
       "NodeView(('PARIS EST', 'METZ', 'REIMS', 'STRASBOURG', 'PARIS LYON', 'AVIGNON TGV', 'BELLEGARDE (AIN)', 'BESANCON FRANCHE COMTE TGV', 'CHAMBERY CHALLES LES EAUX', 'GRENOBLE', 'LYON PART DIEU', 'MACON LOCHE', 'MARSEILLE ST CHARLES', 'MONTPELLIER', 'MULHOUSE VILLE', 'PARIS MONTPARNASSE', 'ANGERS SAINT LAUD', 'BORDEAUX ST JEAN', 'LA ROCHELLE VILLE', 'POITIERS', 'RENNES', 'VANNES', 'LILLE', 'FRANCFORT', 'LAUSANNE', 'DOUAI', 'PARIS NORD', 'NANCY', 'LE CREUSOT MONTCEAU MONTCHANIN', 'NICE VILLE', 'ZURICH', 'NANTES', 'DUNKERQUE', 'PERPIGNAN', 'SAINT ETIENNE CHATEAUCREUX', 'ST PIERRE DES CORPS', 'VALENCE ALIXAN TGV', 'DIJON VILLE', 'LAVAL', 'QUIMPER', 'TOULOUSE MATABIAU', 'ARRAS', 'NIMES', 'TOULON', 'LE MANS', 'STUTTGART', 'GENEVE', 'ITALIE', 'ANGOULEME', 'ST MALO', 'TOURS', 'BREST', 'AIX EN PROVENCE TGV', 'ANNECY', 'TOURCOING', 'MARNE LA VALLEE', 'BARCELONA', 'PARIS VAUGIRARD', 'MADRID'))"
      ]
     },
     "execution_count": 144,
     "metadata": {},
     "output_type": "execute_result"
    }
   ],
   "source": [
    "G.nodes"
   ]
  },
  {
   "cell_type": "code",
   "execution_count": 182,
   "metadata": {
    "ExecuteTime": {
     "end_time": "2020-04-17T14:26:54.058889Z",
     "start_time": "2020-04-17T14:26:54.054899Z"
    }
   },
   "outputs": [
    {
     "data": {
      "text/plain": [
       "59"
      ]
     },
     "execution_count": 182,
     "metadata": {},
     "output_type": "execute_result"
    }
   ],
   "source": [
    "# number of nodes in a graph\n",
    "G.order()"
   ]
  },
  {
   "cell_type": "code",
   "execution_count": 183,
   "metadata": {
    "ExecuteTime": {
     "end_time": "2020-04-17T14:26:55.817236Z",
     "start_time": "2020-04-17T14:26:55.812249Z"
    }
   },
   "outputs": [
    {
     "data": {
      "text/plain": [
       "130"
      ]
     },
     "execution_count": 183,
     "metadata": {},
     "output_type": "execute_result"
    }
   ],
   "source": [
    "# number of edges in a graph\n",
    "G.size()"
   ]
  },
  {
   "cell_type": "code",
   "execution_count": 184,
   "metadata": {
    "ExecuteTime": {
     "end_time": "2020-04-17T14:26:57.292126Z",
     "start_time": "2020-04-17T14:26:57.287140Z"
    }
   },
   "outputs": [
    {
     "data": {
      "text/plain": [
       "dict_values([12, 2, 2, 4, 50, 2, 2, 2, 2, 2, 12, 2, 12, 4, 2, 32, 2, 6, 2, 2, 6, 2, 6, 2, 2, 2, 8, 2, 2, 2, 2, 6, 2, 2, 2, 2, 2, 2, 2, 2, 2, 2, 2, 2, 2, 2, 2, 2, 2, 2, 2, 2, 2, 2, 4, 4, 2, 6, 2])"
      ]
     },
     "execution_count": 184,
     "metadata": {},
     "output_type": "execute_result"
    }
   ],
   "source": [
    "dict(G.degree()).values()"
   ]
  },
  {
   "cell_type": "code",
   "execution_count": 185,
   "metadata": {
    "ExecuteTime": {
     "end_time": "2020-04-17T14:26:59.240628Z",
     "start_time": "2020-04-17T14:26:59.235615Z"
    }
   },
   "outputs": [
    {
     "data": {
      "text/plain": [
       "4.406779661016949"
      ]
     },
     "execution_count": 185,
     "metadata": {},
     "output_type": "execute_result"
    }
   ],
   "source": [
    "sum(dict(G.degree()).values())/G.order()"
   ]
  },
  {
   "cell_type": "code",
   "execution_count": 186,
   "metadata": {
    "ExecuteTime": {
     "end_time": "2020-04-17T14:27:01.207441Z",
     "start_time": "2020-04-17T14:27:01.203451Z"
    }
   },
   "outputs": [
    {
     "name": "stdout",
     "output_type": "stream",
     "text": [
      "Number of edges: 130\n",
      "Average degree: 4.406779661016949\n",
      "Density: 0.03798947983635301\n"
     ]
    }
   ],
   "source": [
    "print('Number of edges:', G.size())\n",
    "print('Average degree:', sum(dict(G.degree()).values())/G.order())\n",
    "print('Density:', nx.density(G))"
   ]
  },
  {
   "cell_type": "markdown",
   "metadata": {},
   "source": [
    "# Degree"
   ]
  },
  {
   "cell_type": "code",
   "execution_count": 88,
   "metadata": {
    "ExecuteTime": {
     "end_time": "2020-04-17T13:54:51.676748Z",
     "start_time": "2020-04-17T13:54:51.666774Z"
    }
   },
   "outputs": [
    {
     "data": {
      "text/html": [
       "<div>\n",
       "<style scoped>\n",
       "    .dataframe tbody tr th:only-of-type {\n",
       "        vertical-align: middle;\n",
       "    }\n",
       "\n",
       "    .dataframe tbody tr th {\n",
       "        vertical-align: top;\n",
       "    }\n",
       "\n",
       "    .dataframe thead th {\n",
       "        text-align: right;\n",
       "    }\n",
       "</style>\n",
       "<table border=\"1\" class=\"dataframe\">\n",
       "  <thead>\n",
       "    <tr style=\"text-align: right;\">\n",
       "      <th></th>\n",
       "      <th>Node</th>\n",
       "      <th>Degree Centrality</th>\n",
       "    </tr>\n",
       "  </thead>\n",
       "  <tbody>\n",
       "    <tr>\n",
       "      <td>4</td>\n",
       "      <td>PARIS LYON</td>\n",
       "      <td>0.431034</td>\n",
       "    </tr>\n",
       "    <tr>\n",
       "      <td>15</td>\n",
       "      <td>PARIS MONTPARNASSE</td>\n",
       "      <td>0.275862</td>\n",
       "    </tr>\n",
       "    <tr>\n",
       "      <td>0</td>\n",
       "      <td>PARIS EST</td>\n",
       "      <td>0.103448</td>\n",
       "    </tr>\n",
       "    <tr>\n",
       "      <td>10</td>\n",
       "      <td>LYON PART DIEU</td>\n",
       "      <td>0.103448</td>\n",
       "    </tr>\n",
       "    <tr>\n",
       "      <td>12</td>\n",
       "      <td>MARSEILLE ST CHARLES</td>\n",
       "      <td>0.103448</td>\n",
       "    </tr>\n",
       "  </tbody>\n",
       "</table>\n",
       "</div>"
      ],
      "text/plain": [
       "                    Node  Degree Centrality\n",
       "4             PARIS LYON           0.431034\n",
       "15    PARIS MONTPARNASSE           0.275862\n",
       "0              PARIS EST           0.103448\n",
       "10        LYON PART DIEU           0.103448\n",
       "12  MARSEILLE ST CHARLES           0.103448"
      ]
     },
     "execution_count": 88,
     "metadata": {},
     "output_type": "execute_result"
    }
   ],
   "source": [
    "degree = nx.degree_centrality(G)\n",
    "degree = pd.DataFrame.from_dict(degree, orient='index').reset_index()\n",
    "degree.columns = ['Node', 'Degree Centrality']\n",
    "degree.sort_values('Degree Centrality', ascending=False).head()"
   ]
  },
  {
   "cell_type": "markdown",
   "metadata": {},
   "source": [
    "# Betweenness Centrality"
   ]
  },
  {
   "cell_type": "code",
   "execution_count": 187,
   "metadata": {
    "ExecuteTime": {
     "end_time": "2020-04-17T14:27:07.775281Z",
     "start_time": "2020-04-17T14:27:07.380972Z"
    }
   },
   "outputs": [
    {
     "name": "stderr",
     "output_type": "stream",
     "text": [
      "C:\\Users\\andreaguiar\\AppData\\Roaming\\Python\\Python37\\site-packages\\networkx\\drawing\\nx_pylab.py:579: MatplotlibDeprecationWarning: \n",
      "The iterable function was deprecated in Matplotlib 3.1 and will be removed in 3.3. Use np.iterable instead.\n",
      "  if not cb.iterable(width):\n",
      "C:\\Users\\andreaguiar\\AppData\\Roaming\\Python\\Python37\\site-packages\\networkx\\drawing\\nx_pylab.py:676: MatplotlibDeprecationWarning: \n",
      "The iterable function was deprecated in Matplotlib 3.1 and will be removed in 3.3. Use np.iterable instead.\n",
      "  if cb.iterable(node_size):  # many node sizes\n"
     ]
    },
    {
     "data": {
      "image/png": "[encoded data removed]",
      "text/plain": [
       "<Figure size 432x288 with 1 Axes>"
      ]
     },
     "metadata": {},
     "output_type": "display_data"
    }
   ],
   "source": [
    "nx.draw(G, node_size=50)"
   ]
  },
  {
   "cell_type": "code",
   "execution_count": 92,
   "metadata": {
    "ExecuteTime": {
     "end_time": "2020-04-17T13:59:16.193282Z",
     "start_time": "2020-04-17T13:59:16.175330Z"
    }
   },
   "outputs": [
    {
     "data": {
      "text/html": [
       "<div>\n",
       "<style scoped>\n",
       "    .dataframe tbody tr th:only-of-type {\n",
       "        vertical-align: middle;\n",
       "    }\n",
       "\n",
       "    .dataframe tbody tr th {\n",
       "        vertical-align: top;\n",
       "    }\n",
       "\n",
       "    .dataframe thead th {\n",
       "        text-align: right;\n",
       "    }\n",
       "</style>\n",
       "<table border=\"1\" class=\"dataframe\">\n",
       "  <thead>\n",
       "    <tr style=\"text-align: right;\">\n",
       "      <th></th>\n",
       "      <th>Node</th>\n",
       "      <th>Betweenness Centrality</th>\n",
       "    </tr>\n",
       "  </thead>\n",
       "  <tbody>\n",
       "    <tr>\n",
       "      <td>4</td>\n",
       "      <td>PARIS LYON</td>\n",
       "      <td>0.619933</td>\n",
       "    </tr>\n",
       "    <tr>\n",
       "      <td>10</td>\n",
       "      <td>LYON PART DIEU</td>\n",
       "      <td>0.499143</td>\n",
       "    </tr>\n",
       "    <tr>\n",
       "      <td>15</td>\n",
       "      <td>PARIS MONTPARNASSE</td>\n",
       "      <td>0.489060</td>\n",
       "    </tr>\n",
       "    <tr>\n",
       "      <td>20</td>\n",
       "      <td>RENNES</td>\n",
       "      <td>0.448780</td>\n",
       "    </tr>\n",
       "    <tr>\n",
       "      <td>31</td>\n",
       "      <td>NANTES</td>\n",
       "      <td>0.218794</td>\n",
       "    </tr>\n",
       "  </tbody>\n",
       "</table>\n",
       "</div>"
      ],
      "text/plain": [
       "                  Node  Betweenness Centrality\n",
       "4           PARIS LYON                0.619933\n",
       "10      LYON PART DIEU                0.499143\n",
       "15  PARIS MONTPARNASSE                0.489060\n",
       "20              RENNES                0.448780\n",
       "31              NANTES                0.218794"
      ]
     },
     "execution_count": 92,
     "metadata": {},
     "output_type": "execute_result"
    }
   ],
   "source": [
    "# maior betweeness é o ponto que se você remover, afeta mais o grafo \n",
    "betweenness = nx.betweenness_centrality(G)\n",
    "\n",
    "betweenness\n",
    "betweenness = pd.DataFrame.from_dict(betweenness, orient='index').reset_index()\n",
    "betweenness.columns = ['Node', 'Betweenness Centrality']\n",
    "betweenness.sort_values('Betweenness Centrality', ascending=False).head()"
   ]
  },
  {
   "cell_type": "markdown",
   "metadata": {},
   "source": [
    "# Pagerank"
   ]
  },
  {
   "cell_type": "markdown",
   "metadata": {},
   "source": [
    "Pagerank mede a relevância de um nó baseado não só em quantos vizinhos ele tem, mas também medindo quantos vizinhos importantes ele tem"
   ]
  },
  {
   "cell_type": "code",
   "execution_count": 94,
   "metadata": {
    "ExecuteTime": {
     "end_time": "2020-04-17T14:08:53.445009Z",
     "start_time": "2020-04-17T14:08:53.424093Z"
    }
   },
   "outputs": [
    {
     "data": {
      "text/html": [
       "<div>\n",
       "<style scoped>\n",
       "    .dataframe tbody tr th:only-of-type {\n",
       "        vertical-align: middle;\n",
       "    }\n",
       "\n",
       "    .dataframe tbody tr th {\n",
       "        vertical-align: top;\n",
       "    }\n",
       "\n",
       "    .dataframe thead th {\n",
       "        text-align: right;\n",
       "    }\n",
       "</style>\n",
       "<table border=\"1\" class=\"dataframe\">\n",
       "  <thead>\n",
       "    <tr style=\"text-align: right;\">\n",
       "      <th></th>\n",
       "      <th>Node</th>\n",
       "      <th>PageRank Centrality</th>\n",
       "    </tr>\n",
       "  </thead>\n",
       "  <tbody>\n",
       "    <tr>\n",
       "      <td>4</td>\n",
       "      <td>PARIS LYON</td>\n",
       "      <td>0.182676</td>\n",
       "    </tr>\n",
       "    <tr>\n",
       "      <td>15</td>\n",
       "      <td>PARIS MONTPARNASSE</td>\n",
       "      <td>0.115534</td>\n",
       "    </tr>\n",
       "    <tr>\n",
       "      <td>0</td>\n",
       "      <td>PARIS EST</td>\n",
       "      <td>0.050158</td>\n",
       "    </tr>\n",
       "    <tr>\n",
       "      <td>12</td>\n",
       "      <td>MARSEILLE ST CHARLES</td>\n",
       "      <td>0.037562</td>\n",
       "    </tr>\n",
       "    <tr>\n",
       "      <td>10</td>\n",
       "      <td>LYON PART DIEU</td>\n",
       "      <td>0.036688</td>\n",
       "    </tr>\n",
       "  </tbody>\n",
       "</table>\n",
       "</div>"
      ],
      "text/plain": [
       "                    Node  PageRank Centrality\n",
       "4             PARIS LYON             0.182676\n",
       "15    PARIS MONTPARNASSE             0.115534\n",
       "0              PARIS EST             0.050158\n",
       "12  MARSEILLE ST CHARLES             0.037562\n",
       "10        LYON PART DIEU             0.036688"
      ]
     },
     "execution_count": 94,
     "metadata": {},
     "output_type": "execute_result"
    }
   ],
   "source": [
    "pagerank = nx.pagerank(G)\n",
    "\n",
    "pagerank = pd.DataFrame.from_dict(pagerank, orient='index').reset_index()\n",
    "pagerank.columns = ['Node', 'PageRank Centrality']\n",
    "pagerank.sort_values('PageRank Centrality', ascending=False).head()"
   ]
  },
  {
   "cell_type": "code",
   "execution_count": 123,
   "metadata": {
    "ExecuteTime": {
     "end_time": "2020-04-17T14:09:59.468884Z",
     "start_time": "2020-04-17T14:09:59.336238Z"
    }
   },
   "outputs": [
    {
     "data": {
      "image/png": "[encoded data removed]",
      "text/plain": [
       "<Figure size 432x288 with 1 Axes>"
      ]
     },
     "metadata": {},
     "output_type": "display_data"
    }
   ],
   "source": [
    "nx.draw_kamada_kawai(G, node_size=20,)"
   ]
  },
  {
   "cell_type": "markdown",
   "metadata": {},
   "source": [
    "# Ego graph"
   ]
  },
  {
   "cell_type": "code",
   "execution_count": 124,
   "metadata": {
    "ExecuteTime": {
     "end_time": "2020-04-17T14:10:21.287266Z",
     "start_time": "2020-04-17T14:10:21.283277Z"
    }
   },
   "outputs": [
    {
     "data": {
      "text/plain": [
       "<networkx.classes.graph.Graph at 0x27641dd42b0>"
      ]
     },
     "execution_count": 124,
     "metadata": {},
     "output_type": "execute_result"
    }
   ],
   "source": [
    "nx.ego_graph(G, 'PARIS EST', radius=1)"
   ]
  },
  {
   "cell_type": "code",
   "execution_count": 137,
   "metadata": {
    "ExecuteTime": {
     "end_time": "2020-04-17T14:16:47.124862Z",
     "start_time": "2020-04-17T14:16:47.010142Z"
    }
   },
   "outputs": [
    {
     "data": {
      "text/plain": [
       "[('PARIS EST', 0.6666666666666666),\n",
       " ('NANTES', 0.3333333333333333),\n",
       " ('STRASBOURG', 0.2222222222222222),\n",
       " ('PARIS MONTPARNASSE', 0.1111111111111111),\n",
       " ('PARIS VAUGIRARD', 0.1111111111111111),\n",
       " ('METZ', 0.1111111111111111),\n",
       " ('NANCY', 0.1111111111111111),\n",
       " ('STUTTGART', 0.1111111111111111),\n",
       " ('REIMS', 0.1111111111111111),\n",
       " ('FRANCFORT', 0.1111111111111111)]"
      ]
     },
     "execution_count": 137,
     "metadata": {},
     "output_type": "execute_result"
    },
    {
     "data": {
      "image/png": "[encoded data removed]",
      "text/plain": [
       "<Figure size 432x288 with 1 Axes>"
      ]
     },
     "metadata": {},
     "output_type": "display_data"
    }
   ],
   "source": [
    "ego = nx.ego_graph(G, 'PARIS EST', radius=3)\n",
    "nx.draw_kamada_kawai(ego, node_size=20, node_color='cyan', with_labels=True)\n",
    "\n",
    "sorted(nx.degree_centrality(ego).items(), key=lambda x : x[1], reverse=True)"
   ]
  },
  {
   "cell_type": "markdown",
   "metadata": {},
   "source": [
    "# Flux application"
   ]
  },
  {
   "cell_type": "code",
   "execution_count": null,
   "metadata": {},
   "outputs": [],
   "source": [
    "# TODO"
   ]
  },
  {
   "cell_type": "code",
   "execution_count": null,
   "metadata": {},
   "outputs": [],
   "source": []
  },
  {
   "cell_type": "markdown",
   "metadata": {},
   "source": [
    "# Converting non-graph dataframes to edge lists"
   ]
  },
  {
   "cell_type": "markdown",
   "metadata": {},
   "source": [
    "## Simpsons Network"
   ]
  },
  {
   "cell_type": "code",
   "execution_count": 247,
   "metadata": {
    "ExecuteTime": {
     "end_time": "2020-04-17T15:08:38.930543Z",
     "start_time": "2020-04-17T15:08:38.657989Z"
    }
   },
   "outputs": [],
   "source": [
    "df = pd.read_csv('https://raw.githubusercontent.com/rfordatascience/tidytuesday/master/data/2019/2019-08-27/simpsons-guests.csv', sep='|')"
   ]
  },
  {
   "cell_type": "code",
   "execution_count": 248,
   "metadata": {
    "ExecuteTime": {
     "end_time": "2020-04-17T15:08:38.941537Z",
     "start_time": "2020-04-17T15:08:38.931536Z"
    }
   },
   "outputs": [
    {
     "data": {
      "text/html": [
       "<div>\n",
       "<style scoped>\n",
       "    .dataframe tbody tr th:only-of-type {\n",
       "        vertical-align: middle;\n",
       "    }\n",
       "\n",
       "    .dataframe tbody tr th {\n",
       "        vertical-align: top;\n",
       "    }\n",
       "\n",
       "    .dataframe thead th {\n",
       "        text-align: right;\n",
       "    }\n",
       "</style>\n",
       "<table border=\"1\" class=\"dataframe\">\n",
       "  <thead>\n",
       "    <tr style=\"text-align: right;\">\n",
       "      <th></th>\n",
       "      <th>season</th>\n",
       "      <th>number</th>\n",
       "      <th>production_code</th>\n",
       "      <th>episode_title</th>\n",
       "      <th>guest_star</th>\n",
       "      <th>role</th>\n",
       "    </tr>\n",
       "  </thead>\n",
       "  <tbody>\n",
       "    <tr>\n",
       "      <td>0</td>\n",
       "      <td>1</td>\n",
       "      <td>002–102</td>\n",
       "      <td>7G02</td>\n",
       "      <td>Bart the Genius</td>\n",
       "      <td>Marcia Wallace</td>\n",
       "      <td>Edna Krabappel;  Ms. Melon</td>\n",
       "    </tr>\n",
       "    <tr>\n",
       "      <td>1</td>\n",
       "      <td>1</td>\n",
       "      <td>003–103</td>\n",
       "      <td>7G03</td>\n",
       "      <td>Homer's Odyssey</td>\n",
       "      <td>Sam McMurray</td>\n",
       "      <td>Worker</td>\n",
       "    </tr>\n",
       "    <tr>\n",
       "      <td>2</td>\n",
       "      <td>1</td>\n",
       "      <td>003–103</td>\n",
       "      <td>7G03</td>\n",
       "      <td>Homer's Odyssey</td>\n",
       "      <td>Marcia Wallace</td>\n",
       "      <td>Edna Krabappel</td>\n",
       "    </tr>\n",
       "    <tr>\n",
       "      <td>3</td>\n",
       "      <td>1</td>\n",
       "      <td>006–106</td>\n",
       "      <td>7G06</td>\n",
       "      <td>Moaning Lisa</td>\n",
       "      <td>Miriam Flynn</td>\n",
       "      <td>Ms. Barr</td>\n",
       "    </tr>\n",
       "    <tr>\n",
       "      <td>4</td>\n",
       "      <td>1</td>\n",
       "      <td>006–106</td>\n",
       "      <td>7G06</td>\n",
       "      <td>Moaning Lisa</td>\n",
       "      <td>Ron Taylor</td>\n",
       "      <td>Bleeding Gums Murphy</td>\n",
       "    </tr>\n",
       "    <tr>\n",
       "      <td>...</td>\n",
       "      <td>...</td>\n",
       "      <td>...</td>\n",
       "      <td>...</td>\n",
       "      <td>...</td>\n",
       "      <td>...</td>\n",
       "      <td>...</td>\n",
       "    </tr>\n",
       "    <tr>\n",
       "      <td>1381</td>\n",
       "      <td>30</td>\n",
       "      <td>661–3022</td>\n",
       "      <td>YABF15</td>\n",
       "      <td>Woo-Hoo Dunnit?</td>\n",
       "      <td>Jackie Mason</td>\n",
       "      <td>Rabbi Hyman Krustofsky</td>\n",
       "    </tr>\n",
       "    <tr>\n",
       "      <td>1382</td>\n",
       "      <td>30</td>\n",
       "      <td>661–3022</td>\n",
       "      <td>YABF15</td>\n",
       "      <td>Woo-Hoo Dunnit?</td>\n",
       "      <td>Liev Schreiber</td>\n",
       "      <td>Dateline: Springfield Narrator</td>\n",
       "    </tr>\n",
       "    <tr>\n",
       "      <td>1383</td>\n",
       "      <td>30</td>\n",
       "      <td>662–3023</td>\n",
       "      <td>YABF16</td>\n",
       "      <td>Crystal Blue-Haired Persuasion</td>\n",
       "      <td>Illeana Douglas</td>\n",
       "      <td>New Age Clerk</td>\n",
       "    </tr>\n",
       "    <tr>\n",
       "      <td>1384</td>\n",
       "      <td>30</td>\n",
       "      <td>662–3023</td>\n",
       "      <td>YABF16</td>\n",
       "      <td>Crystal Blue-Haired Persuasion</td>\n",
       "      <td>Werner Herzog</td>\n",
       "      <td>Walter Hotenhoffer</td>\n",
       "    </tr>\n",
       "    <tr>\n",
       "      <td>1385</td>\n",
       "      <td>30</td>\n",
       "      <td>662–3023</td>\n",
       "      <td>YABF16</td>\n",
       "      <td>Crystal Blue-Haired Persuasion</td>\n",
       "      <td>Jenny Slate</td>\n",
       "      <td>Piper Paisley</td>\n",
       "    </tr>\n",
       "  </tbody>\n",
       "</table>\n",
       "<p>1386 rows × 6 columns</p>\n",
       "</div>"
      ],
      "text/plain": [
       "     season    number production_code                   episode_title  \\\n",
       "0         1   002–102            7G02                 Bart the Genius   \n",
       "1         1   003–103            7G03                 Homer's Odyssey   \n",
       "2         1   003–103            7G03                 Homer's Odyssey   \n",
       "3         1   006–106            7G06                    Moaning Lisa   \n",
       "4         1   006–106            7G06                    Moaning Lisa   \n",
       "...     ...       ...             ...                             ...   \n",
       "1381     30  661–3022          YABF15                 Woo-Hoo Dunnit?   \n",
       "1382     30  661–3022          YABF15                 Woo-Hoo Dunnit?   \n",
       "1383     30  662–3023          YABF16  Crystal Blue-Haired Persuasion   \n",
       "1384     30  662–3023          YABF16  Crystal Blue-Haired Persuasion   \n",
       "1385     30  662–3023          YABF16  Crystal Blue-Haired Persuasion   \n",
       "\n",
       "           guest_star                            role  \n",
       "0      Marcia Wallace      Edna Krabappel;  Ms. Melon  \n",
       "1        Sam McMurray                          Worker  \n",
       "2      Marcia Wallace                  Edna Krabappel  \n",
       "3        Miriam Flynn                        Ms. Barr  \n",
       "4          Ron Taylor            Bleeding Gums Murphy  \n",
       "...               ...                             ...  \n",
       "1381     Jackie Mason          Rabbi Hyman Krustofsky  \n",
       "1382   Liev Schreiber  Dateline: Springfield Narrator  \n",
       "1383  Illeana Douglas                   New Age Clerk  \n",
       "1384    Werner Herzog              Walter Hotenhoffer  \n",
       "1385      Jenny Slate                   Piper Paisley  \n",
       "\n",
       "[1386 rows x 6 columns]"
      ]
     },
     "execution_count": 248,
     "metadata": {},
     "output_type": "execute_result"
    }
   ],
   "source": [
    "df"
   ]
  },
  {
   "cell_type": "code",
   "execution_count": 249,
   "metadata": {
    "ExecuteTime": {
     "end_time": "2020-04-17T15:08:39.138108Z",
     "start_time": "2020-04-17T15:08:39.132124Z"
    }
   },
   "outputs": [],
   "source": [
    "def df_to_graph(df, node, edge):\n",
    "    ''' \n",
    "    Transform a dataframe into another dataframe suitable to work with graphs.\n",
    "    '''\n",
    "    \n",
    "    \n",
    "    graph_df = pd.merge(df, df, how='inner', on=edge)\n",
    "    graph_df = graph_df.groupby([f'{node}_x', f'{node}_y']).count().reset_index()\n",
    "    graph_df = graph_df.query(f'{node}_x != {node}_y')\n",
    "\n",
    "    if type(edge) == list:\n",
    "        graph_df = graph_df.loc[:, [node + '_x', node + '_y'] + edge]\n",
    "    else:\n",
    "        graph_df = graph_df.loc[:, [node + '_x', node + '_y', edge]]\n",
    "    \n",
    "    return graph_df.rename(columns={f'{node}_x':f'{node}_src', \n",
    "                                    f'{node}_y':f'{node}_dest'})\n"
   ]
  },
  {
   "cell_type": "code",
   "execution_count": 250,
   "metadata": {
    "ExecuteTime": {
     "end_time": "2020-04-17T15:08:39.485232Z",
     "start_time": "2020-04-17T15:08:39.462294Z"
    }
   },
   "outputs": [
    {
     "data": {
      "text/html": [
       "<div>\n",
       "<style scoped>\n",
       "    .dataframe tbody tr th:only-of-type {\n",
       "        vertical-align: middle;\n",
       "    }\n",
       "\n",
       "    .dataframe tbody tr th {\n",
       "        vertical-align: top;\n",
       "    }\n",
       "\n",
       "    .dataframe thead th {\n",
       "        text-align: right;\n",
       "    }\n",
       "</style>\n",
       "<table border=\"1\" class=\"dataframe\">\n",
       "  <thead>\n",
       "    <tr style=\"text-align: right;\">\n",
       "      <th></th>\n",
       "      <th>guest_star_src</th>\n",
       "      <th>guest_star_dest</th>\n",
       "      <th>episode_title</th>\n",
       "    </tr>\n",
       "  </thead>\n",
       "  <tbody>\n",
       "    <tr>\n",
       "      <td>2</td>\n",
       "      <td>50 Cent</td>\n",
       "      <td>Dana Gould</td>\n",
       "      <td>1</td>\n",
       "    </tr>\n",
       "    <tr>\n",
       "      <td>2734</td>\n",
       "      <td>Michael Jackson</td>\n",
       "      <td>Kipp Lennon</td>\n",
       "      <td>1</td>\n",
       "    </tr>\n",
       "    <tr>\n",
       "      <td>2736</td>\n",
       "      <td>Michael Keaton</td>\n",
       "      <td>Bruce Vilanch</td>\n",
       "      <td>1</td>\n",
       "    </tr>\n",
       "    <tr>\n",
       "      <td>2737</td>\n",
       "      <td>Michael Keaton</td>\n",
       "      <td>Charles Napier</td>\n",
       "      <td>1</td>\n",
       "    </tr>\n",
       "    <tr>\n",
       "      <td>2738</td>\n",
       "      <td>Michael Keaton</td>\n",
       "      <td>Marcia Wallace</td>\n",
       "      <td>1</td>\n",
       "    </tr>\n",
       "    <tr>\n",
       "      <td>...</td>\n",
       "      <td>...</td>\n",
       "      <td>...</td>\n",
       "      <td>...</td>\n",
       "    </tr>\n",
       "    <tr>\n",
       "      <td>1602</td>\n",
       "      <td>Joe Mantegna</td>\n",
       "      <td>Marcia Wallace</td>\n",
       "      <td>8</td>\n",
       "    </tr>\n",
       "    <tr>\n",
       "      <td>2375</td>\n",
       "      <td>Marcia Wallace</td>\n",
       "      <td>Joe Mantegna</td>\n",
       "      <td>8</td>\n",
       "    </tr>\n",
       "    <tr>\n",
       "      <td>999</td>\n",
       "      <td>Frank Welker</td>\n",
       "      <td>Marcia Wallace</td>\n",
       "      <td>8</td>\n",
       "    </tr>\n",
       "    <tr>\n",
       "      <td>2438</td>\n",
       "      <td>Marcia Wallace</td>\n",
       "      <td>Phil Hartman</td>\n",
       "      <td>18</td>\n",
       "    </tr>\n",
       "    <tr>\n",
       "      <td>3074</td>\n",
       "      <td>Phil Hartman</td>\n",
       "      <td>Marcia Wallace</td>\n",
       "      <td>18</td>\n",
       "    </tr>\n",
       "  </tbody>\n",
       "</table>\n",
       "<p>3338 rows × 3 columns</p>\n",
       "</div>"
      ],
      "text/plain": [
       "       guest_star_src guest_star_dest  episode_title\n",
       "2             50 Cent      Dana Gould              1\n",
       "2734  Michael Jackson     Kipp Lennon              1\n",
       "2736   Michael Keaton   Bruce Vilanch              1\n",
       "2737   Michael Keaton  Charles Napier              1\n",
       "2738   Michael Keaton  Marcia Wallace              1\n",
       "...               ...             ...            ...\n",
       "1602     Joe Mantegna  Marcia Wallace              8\n",
       "2375   Marcia Wallace    Joe Mantegna              8\n",
       "999      Frank Welker  Marcia Wallace              8\n",
       "2438   Marcia Wallace    Phil Hartman             18\n",
       "3074     Phil Hartman  Marcia Wallace             18\n",
       "\n",
       "[3338 rows x 3 columns]"
      ]
     },
     "execution_count": 250,
     "metadata": {},
     "output_type": "execute_result"
    }
   ],
   "source": [
    "graph_df = df_to_graph(df, 'guest_star', 'episode_title')\n",
    "graph_df.sort_values(by='episode_title')"
   ]
  },
  {
   "cell_type": "code",
   "execution_count": 251,
   "metadata": {
    "ExecuteTime": {
     "end_time": "2020-04-17T15:08:41.269612Z",
     "start_time": "2020-04-17T15:08:39.855250Z"
    }
   },
   "outputs": [
    {
     "name": "stdout",
     "output_type": "stream",
     "text": [
      "Number of edges: 1669\n",
      "Average degree: 4.5788751714677645\n",
      "Density: 0.006289663697071105\n"
     ]
    },
    {
     "data": {
      "text/html": [
       "<div>\n",
       "<style scoped>\n",
       "    .dataframe tbody tr th:only-of-type {\n",
       "        vertical-align: middle;\n",
       "    }\n",
       "\n",
       "    .dataframe tbody tr th {\n",
       "        vertical-align: top;\n",
       "    }\n",
       "\n",
       "    .dataframe thead th {\n",
       "        text-align: right;\n",
       "    }\n",
       "</style>\n",
       "<table border=\"1\" class=\"dataframe\">\n",
       "  <thead>\n",
       "    <tr style=\"text-align: right;\">\n",
       "      <th></th>\n",
       "      <th>Node</th>\n",
       "      <th>Betweenness Centrality</th>\n",
       "    </tr>\n",
       "  </thead>\n",
       "  <tbody>\n",
       "    <tr>\n",
       "      <td>5</td>\n",
       "      <td>Marcia Wallace</td>\n",
       "      <td>0.317746</td>\n",
       "    </tr>\n",
       "    <tr>\n",
       "      <td>6</td>\n",
       "      <td>Maurice LaMarche</td>\n",
       "      <td>0.082161</td>\n",
       "    </tr>\n",
       "    <tr>\n",
       "      <td>115</td>\n",
       "      <td>Jon Lovitz</td>\n",
       "      <td>0.060001</td>\n",
       "    </tr>\n",
       "    <tr>\n",
       "      <td>26</td>\n",
       "      <td>Phil Hartman</td>\n",
       "      <td>0.055232</td>\n",
       "    </tr>\n",
       "    <tr>\n",
       "      <td>46</td>\n",
       "      <td>Joe Mantegna</td>\n",
       "      <td>0.053040</td>\n",
       "    </tr>\n",
       "  </tbody>\n",
       "</table>\n",
       "</div>"
      ],
      "text/plain": [
       "                 Node  Betweenness Centrality\n",
       "5      Marcia Wallace                0.317746\n",
       "6    Maurice LaMarche                0.082161\n",
       "115        Jon Lovitz                0.060001\n",
       "26       Phil Hartman                0.055232\n",
       "46       Joe Mantegna                0.053040"
      ]
     },
     "execution_count": 251,
     "metadata": {},
     "output_type": "execute_result"
    }
   ],
   "source": [
    "G = nx.from_pandas_edgelist(graph_df, 'guest_star_src', 'guest_star_dest')\n",
    "print('Number of edges:', G.size())\n",
    "print('Average degree:', sum(dict(G.degree()).values())/G.order())\n",
    "print('Density:', nx.density(G))\n",
    "\n",
    "betweenness = nx.betweenness_centrality(G, weight='edge')\n",
    "betweenness = pd.DataFrame.from_dict(betweenness, orient='index').reset_index()\n",
    "betweenness.columns = ['Node', 'Betweenness Centrality']\n",
    "betweenness.sort_values('Betweenness Centrality', ascending=False).head()"
   ]
  },
  {
   "cell_type": "code",
   "execution_count": 252,
   "metadata": {
    "ExecuteTime": {
     "end_time": "2020-04-17T15:08:41.388295Z",
     "start_time": "2020-04-17T15:08:41.271607Z"
    }
   },
   "outputs": [
    {
     "data": {
      "text/html": [
       "<div>\n",
       "<style scoped>\n",
       "    .dataframe tbody tr th:only-of-type {\n",
       "        vertical-align: middle;\n",
       "    }\n",
       "\n",
       "    .dataframe tbody tr th {\n",
       "        vertical-align: top;\n",
       "    }\n",
       "\n",
       "    .dataframe thead th {\n",
       "        text-align: right;\n",
       "    }\n",
       "</style>\n",
       "<table border=\"1\" class=\"dataframe\">\n",
       "  <thead>\n",
       "    <tr style=\"text-align: right;\">\n",
       "      <th></th>\n",
       "      <th>Node</th>\n",
       "      <th>Pagerank Centrality</th>\n",
       "    </tr>\n",
       "  </thead>\n",
       "  <tbody>\n",
       "    <tr>\n",
       "      <td>5</td>\n",
       "      <td>Marcia Wallace</td>\n",
       "      <td>0.054583</td>\n",
       "    </tr>\n",
       "    <tr>\n",
       "      <td>26</td>\n",
       "      <td>Phil Hartman</td>\n",
       "      <td>0.013763</td>\n",
       "    </tr>\n",
       "    <tr>\n",
       "      <td>6</td>\n",
       "      <td>Maurice LaMarche</td>\n",
       "      <td>0.013545</td>\n",
       "    </tr>\n",
       "    <tr>\n",
       "      <td>46</td>\n",
       "      <td>Joe Mantegna</td>\n",
       "      <td>0.012000</td>\n",
       "    </tr>\n",
       "    <tr>\n",
       "      <td>115</td>\n",
       "      <td>Jon Lovitz</td>\n",
       "      <td>0.008910</td>\n",
       "    </tr>\n",
       "  </tbody>\n",
       "</table>\n",
       "</div>"
      ],
      "text/plain": [
       "                 Node  Pagerank Centrality\n",
       "5      Marcia Wallace             0.054583\n",
       "26       Phil Hartman             0.013763\n",
       "6    Maurice LaMarche             0.013545\n",
       "46       Joe Mantegna             0.012000\n",
       "115        Jon Lovitz             0.008910"
      ]
     },
     "execution_count": 252,
     "metadata": {},
     "output_type": "execute_result"
    }
   ],
   "source": [
    "pagerank = nx.pagerank(G, weight='edge')\n",
    "pagerank = pd.DataFrame.from_dict(pagerank, orient='index').reset_index()\n",
    "pagerank.columns = ['Node', 'Pagerank Centrality']\n",
    "pagerank.sort_values('Pagerank Centrality', ascending=False).head()"
   ]
  },
  {
   "cell_type": "code",
   "execution_count": 203,
   "metadata": {
    "ExecuteTime": {
     "end_time": "2020-04-17T14:35:59.479086Z",
     "start_time": "2020-04-17T14:35:59.465124Z"
    }
   },
   "outputs": [
    {
     "data": {
      "text/plain": [
       "{'50 Cent': 0.0,\n",
       " 'Dana Gould': 0.013590128676589642,\n",
       " 'Aaron Paul': 0.0,\n",
       " 'Bryan Cranston': 4.1113010262155455e-05,\n",
       " 'George Takei': 0.005915208066129816,\n",
       " 'Marcia Wallace': 0.31774648794828764,\n",
       " 'Maurice LaMarche': 0.08216133612969266,\n",
       " 'Wanda Sykes': 0.0,\n",
       " 'Adam Driver': 0.0,\n",
       " 'Allison Williams': 0.0,\n",
       " 'Jemima Kirke': 0.0,\n",
       " 'Laura Ingraham': 0.0,\n",
       " 'Lena Dunham': 0.0,\n",
       " 'Zosia Mamet': 0.0,\n",
       " 'Adam Savage': 0.0,\n",
       " 'Jamie Hyneman': 0.0,\n",
       " 'Michael Cera': 0.0,\n",
       " 'Adam Silver': 0.0,\n",
       " 'Brian Posehn': 0.0,\n",
       " 'Rob Riggle': 0.0,\n",
       " 'Vanessa Bayer': 0.0,\n",
       " 'Adam West': 0.0006477766573070168,\n",
       " 'Baha Men': 0.0018818870263161871,\n",
       " 'Burt Ward': 0.0,\n",
       " 'Jan Hooks': 0.0004523555798364209,\n",
       " 'Linda Ronstadt': 0.0,\n",
       " 'Phil Hartman': 0.055231546453463704,\n",
       " 'Aerosmith': 0.0,\n",
       " 'Kipp Lennon': 0.015803576280642256,\n",
       " 'Al Roker': 0.0,\n",
       " 'Anne Hathaway': 0.0018084040451288054,\n",
       " 'Don Pardo': 0.0,\n",
       " 'Ken Burns': 0.009325801633021578,\n",
       " 'Kevin Michael Richardson': 0.029128395639086674,\n",
       " 'Natalie Portman': 0.0,\n",
       " 'Sarah Michelle Gellar': 0.0001700230404298001,\n",
       " 'Sarah Silverman': 0.004628043273674775,\n",
       " 'Zooey Deschanel': 0.005622987741282101,\n",
       " 'Alan Moore': 0.0,\n",
       " 'Art Spiegelman': 0.0,\n",
       " 'Daniel Clowes': 0.0,\n",
       " 'Jack Black': 0.0,\n",
       " 'Sang Am Lee': 0.0,\n",
       " 'Albert Brooks': 0.0013775405202849692,\n",
       " 'Green Day': 0.0,\n",
       " 'James Brown': 0.0,\n",
       " 'Joe Mantegna': 0.053039606736444575,\n",
       " 'Johnny Mathis': 0.0,\n",
       " 'Philip Rosenthal': 0.0,\n",
       " 'Sally Stevens': 0.017579175356791495,\n",
       " 'Tom Hanks': 0.0,\n",
       " 'Alec Baldwin': 0.0010365224282496833,\n",
       " 'Brian Grazer': 0.001881887026316187,\n",
       " 'Kim Basinger': 0.0,\n",
       " 'Ron Howard': 0.0051178281773683635,\n",
       " 'Alex Rocco': 0.0,\n",
       " 'Jack Sheldon': 0.0,\n",
       " 'Kirk Douglas': 0.0,\n",
       " 'Suzanne Somers': 0.0,\n",
       " 'Alex Trebek': 0.0013673845678584449,\n",
       " 'Steve Carell': 0.0,\n",
       " 'Terry W. Greene': 0.01587500964730508,\n",
       " 'Alison Bechdel': 0.0,\n",
       " 'Dan Harmon': 0.0,\n",
       " 'Marjane Satrapi': 0.0,\n",
       " 'Martin Short': 0.0,\n",
       " 'Rachel Bloom': 0.0,\n",
       " 'Roz Chast': 0.0,\n",
       " 'Alison Krauss and Union Station': 0.0,\n",
       " 'Jackie Mason': 0.02132462631384424,\n",
       " 'Julian Assange': 0.0,\n",
       " 'Kelsey Grammer': 0.02448293128964501,\n",
       " 'Susie Stevens': 0.0018818870263161871,\n",
       " 'Alton Brown': 0.0,\n",
       " 'Anthony Newley (archival)': 0.0,\n",
       " 'Ben Schwartz': 0.0,\n",
       " 'Bobby Moynihan': 0.0,\n",
       " 'Edward James Olmos': 0.0,\n",
       " 'Rex Harrison (archival)': 0.0,\n",
       " 'Alyson Hannigan': 0.0,\n",
       " 'Kristen Wiig': 0.00036911653879624054,\n",
       " 'Scott Thompson': 0.009158582086994839,\n",
       " 'Amber Riley': 0.0,\n",
       " 'Bret McKenzie': 0.0,\n",
       " 'Cory Monteith': 0.0,\n",
       " 'Ira Glass': 0.0,\n",
       " 'Jemaine Clement': 0.0,\n",
       " 'Lea Michele': 0.0,\n",
       " 'Stephen Hawking': 0.01303716915821455,\n",
       " 'Amick Byram': 0.0,\n",
       " 'Bob Joyce': 0.0,\n",
       " 'Frances McDormand': 0.0,\n",
       " 'Jim Gilstrap': 0.0,\n",
       " 'Oren Waters': 0.0,\n",
       " 'Amy Poehler': 0.0,\n",
       " 'John DiMaggio': 0.0009780908705058827,\n",
       " 'Amy Schumer': 0.0,\n",
       " 'Pendleton Ward': 0.0,\n",
       " 'Amy Tan': 0.0,\n",
       " 'Drew Barrymore': 0.0,\n",
       " 'Jay Mohr': 0.0,\n",
       " 'John Updike': 0.0,\n",
       " 'Stephen King': 0.0,\n",
       " 'Anderson Cooper': 0.0,\n",
       " 'Eva Longoria': 0.0,\n",
       " 'Andre Agassi': 0.0,\n",
       " 'Pete Sampras': 0.0,\n",
       " 'Serena Williams': 0.0,\n",
       " 'Venus Williams': 0.0,\n",
       " 'Andrea Martin': 0.0,\n",
       " 'Andrés Cantor': 0.0,\n",
       " 'Joey Vieira': 0.0,\n",
       " 'Andy Daly': 0.0,\n",
       " 'Damian Kulash': 0.0,\n",
       " 'Dawnn Lewis': 0.004871685594813911,\n",
       " 'Jon Lovitz': 0.060000547789099475,\n",
       " 'Tim Nordwind': 0.0,\n",
       " 'Andy Dick': 0.0,\n",
       " 'James Patterson': 0.0,\n",
       " 'Meg Ryan': 0.0,\n",
       " 'Peter Bogdanovich': 0.0,\n",
       " 'Stephen Sondheim': 0.0,\n",
       " 'Andy García': 0.0,\n",
       " 'Neil Gaiman': 2.6452227277536767e-05,\n",
       " 'Andy Serkis': 0.0,\n",
       " 'David Byrne': 4.534667533292017e-05,\n",
       " 'Jonathan Taylor Thomas': 0.0,\n",
       " 'Angela Bassett': 0.0,\n",
       " 'Anika Noni Rose': 0.0,\n",
       " 'Jennifer Tilly': 0.0,\n",
       " 'Marvin Hamlisch': 0.0,\n",
       " 'Anne Bancroft': 0.0,\n",
       " 'George Wendt': 0.0,\n",
       " 'John Ratzenberger': 0.0,\n",
       " 'Rhea Perlman': 0.0,\n",
       " 'Ted Danson': 0.0,\n",
       " 'Woody Harrelson': 0.0,\n",
       " 'Eartha Kitt': 0.0,\n",
       " 'Gary Larson': 0.0,\n",
       " 'Anthony Bourdain': 0.0,\n",
       " 'Eric Wareheim': 0.0,\n",
       " 'Gordon Ramsay': 0.0,\n",
       " 'Mario Batali': 6.04622337772269e-05,\n",
       " 'Tim Heidecker': 0.0,\n",
       " 'Antonio Fargas': 0.0,\n",
       " 'Dave Thomas': 0.007482201429931829,\n",
       " 'Randy Johnson': 0.0,\n",
       " 'Susan Sarandon': 0.0018818870263161871,\n",
       " 'Armie Hammer': 0.0,\n",
       " 'David Letterman': 0.0,\n",
       " 'Tiger Lillies': 0.0,\n",
       " 'Aron Ralston': 0.0,\n",
       " 'Ashley Olsen': 0.0,\n",
       " 'Mary-Kate Olsen': 0.0,\n",
       " 'Thomas Pynchon': 0.005622987741282101,\n",
       " 'Tom Clancy': 0.0,\n",
       " 'Audrey Meadows': 0.0,\n",
       " 'Awkwafina': 1.5115558444306724e-05,\n",
       " 'Chelsea Peretti': 0.0,\n",
       " 'Judy Blume': 0.0,\n",
       " 'Lucas Meyer': 0.0,\n",
       " 'Nicole Byer': 0.0,\n",
       " 'Los Lobos': 0.0,\n",
       " 'Barry White': 1.1336668833230042e-05,\n",
       " 'Bette Midler': 0.0,\n",
       " 'Elizabeth Taylor': 0.0,\n",
       " 'Gene Merlino': 5.668334416615021e-06,\n",
       " 'Hugh Hefner': 0.0,\n",
       " 'Johnny Carson': 0.0,\n",
       " 'Luke Perry': 0.0,\n",
       " 'Red Hot Chili Peppers': 0.0,\n",
       " 'Ben Daniels': 0.0,\n",
       " 'William Friedkin': 0.0,\n",
       " 'Ben Schatz': 0.0,\n",
       " 'Weird Al Yankovic': 0.0,\n",
       " 'Benedict Cumberbatch': 0.0,\n",
       " 'Max Weinberg': 0.0,\n",
       " 'Robert A. Caro': 0.0,\n",
       " 'Betty White': 0.0,\n",
       " 'J. K. Simmons': 0.013074958054325316,\n",
       " \"Beverly D'Angelo\": 0.0,\n",
       " 'Dixie Chicks': 0.0,\n",
       " 'Bill Burr': 0.0,\n",
       " 'Doris Kearns Goodwin': 0.0,\n",
       " 'Jason Nash': 0.0,\n",
       " 'Michael Chiklis': 0.0,\n",
       " 'Mike Mitchell': 0.0,\n",
       " 'Rachel Dratch': 0.0,\n",
       " 'Bill Hader': 1.1336668833230042e-05,\n",
       " 'Cecily Strong': 0.0,\n",
       " 'Jane Krakowski': 0.0,\n",
       " 'Justin Bieber': 0.0,\n",
       " 'Patrick Stewart': 0.0,\n",
       " 'Bill James': 0.0,\n",
       " 'Mike Scioscia': 3.401000649969013e-05,\n",
       " 'Bill Saluga': 0.0,\n",
       " 'Olympia Dukakis': 0.0,\n",
       " 'Bill de Blasio': 0.0,\n",
       " 'Bryan Batt': 0.0,\n",
       " \"Lawrence O'Donnell\": 0.0,\n",
       " 'Billy Boyd': 0.0,\n",
       " 'Nikolaj Coster-Waldau': 0.0,\n",
       " 'Billy Eichner': 0.0,\n",
       " 'Peter Serafinowicz': 0.0,\n",
       " 'Billy West': 0.0,\n",
       " 'David Herman': 0.0,\n",
       " 'Frank Welker': 0.016133706353995598,\n",
       " 'Katey Sagal': 0.0,\n",
       " 'Lauren Tom': 0.0,\n",
       " 'Phil LaMarr': 0.002801092301369721,\n",
       " 'Blake Anderson': 0.0,\n",
       " 'Nick Kroll': 0.0,\n",
       " 'Renee Ridgeley': 8.691446105476366e-05,\n",
       " 'Blink-182': 0.0,\n",
       " 'Jane Kaczmarek': 0.0026230622393915775,\n",
       " 'Tony Hawk': 0.0,\n",
       " 'Bob Boilen': 0.0,\n",
       " 'Kate McKinnon': 0.0,\n",
       " 'Natalie Maines': 0.0,\n",
       " 'Bob Denver': 0.0,\n",
       " 'Michael Carrington': 1.8894448055383406e-05,\n",
       " 'Rod Steiger': 0.0,\n",
       " 'Bob Hope': 0.0,\n",
       " 'Lona Williams': 0.001881887026316187,\n",
       " 'Bob Newhart': 0.0,\n",
       " 'Bobcat Goldthwait': 0.0,\n",
       " 'Bruce Baum': 0.0,\n",
       " 'Hank Williams, Jr.': 6.411516040126771e-05,\n",
       " 'Janeane Garofalo': 0.003063193715354486,\n",
       " 'Jay Leno': 0.0,\n",
       " 'Steven Wright': 0.0,\n",
       " 'Brave Combo': 0.0,\n",
       " 'Brendan Fraser': 0.0,\n",
       " 'Steven Weber': 0.0,\n",
       " 'Denis Leary': 0.0,\n",
       " 'Brian J. Kaufman': 0.0,\n",
       " 'Jon Wurster': 0.0,\n",
       " 'Tom Scharpling': 0.0,\n",
       " 'Brian Setzer': 0.0,\n",
       " 'Elvis Costello': 0.0,\n",
       " 'Keith Richards': 0.0,\n",
       " 'Lenny Kravitz': 0.0,\n",
       " 'Mick Jagger': 0.0,\n",
       " 'Tom Petty': 0.0,\n",
       " 'Bruce Vilanch': 0.0,\n",
       " 'Charles Napier': 0.000700312220257198,\n",
       " 'Michael Keaton': 0.0,\n",
       " 'Robert Schimmel': 0.0,\n",
       " 'Eric Idle': 0.000978281786435117,\n",
       " 'Butch Patrick': 0.0,\n",
       " 'Garry Marshall': 0.005622987741282101,\n",
       " 'Buzz Aldrin': 0.0,\n",
       " 'James Taylor': 0.0,\n",
       " 'Caitlin Parrott': 0.0,\n",
       " 'Glenn Close': 9.447224027691703e-05,\n",
       " 'Carice van Houten': 0.0,\n",
       " 'Carl Kasell': 0.0,\n",
       " 'John Oliver': 0.0,\n",
       " 'Peter Sagal': 0.0,\n",
       " 'Carmen Electra': 0.0,\n",
       " 'Frances Sternhagen': 0.0,\n",
       " 'Carol Kane': 0.0,\n",
       " 'Greg Berg': 0.0,\n",
       " 'Carrie Brownstein': 0.0,\n",
       " 'Colin Meloy': 0.0,\n",
       " 'Fred Armisen': 0.0,\n",
       " 'Patton Oswalt': 0.003756216273410221,\n",
       " 'Cat Deeley': 0.0,\n",
       " 'R. Lee Ermey': 0.0003693054832767942,\n",
       " 'Stacy Keach': 0.005881764782655847,\n",
       " 'Channing Tatum': 0.0,\n",
       " 'Judd Apatow': 0.0,\n",
       " 'Leslie Mann': 0.0,\n",
       " 'Paul Rudd': 0.0028353089182819864,\n",
       " 'Rob Halford': 0.0,\n",
       " 'Seth Rogen': 1.0706853898050596e-05,\n",
       " 'Will Arnett': 0.0,\n",
       " 'Charlean Carmon': 0.0,\n",
       " 'Charles Barkley': 0.0,\n",
       " 'Common': 0.0,\n",
       " 'Destiny Torres': 0.0,\n",
       " 'Jim Beanz': 0.0,\n",
       " 'Keegan-Michael Key': 0.0,\n",
       " 'RZA': 0.0,\n",
       " 'Snoop Dogg': 0.0,\n",
       " 'Taraji P. Henson': 0.0,\n",
       " 'V. Bozeman': 0.0,\n",
       " 'Frank Gehry': 0.0,\n",
       " 'Charlie Rose': 0.0,\n",
       " 'Diedrich Bader': 0.0,\n",
       " 'Joe C.': 0.0,\n",
       " 'Kid Rock': 0.0,\n",
       " 'Robert Evans': 0.0,\n",
       " 'Cheech Marin': 0.0,\n",
       " 'Tommy Chong': 0.0,\n",
       " 'Chick Hearn': 0.0,\n",
       " 'Magic Johnson': 0.0,\n",
       " 'Chris Hansen': 0.0,\n",
       " 'Mark Zuckerberg': 0.0,\n",
       " 'Muhammad Yunus': 0.0,\n",
       " 'Chris Martin': 0.0,\n",
       " 'Chris Wedge': 0.0,\n",
       " 'Christina Ricci': 0.0,\n",
       " 'Christopher Guest': 0.0,\n",
       " 'Michael McKean': 0.0,\n",
       " 'Christopher Lloyd': 0.0,\n",
       " 'Rich Sommer': 0.0,\n",
       " 'Chuck Liddell': 0.0,\n",
       " 'Clarence Clemons': 0.0,\n",
       " 'Gary Coleman': 0.0006338291402608106,\n",
       " 'Tim Robbins': 0.0,\n",
       " 'Cloris Leachman': 0.0,\n",
       " 'Daniel Stern': 0.0,\n",
       " 'Colm Meaney': 0.0,\n",
       " 'Glen Hansard': 0.0,\n",
       " 'Markéta Irglová': 0.0,\n",
       " \"Conan O'Brien\": 0.0,\n",
       " 'Cooper Manning': 0.0,\n",
       " 'Eli Manning': 0.0,\n",
       " 'Huell Howser': 0.0,\n",
       " 'Jordan Nagai': 0.0,\n",
       " 'Kim Cattrall': 0.011177955469564823,\n",
       " 'Peyton Manning': 0.0,\n",
       " 'Smothers Brothers': 0.0,\n",
       " 'Cyndi Lauper': 0.0,\n",
       " 'Franklin D. Roosevelt (archival)': 0.0,\n",
       " 'Cypress Hill': 0.0,\n",
       " 'Peter Frampton': 0.0,\n",
       " 'Sonic Youth': 0.0,\n",
       " 'The Smashing Pumpkins': 0.0,\n",
       " 'Dan Marino': 0.0,\n",
       " 'Dolly Parton': 0.0,\n",
       " 'Fred Willard': 0.0,\n",
       " 'John Madden': 0.0,\n",
       " 'Pat Summerall': 0.0,\n",
       " 'Rosey Grier': 0.0,\n",
       " 'Rupert Murdoch': 0.00013226113638768383,\n",
       " 'Troy Aikman': 0.0,\n",
       " 'Dan Mintz': 0.0,\n",
       " 'Eugene Mirman': 0.0,\n",
       " 'H. Jon Benjamin': 0.0,\n",
       " 'John Roberts': 0.0,\n",
       " 'Kristen Schaal': 0.0029456019188776115,\n",
       " 'Ted Moock': 0.0,\n",
       " 'Tracy Morgan': 0.0,\n",
       " 'Dan Rather': 0.0,\n",
       " 'Jon Stewart': 0.0,\n",
       " 'John Kassir': 0.002968794649380229,\n",
       " 'Sab Shimono': 0.0014449691850387076,\n",
       " 'Ted Nugent': 8.462013521946709e-05,\n",
       " 'Danica Patrick': 0.0,\n",
       " 'Gregg Berger': 0.0,\n",
       " 'Rachel Weisz': 0.0,\n",
       " 'Daniel Radcliffe': 3.778889611076681e-06,\n",
       " 'Hugh Laurie': 0.0,\n",
       " 'Jimmy O. Yang': 0.0,\n",
       " 'Danny DeVito': 0.00045021120993807235,\n",
       " 'Joe Frazier': 0.00010183623028824594,\n",
       " 'Rashida Jones': 0.0,\n",
       " 'Darryl Strawberry': 0.0,\n",
       " 'Don Mattingly': 0.0,\n",
       " 'Jose Canseco': 0.0,\n",
       " 'Ken Griffey, Jr.': 0.0,\n",
       " 'Ozzie Smith': 0.0,\n",
       " 'Roger Clemens': 0.0,\n",
       " 'Steve Sax': 0.0,\n",
       " 'Terry Cashman': 0.0,\n",
       " 'Wade Boggs': 0.0,\n",
       " 'Daryl Coley': 0.0,\n",
       " 'Ken Levine': 0.0,\n",
       " 'Tom Poston': 0.0,\n",
       " 'Tony Bennett': 0.005944919008634885,\n",
       " 'Dave Attell': 0.0,\n",
       " 'Emily Deschanel': 0.0,\n",
       " 'Gal Gadot': 0.0,\n",
       " 'Jonathan Groff': 0.0,\n",
       " 'Pete Holmes': 0.0,\n",
       " 'Dave Matthews': 0.0,\n",
       " 'David Copperfield': 0.0018818870263161871,\n",
       " 'Jack McBrayer': 0.0,\n",
       " 'Kristen Bell': 0.0,\n",
       " 'Martin Landau': 0.0,\n",
       " 'Penn Jillette': 0.00465748144565201,\n",
       " 'Ricky Jay': 0.0,\n",
       " 'Teller': 0.00465748144565201,\n",
       " 'David Crosby': 0.003756216273410221,\n",
       " 'George Harrison': 0.0,\n",
       " 'The Dapper Dans': 0.0,\n",
       " 'David Duchovny': 0.0,\n",
       " 'Gillian Anderson': 0.0,\n",
       " 'Leonard Nimoy': 0.003756216273410221,\n",
       " 'David Hyde Pierce': 0.0024983672294236546,\n",
       " 'Don Hertzfeldt': 0.0,\n",
       " 'Jeff Ross': 0.0,\n",
       " 'John Mahoney': 0.0,\n",
       " 'Keith Olbermann': 0.0,\n",
       " 'David Lander': 0.0,\n",
       " 'Larry Holmes': 0.0,\n",
       " 'David Mamet': 0.0,\n",
       " 'James Lipton': 0.0,\n",
       " 'Michael Paul Chan': 0.0,\n",
       " 'David Silverman': 0.0,\n",
       " 'Willem Dafoe': 0.0005135821694349132,\n",
       " 'David Turley': 0.0,\n",
       " 'Ken Jeong': 0.0,\n",
       " 'Natasha Lyonne': 0.003756216273410221,\n",
       " 'Trombone Shorty': 0.0,\n",
       " 'Deb Lacusta': 0.0,\n",
       " 'Debi Mazar': 0.0,\n",
       " 'Jonathan Schmock': 0.0,\n",
       " 'Ray Liotta': 0.0,\n",
       " 'Delroy Lindo': 0.0,\n",
       " 'Denice Kumagai': 6.507269722046687e-05,\n",
       " 'Gedde Watanabe': 6.507269722046687e-05,\n",
       " 'Karen Maruyama': 6.507269722046687e-05,\n",
       " 'Keone Young': 0.0,\n",
       " 'Denise Donatelli': 0.0,\n",
       " 'Dennis Rodman': 0.0,\n",
       " 'Terry Bradshaw': 0.0,\n",
       " 'Dennis Weaver': 0.0,\n",
       " 'Diana Tanaka': 0.0,\n",
       " 'Joey Miyashima': 0.0,\n",
       " 'Larry King': 0.002014991208072683,\n",
       " 'Dick Cavett': 0.0,\n",
       " 'Johnny Unitas': 0.0,\n",
       " 'Dick Clark': 0.0,\n",
       " 'Lucy Lawless': 0.0,\n",
       " 'Tom Arnold': 0.0,\n",
       " 'Dick Tufeld': 0.00017299216798136033,\n",
       " 'Isabel Sanford': 0.0,\n",
       " 'Mark Hamill': 0.0,\n",
       " 'Nick Bakay': 0.0,\n",
       " 'William Daniels': 0.0,\n",
       " 'Don Cheadle': 0.0,\n",
       " 'Donald Fagen': 0.0,\n",
       " 'Drew Carey': 0.0,\n",
       " 'Judith Owen': 0.0006612156880202416,\n",
       " 'Donald Sutherland': 0.0,\n",
       " 'Dr. Demento': 0.0,\n",
       " 'Henry Corden': 0.0,\n",
       " 'Dudley R. Herschbach': 0.0,\n",
       " 'Jennifer Garner': 0.0,\n",
       " 'Jerry Lewis': 0.0,\n",
       " 'Oscar De La Hoya': 0.0,\n",
       " 'Dustin Hoffman': 0.0,\n",
       " 'Earl Mann': 0.0,\n",
       " 'Stephen Curry': 0.0,\n",
       " 'Ed McMahon': 0.0,\n",
       " 'Jerry Springer': 0.0,\n",
       " 'Kathie Lee Gifford': 0.0,\n",
       " 'Regis Philbin': 0.0,\n",
       " 'Robert Englund': 0.0,\n",
       " 'Eddie Izzard': 0.0,\n",
       " 'Edward Asner': 0.0,\n",
       " 'Edward Norton': 0.0,\n",
       " 'Edwin Moses': 0.0,\n",
       " 'Ellen DeGeneres': 0.0,\n",
       " 'Kara DioGuardi': 0.0,\n",
       " 'Randy Jackson': 0.0,\n",
       " 'Ryan Seacrest': 0.0,\n",
       " 'Simon Cowell': 0.0,\n",
       " 'Ellen Page': 0.0,\n",
       " 'Elton John': 0.0,\n",
       " 'Elwood Edwards': 0.0,\n",
       " 'Emily Blunt': 0.0,\n",
       " 'Fall Out Boy': 0.0,\n",
       " 'Ernest Borgnine': 0.0,\n",
       " 'Evan Marriott': 0.0,\n",
       " 'Ian McKellen': 0.0,\n",
       " 'J. K. Rowling': 0.0,\n",
       " 'Jane Leeves': 0.0,\n",
       " 'Tony Blair': 0.0,\n",
       " 'Fran Drescher': 0.0,\n",
       " 'Phil McGraw': 0.0,\n",
       " 'Richard Lewis': 0.0,\n",
       " 'Sir Mix-a-Lot': 0.0,\n",
       " 'Joan Kenley': 0.00021761823687545828,\n",
       " 'Shawn Colvin': 0.0,\n",
       " \"The B-52's\": 0.0,\n",
       " 'The Who': 0.0,\n",
       " 'Tracey Ullman': 0.0,\n",
       " 'Frankie Muniz': 0.0,\n",
       " 'Fred Turner': 0.0,\n",
       " 'Jim Cummings': 0.0,\n",
       " 'Randy Bachman': 0.0,\n",
       " 'Trevor Denman': 0.0,\n",
       " 'Gailard Sartain': 0.0,\n",
       " 'Tim Conway': 0.0,\n",
       " 'Gary Busey': 0.0,\n",
       " 'Helen Fielding': 0.0,\n",
       " 'James L. Brooks': 0.0,\n",
       " 'Marisa Tomei': 0.0,\n",
       " 'Gene Tenace': 0.0,\n",
       " 'Sal Bando': 0.0,\n",
       " 'George Carlin': 0.0,\n",
       " 'Martin Mull': 0.0,\n",
       " 'Yo La Tengo': 0.0,\n",
       " 'George Fenneman': 0.0,\n",
       " 'Pamela Reed': 1.8894448055383405e-06,\n",
       " 'George Segal': 0.0,\n",
       " 'Joe Clabby': 0.0,\n",
       " 'Rhys Darby': 0.0,\n",
       " 'Julia Louis-Dreyfus': 0.0004753596175327821,\n",
       " 'Gerry Cooney': 0.0,\n",
       " 'Robert Goulet': 0.0,\n",
       " 'Harry Morgan': 0.0,\n",
       " 'Lance Armstrong': 0.0,\n",
       " 'Gore Vidal': 0.0,\n",
       " 'Jonathan Franzen': 0.0,\n",
       " 'Michael Chabon': 0.0,\n",
       " 'Tom Wolfe': 0.0,\n",
       " 'Gregory Peck (archival)': 0.0,\n",
       " 'John Megna (archival)': 0.0,\n",
       " 'Mary Badham (archival)': 0.0,\n",
       " 'Phillip Alford (archival)': 0.0,\n",
       " 'Halle Berry': 0.0,\n",
       " 'J. B. Smoove': 0.0,\n",
       " 'Nick Park': 0.0,\n",
       " 'Ricky Gervais': 0.0023189058574580802,\n",
       " 'Russell Brand': 0.0,\n",
       " 'Harlan Ellison': 0.0,\n",
       " 'Stan Lee': 0.009693985519295,\n",
       " 'Heavy Young Heathens': 0.0,\n",
       " 'Matthew Sweet': 0.0,\n",
       " 'Sammy Hagar': 0.0,\n",
       " 'Will Forte': 0.005622987741282101,\n",
       " 'Helen Hunt': 0.0,\n",
       " 'Henry Winkler': 0.0,\n",
       " 'Jay North': 0.0,\n",
       " 'John Goodman': 0.0,\n",
       " 'NRBQ': 0.0018818870263161871,\n",
       " 'Illeana Douglas': 0.0,\n",
       " 'Jenny Slate': 0.0,\n",
       " 'Werner Herzog': 0.003756216273410221,\n",
       " 'Isabella Rossellini': 0.0,\n",
       " 'Jasper Johns': 0.0,\n",
       " 'Michael Dees': 0.018947461086425966,\n",
       " 'John Baldessari': 0.0,\n",
       " 'Kevin Pollak': 0.0,\n",
       " 'Jack Burns': 0.0,\n",
       " 'Mel Gibson': 0.0,\n",
       " 'Jack LaLanne': 0.0,\n",
       " 'Jack Lemmon': 0.0,\n",
       " 'Jack Ong': 0.0,\n",
       " 'James Earl Jones': 0.0004418271735033378,\n",
       " 'Joan Rivers': 0.0,\n",
       " 'Kevin Dillon': 0.0,\n",
       " 'Liev Schreiber': 0.0,\n",
       " 'Mr. T': 0.0,\n",
       " 'Theo Jansen': 0.0,\n",
       " 'Wayne Gretzky': 0.0,\n",
       " 'Jackson Browne': 0.0,\n",
       " 'Steve Buscemi': 0.001437696578705852,\n",
       " 'James Caan': 0.0,\n",
       " 'James Woods': 0.0,\n",
       " 'Kathy Griffin': 0.0,\n",
       " 'Jane Fonda': 0.0,\n",
       " 'Robert Siegel': 0.0,\n",
       " 'Jess Harnell': 0.0,\n",
       " 'Janet Reno': 0.0,\n",
       " 'Maggy Reno Hurchalla': 0.0,\n",
       " 'Jason Alexander': 0.0,\n",
       " 'Ken Jennings': 0.0,\n",
       " 'Neil deGrasse Tyson': 0.0,\n",
       " 'Robert McKee': 0.0,\n",
       " 'Suze Orman': 0.0,\n",
       " 'Jeff Bezos': 0.0,\n",
       " 'Mark Cuban': 0.0,\n",
       " 'Marv Albert': 0.0,\n",
       " 'Jeff Goldblum': 0.0,\n",
       " 'Jennifer Saunders': 0.0,\n",
       " 'Valerie Harper': 0.013456079649060664,\n",
       " 'Jim Forbes': 0.0,\n",
       " 'Willie Nelson': 0.0,\n",
       " 'Jim Jarmusch': 0.0,\n",
       " 'John C. Reilly': 0.0,\n",
       " 'Michael York': 0.005207852378503256,\n",
       " 'William H. Macy': 0.0,\n",
       " 'Joe Pantoliano': 0.0,\n",
       " 'Jon Hamm': 0.0,\n",
       " 'Metallica': 0.0,\n",
       " 'Michael Imperioli': 0.0,\n",
       " 'Neil Patrick Harris': 0.0,\n",
       " 'Nick Fascitelli': 0.0,\n",
       " 'Paul Newman': 0.0,\n",
       " 'Robert Forster': 0.0,\n",
       " 'Tavi Gevinson': 0.0,\n",
       " 'Joe Namath': 0.003756216273410221,\n",
       " 'Mike Judge': 0.0,\n",
       " 'Rachel Maddow': 0.0,\n",
       " 'Roy Firestone': 0.0,\n",
       " 'Joey Kramer': 0.0,\n",
       " 'John F. Kennedy (archival)': 0.0,\n",
       " \"Shaquille O'Neal\": 0.0,\n",
       " 'John Lithgow': 0.0,\n",
       " 'Josh Groban': 0.0,\n",
       " 'Okilly Dokilly': 0.0,\n",
       " 'John Slattery': 0.0,\n",
       " 'Matthew Weiner': 0.0,\n",
       " 'Johnnie Cochran (archival)': 0.0,\n",
       " 'Neil Armstrong (archival)': 0.005622987741282101,\n",
       " 'Richard Nixon (archival)': 0.0,\n",
       " 'Tom Savini': 0.0,\n",
       " 'Kat Dennings': 0.0,\n",
       " 'Ksenia Solo': 0.0,\n",
       " 'Norman Lear': 0.0,\n",
       " 'Richard Branson': 0.0,\n",
       " 'Ringo Starr': 0.0,\n",
       " 'Yaya DaCosta': 0.0,\n",
       " 'Yo-Yo Ma': 0.0,\n",
       " 'Jonah Hill': 0.0,\n",
       " 'Joyce Carol Oates': 0.0,\n",
       " 'June Foray': 0.0,\n",
       " 'Paul Willson': 0.0,\n",
       " 'Penny Marshall': 0.0,\n",
       " 'Kaitlin Olson': 0.0,\n",
       " 'Stephen Merchant': 0.0,\n",
       " 'Kareem Abdul-Jabbar': 0.0,\n",
       " 'Katy Perry': 0.0,\n",
       " 'Martha Stewart': 0.0,\n",
       " 'Maria Grazia Cucinotta': 0.0,\n",
       " 'Lisa Leslie': 0.0,\n",
       " 'Kenny Scharf': 0.0,\n",
       " 'Nicholas McKaig': 0.0,\n",
       " 'Robbie Conal': 0.0,\n",
       " 'Ron English': 0.0,\n",
       " 'Shepard Fairey': 0.0,\n",
       " 'Kiefer Sutherland': 0.001961402661441962,\n",
       " 'Lady Gaga': 0.0,\n",
       " 'Matt Groening': 0.0003470750609186468,\n",
       " 'Pharrell Williams': 0.0,\n",
       " 'Ping Marshall': 0.0,\n",
       " 'Ron Taylor': 0.002862991056889667,\n",
       " 'Sonny Rollins': 0.0,\n",
       " 'Tom Colicchio': 0.0,\n",
       " 'Mary Lynn Rajskub': 0.0,\n",
       " 'Kimmy Robertson': 0.0,\n",
       " 'Michael Jackson': 0.0,\n",
       " 'Kurt Loder': 0.0,\n",
       " 'Larina Jean Adamson': 0.0,\n",
       " 'The White Stripes': 0.0,\n",
       " 'Larry Hagman': 0.0,\n",
       " 'Melanie Griffith': 0.0,\n",
       " 'Larry McKay': 0.0,\n",
       " 'Lawrence Tierney': 0.0,\n",
       " 'LeBron James': 0.0,\n",
       " 'Michelle Kwan': 0.0,\n",
       " 'Tom Brady': 0.0,\n",
       " 'Warren Sapp': 0.0,\n",
       " 'Yao Ming': 0.0,\n",
       " 'Leeza Gibbons': 0.0,\n",
       " 'Liam Neeson': 0.0,\n",
       " 'Linda McCartney': 0.0,\n",
       " 'Paul McCartney': 0.0,\n",
       " 'Lionel Richie': 0.0,\n",
       " 'Stephen Colbert': 0.0,\n",
       " 'Lisa Lampanelli': 0.0,\n",
       " 'Seth MacFarlane': 0.0,\n",
       " 'Little Richard': 0.0,\n",
       " 'Lizzy Caplan': 0.0,\n",
       " 'Michael Sheen': 0.0,\n",
       " 'Lucy Liu': 0.0,\n",
       " 'Robert Wagner': 0.0,\n",
       " 'Ludacris': 0.0,\n",
       " 'Magnus Carlsen': 0.0,\n",
       " 'Seth Green': 0.0,\n",
       " 'Mandy Moore': 0.0,\n",
       " 'Mandy Patinkin': 0.0,\n",
       " 'Marc Wilmore': 0.0018818870263161871,\n",
       " 'Nick Offerman': 0.0,\n",
       " 'Parker Posey': 0.0,\n",
       " 'Mark McGwire': 0.0,\n",
       " 'Martin Sheen': 0.0,\n",
       " 'Matthew Perry': 0.0,\n",
       " 'Merl Reagle': 0.0,\n",
       " 'Michael Moore': 0.0,\n",
       " 'Michelle Pfeiffer': 0.0,\n",
       " 'Mitch Albom': 0.0,\n",
       " \"Nancy O'Dell\": 0.0,\n",
       " \"Pat O'Brien\": 0.0,\n",
       " 'Patrick McGoohan': 0.0,\n",
       " 'Paul Anka': 0.0,\n",
       " 'Paul McGuinness': 0.0,\n",
       " 'Paul Winfield': 0.0005849631144384534,\n",
       " 'Pierce Brosnan': 0.0,\n",
       " 'Richard Dawkins': 0.0,\n",
       " 'Ronaldo': 0.0,\n",
       " 'Rudy Giuliani': 0.0,\n",
       " 'Sam McMurray': 0.0,\n",
       " 'Stephen Jay Gould': 0.0,\n",
       " 'Steve Allen': 0.0,\n",
       " 'Steve Martin': 0.0,\n",
       " 'Sting': 0.0,\n",
       " 'Susie Smith': 0.0,\n",
       " 'Terry Gross': 0.0018818870263161871,\n",
       " 'The Moody Blues': 0.0,\n",
       " 'Theodore Roosevelt (archival)': 0.0,\n",
       " 'Tina Fey': 0.0,\n",
       " 'Tom Jones': 0.0,\n",
       " 'Topher Grace': 0.0,\n",
       " 'U2': 0.0,\n",
       " 'Werner Klemperer': 0.0,\n",
       " 'Will Shortz': 0.0,\n",
       " 'Mark Campbell': 0.0,\n",
       " 'Nichelle Nichols': 0.0,\n",
       " 'Tom Waits': 0.0,\n",
       " 'Will Lyman': 0.0,\n",
       " 'Max von Sydow': 0.0,\n",
       " 'Maya Rudolph': 0.0,\n",
       " 'Plácido Domingo': 0.0,\n",
       " 'Meher Tatna': 0.0,\n",
       " 'Richard Dean Anderson': 0.0,\n",
       " 'Mel Brooks': 0.0,\n",
       " 'Michael Buffer': 0.0,\n",
       " 'Rob Reiner': 0.0,\n",
       " 'Michele Pillar': 0.0,\n",
       " 'Mickey Rooney': 0.0,\n",
       " 'Miriam Flynn': 0.0,\n",
       " 'Sara Gilbert': 0.0,\n",
       " 'Patti LuPone': 0.0,\n",
       " 'Ray Romano': 0.0,\n",
       " 'Reese Witherspoon': 0.0,\n",
       " 'Wolfgang Puck': 0.0,\n",
       " 'Steve Coogan': 0.0,\n",
       " 'Treat Williams': 0.0,\n",
       " 'RuPaul': 0.0,\n",
       " 'Sutan Amrull': 0.0,\n",
       " 'Sacha Baron Cohen': 0.0,\n",
       " 'Yael Naim': 0.0}"
      ]
     },
     "execution_count": 203,
     "metadata": {},
     "output_type": "execute_result"
    }
   ],
   "source": [
    "bb"
   ]
  },
  {
   "cell_type": "code",
   "execution_count": 206,
   "metadata": {
    "ExecuteTime": {
     "end_time": "2020-04-17T14:38:46.602379Z",
     "start_time": "2020-04-17T14:38:45.917160Z"
    }
   },
   "outputs": [],
   "source": [
    "bb = nx.betweenness_centrality(G)\n",
    "nx.set_node_attributes(G, bb, 'betweenness')"
   ]
  },
  {
   "cell_type": "code",
   "execution_count": 209,
   "metadata": {
    "ExecuteTime": {
     "end_time": "2020-04-17T14:39:18.038901Z",
     "start_time": "2020-04-17T14:39:14.630586Z"
    }
   },
   "outputs": [
    {
     "data": {
      "image/png": "[encoded data removed]",
      "text/plain": [
       "<Figure size 432x288 with 1 Axes>"
      ]
     },
     "metadata": {},
     "output_type": "display_data"
    }
   ],
   "source": [
    "#d = dict(G.degree)\n",
    "#d\n",
    "nx.draw(G, nodelist=bb.keys(), node_size=2, edge_size=2)"
   ]
  },
  {
   "cell_type": "code",
   "execution_count": 210,
   "metadata": {
    "ExecuteTime": {
     "end_time": "2020-04-17T14:39:43.905169Z",
     "start_time": "2020-04-17T14:39:27.095320Z"
    }
   },
   "outputs": [
    {
     "data": {
      "image/png": "[encoded data removed]",
      "text/plain": [
       "<Figure size 432x288 with 1 Axes>"
      ]
     },
     "metadata": {},
     "output_type": "display_data"
    }
   ],
   "source": [
    "nx.draw_kamada_kawai(G, node_size=20, node_color='cyan')"
   ]
  },
  {
   "cell_type": "code",
   "execution_count": 28,
   "metadata": {
    "ExecuteTime": {
     "end_time": "2020-04-13T07:28:17.990004Z",
     "start_time": "2020-04-13T07:28:17.980003Z"
    },
    "collapsed": true
   },
   "outputs": [
    {
     "data": {
      "text/html": [
       "<div>\n",
       "<style scoped>\n",
       "    .dataframe tbody tr th:only-of-type {\n",
       "        vertical-align: middle;\n",
       "    }\n",
       "\n",
       "    .dataframe tbody tr th {\n",
       "        vertical-align: top;\n",
       "    }\n",
       "\n",
       "    .dataframe thead th {\n",
       "        text-align: right;\n",
       "    }\n",
       "</style>\n",
       "<table border=\"1\" class=\"dataframe\">\n",
       "  <thead>\n",
       "    <tr style=\"text-align: right;\">\n",
       "      <th></th>\n",
       "      <th>season</th>\n",
       "      <th>number</th>\n",
       "      <th>production_code</th>\n",
       "      <th>episode_title</th>\n",
       "      <th>guest_star</th>\n",
       "      <th>role</th>\n",
       "    </tr>\n",
       "  </thead>\n",
       "  <tbody>\n",
       "    <tr>\n",
       "      <th>0</th>\n",
       "      <td>1</td>\n",
       "      <td>002–102</td>\n",
       "      <td>7G02</td>\n",
       "      <td>Bart the Genius</td>\n",
       "      <td>Marcia Wallace</td>\n",
       "      <td>Edna Krabappel;  Ms. Melon</td>\n",
       "    </tr>\n",
       "    <tr>\n",
       "      <th>1</th>\n",
       "      <td>1</td>\n",
       "      <td>003–103</td>\n",
       "      <td>7G03</td>\n",
       "      <td>Homer's Odyssey</td>\n",
       "      <td>Sam McMurray</td>\n",
       "      <td>Worker</td>\n",
       "    </tr>\n",
       "    <tr>\n",
       "      <th>2</th>\n",
       "      <td>1</td>\n",
       "      <td>003–103</td>\n",
       "      <td>7G03</td>\n",
       "      <td>Homer's Odyssey</td>\n",
       "      <td>Marcia Wallace</td>\n",
       "      <td>Edna Krabappel</td>\n",
       "    </tr>\n",
       "    <tr>\n",
       "      <th>3</th>\n",
       "      <td>1</td>\n",
       "      <td>006–106</td>\n",
       "      <td>7G06</td>\n",
       "      <td>Moaning Lisa</td>\n",
       "      <td>Miriam Flynn</td>\n",
       "      <td>Ms. Barr</td>\n",
       "    </tr>\n",
       "    <tr>\n",
       "      <th>4</th>\n",
       "      <td>1</td>\n",
       "      <td>006–106</td>\n",
       "      <td>7G06</td>\n",
       "      <td>Moaning Lisa</td>\n",
       "      <td>Ron Taylor</td>\n",
       "      <td>Bleeding Gums Murphy</td>\n",
       "    </tr>\n",
       "    <tr>\n",
       "      <th>...</th>\n",
       "      <td>...</td>\n",
       "      <td>...</td>\n",
       "      <td>...</td>\n",
       "      <td>...</td>\n",
       "      <td>...</td>\n",
       "      <td>...</td>\n",
       "    </tr>\n",
       "    <tr>\n",
       "      <th>1381</th>\n",
       "      <td>30</td>\n",
       "      <td>661–3022</td>\n",
       "      <td>YABF15</td>\n",
       "      <td>Woo-Hoo Dunnit?</td>\n",
       "      <td>Jackie Mason</td>\n",
       "      <td>Rabbi Hyman Krustofsky</td>\n",
       "    </tr>\n",
       "    <tr>\n",
       "      <th>1382</th>\n",
       "      <td>30</td>\n",
       "      <td>661–3022</td>\n",
       "      <td>YABF15</td>\n",
       "      <td>Woo-Hoo Dunnit?</td>\n",
       "      <td>Liev Schreiber</td>\n",
       "      <td>Dateline: Springfield Narrator</td>\n",
       "    </tr>\n",
       "    <tr>\n",
       "      <th>1383</th>\n",
       "      <td>30</td>\n",
       "      <td>662–3023</td>\n",
       "      <td>YABF16</td>\n",
       "      <td>Crystal Blue-Haired Persuasion</td>\n",
       "      <td>Illeana Douglas</td>\n",
       "      <td>New Age Clerk</td>\n",
       "    </tr>\n",
       "    <tr>\n",
       "      <th>1384</th>\n",
       "      <td>30</td>\n",
       "      <td>662–3023</td>\n",
       "      <td>YABF16</td>\n",
       "      <td>Crystal Blue-Haired Persuasion</td>\n",
       "      <td>Werner Herzog</td>\n",
       "      <td>Walter Hotenhoffer</td>\n",
       "    </tr>\n",
       "    <tr>\n",
       "      <th>1385</th>\n",
       "      <td>30</td>\n",
       "      <td>662–3023</td>\n",
       "      <td>YABF16</td>\n",
       "      <td>Crystal Blue-Haired Persuasion</td>\n",
       "      <td>Jenny Slate</td>\n",
       "      <td>Piper Paisley</td>\n",
       "    </tr>\n",
       "  </tbody>\n",
       "</table>\n",
       "<p>1386 rows × 6 columns</p>\n",
       "</div>"
      ],
      "text/plain": [
       "     season    number production_code                   episode_title  \\\n",
       "0         1   002–102            7G02                 Bart the Genius   \n",
       "1         1   003–103            7G03                 Homer's Odyssey   \n",
       "2         1   003–103            7G03                 Homer's Odyssey   \n",
       "3         1   006–106            7G06                    Moaning Lisa   \n",
       "4         1   006–106            7G06                    Moaning Lisa   \n",
       "...     ...       ...             ...                             ...   \n",
       "1381     30  661–3022          YABF15                 Woo-Hoo Dunnit?   \n",
       "1382     30  661–3022          YABF15                 Woo-Hoo Dunnit?   \n",
       "1383     30  662–3023          YABF16  Crystal Blue-Haired Persuasion   \n",
       "1384     30  662–3023          YABF16  Crystal Blue-Haired Persuasion   \n",
       "1385     30  662–3023          YABF16  Crystal Blue-Haired Persuasion   \n",
       "\n",
       "           guest_star                            role  \n",
       "0      Marcia Wallace      Edna Krabappel;  Ms. Melon  \n",
       "1        Sam McMurray                          Worker  \n",
       "2      Marcia Wallace                  Edna Krabappel  \n",
       "3        Miriam Flynn                        Ms. Barr  \n",
       "4          Ron Taylor            Bleeding Gums Murphy  \n",
       "...               ...                             ...  \n",
       "1381     Jackie Mason          Rabbi Hyman Krustofsky  \n",
       "1382   Liev Schreiber  Dateline: Springfield Narrator  \n",
       "1383  Illeana Douglas                   New Age Clerk  \n",
       "1384    Werner Herzog              Walter Hotenhoffer  \n",
       "1385      Jenny Slate                   Piper Paisley  \n",
       "\n",
       "[1386 rows x 6 columns]"
      ]
     },
     "execution_count": 28,
     "metadata": {},
     "output_type": "execute_result"
    }
   ],
   "source": [
    "df"
   ]
  },
  {
   "cell_type": "code",
   "execution_count": 212,
   "metadata": {
    "ExecuteTime": {
     "end_time": "2020-04-17T14:40:05.385041Z",
     "start_time": "2020-04-17T14:40:05.382020Z"
    }
   },
   "outputs": [
    {
     "data": {
      "text/plain": [
       "218"
      ]
     },
     "execution_count": 212,
     "metadata": {},
     "output_type": "execute_result"
    }
   ],
   "source": [
    "len(list(G.neighbors('Marcia Wallace')))"
   ]
  },
  {
   "cell_type": "markdown",
   "metadata": {},
   "source": [
    "# Interactive Visualization"
   ]
  },
  {
   "cell_type": "code",
   "execution_count": 30,
   "metadata": {
    "ExecuteTime": {
     "end_time": "2020-04-13T07:28:18.006931Z",
     "start_time": "2020-04-13T07:28:18.003939Z"
    },
    "collapsed": true
   },
   "outputs": [],
   "source": [
    "# !pip install pyvis"
   ]
  },
  {
   "cell_type": "code",
   "execution_count": 256,
   "metadata": {
    "ExecuteTime": {
     "end_time": "2020-04-17T15:09:03.327521Z",
     "start_time": "2020-04-17T15:09:03.320540Z"
    }
   },
   "outputs": [
    {
     "data": {
      "text/html": [
       "<div>\n",
       "<style scoped>\n",
       "    .dataframe tbody tr th:only-of-type {\n",
       "        vertical-align: middle;\n",
       "    }\n",
       "\n",
       "    .dataframe tbody tr th {\n",
       "        vertical-align: top;\n",
       "    }\n",
       "\n",
       "    .dataframe thead th {\n",
       "        text-align: right;\n",
       "    }\n",
       "</style>\n",
       "<table border=\"1\" class=\"dataframe\">\n",
       "  <thead>\n",
       "    <tr style=\"text-align: right;\">\n",
       "      <th></th>\n",
       "      <th>guest_star_src</th>\n",
       "      <th>guest_star_dest</th>\n",
       "      <th>episode_title</th>\n",
       "    </tr>\n",
       "  </thead>\n",
       "  <tbody>\n",
       "    <tr>\n",
       "      <td>2</td>\n",
       "      <td>50 Cent</td>\n",
       "      <td>Dana Gould</td>\n",
       "      <td>1</td>\n",
       "    </tr>\n",
       "    <tr>\n",
       "      <td>4</td>\n",
       "      <td>Aaron Paul</td>\n",
       "      <td>Bryan Cranston</td>\n",
       "      <td>1</td>\n",
       "    </tr>\n",
       "    <tr>\n",
       "      <td>5</td>\n",
       "      <td>Aaron Paul</td>\n",
       "      <td>George Takei</td>\n",
       "      <td>1</td>\n",
       "    </tr>\n",
       "    <tr>\n",
       "      <td>6</td>\n",
       "      <td>Aaron Paul</td>\n",
       "      <td>Marcia Wallace</td>\n",
       "      <td>1</td>\n",
       "    </tr>\n",
       "    <tr>\n",
       "      <td>7</td>\n",
       "      <td>Aaron Paul</td>\n",
       "      <td>Maurice LaMarche</td>\n",
       "      <td>1</td>\n",
       "    </tr>\n",
       "  </tbody>\n",
       "</table>\n",
       "</div>"
      ],
      "text/plain": [
       "  guest_star_src   guest_star_dest  episode_title\n",
       "2        50 Cent        Dana Gould              1\n",
       "4     Aaron Paul    Bryan Cranston              1\n",
       "5     Aaron Paul      George Takei              1\n",
       "6     Aaron Paul    Marcia Wallace              1\n",
       "7     Aaron Paul  Maurice LaMarche              1"
      ]
     },
     "execution_count": 256,
     "metadata": {},
     "output_type": "execute_result"
    }
   ],
   "source": [
    "graph_df.head()"
   ]
  },
  {
   "cell_type": "code",
   "execution_count": 257,
   "metadata": {
    "ExecuteTime": {
     "end_time": "2020-04-17T15:09:23.439273Z",
     "start_time": "2020-04-17T15:09:23.436282Z"
    }
   },
   "outputs": [],
   "source": [
    "from pyvis.network import Network"
   ]
  },
  {
   "cell_type": "code",
   "execution_count": 258,
   "metadata": {
    "ExecuteTime": {
     "end_time": "2020-04-17T15:09:49.537500Z",
     "start_time": "2020-04-17T15:09:49.529521Z"
    }
   },
   "outputs": [],
   "source": [
    "g = Network(notebook=True)"
   ]
  },
  {
   "cell_type": "code",
   "execution_count": 259,
   "metadata": {
    "ExecuteTime": {
     "end_time": "2020-04-17T15:09:51.993068Z",
     "start_time": "2020-04-17T15:09:51.988082Z"
    },
    "scrolled": true
   },
   "outputs": [
    {
     "data": {
      "text/plain": [
       "NodeView(('50 Cent', 'Dana Gould', 'Aaron Paul', 'Bryan Cranston', 'George Takei', 'Marcia Wallace', 'Maurice LaMarche', 'Wanda Sykes', 'Adam Driver', 'Allison Williams', 'Jemima Kirke', 'Laura Ingraham', 'Lena Dunham', 'Zosia Mamet', 'Adam Savage', 'Jamie Hyneman', 'Michael Cera', 'Adam Silver', 'Brian Posehn', 'Rob Riggle', 'Vanessa Bayer', 'Adam West', 'Baha Men', 'Burt Ward', 'Jan Hooks', 'Linda Ronstadt', 'Phil Hartman', 'Aerosmith', 'Kipp Lennon', 'Al Roker', 'Anne Hathaway', 'Don Pardo', 'Ken Burns', 'Kevin Michael Richardson', 'Natalie Portman', 'Sarah Michelle Gellar', 'Sarah Silverman', 'Zooey Deschanel', 'Alan Moore', 'Art Spiegelman', 'Daniel Clowes', 'Jack Black', 'Sang Am Lee', 'Albert Brooks', 'Green Day', 'James Brown', 'Joe Mantegna', 'Johnny Mathis', 'Philip Rosenthal', 'Sally Stevens', 'Tom Hanks', 'Alec Baldwin', 'Brian Grazer', 'Kim Basinger', 'Ron Howard', 'Alex Rocco', 'Jack Sheldon', 'Kirk Douglas', 'Suzanne Somers', 'Alex Trebek', 'Steve Carell', 'Terry W. Greene', 'Alison Bechdel', 'Dan Harmon', 'Marjane Satrapi', 'Martin Short', 'Rachel Bloom', 'Roz Chast', 'Alison Krauss and Union Station', 'Jackie Mason', 'Julian Assange', 'Kelsey Grammer', 'Susie Stevens', 'Alton Brown', 'Anthony Newley (archival)', 'Ben Schwartz', 'Bobby Moynihan', 'Edward James Olmos', 'Rex Harrison (archival)', 'Alyson Hannigan', 'Kristen Wiig', 'Scott Thompson', 'Amber Riley', 'Bret McKenzie', 'Cory Monteith', 'Ira Glass', 'Jemaine Clement', 'Lea Michele', 'Stephen Hawking', 'Amick Byram', 'Bob Joyce', 'Frances McDormand', 'Jim Gilstrap', 'Oren Waters', 'Amy Poehler', 'John DiMaggio', 'Amy Schumer', 'Pendleton Ward', 'Amy Tan', 'Drew Barrymore', 'Jay Mohr', 'John Updike', 'Stephen King', 'Anderson Cooper', 'Eva Longoria', 'Andre Agassi', 'Pete Sampras', 'Serena Williams', 'Venus Williams', 'Andrea Martin', 'Andrés Cantor', 'Joey Vieira', 'Andy Daly', 'Damian Kulash', 'Dawnn Lewis', 'Jon Lovitz', 'Tim Nordwind', 'Andy Dick', 'James Patterson', 'Meg Ryan', 'Peter Bogdanovich', 'Stephen Sondheim', 'Andy García', 'Neil Gaiman', 'Andy Serkis', 'David Byrne', 'Jonathan Taylor Thomas', 'Angela Bassett', 'Anika Noni Rose', 'Jennifer Tilly', 'Marvin Hamlisch', 'Anne Bancroft', 'George Wendt', 'John Ratzenberger', 'Rhea Perlman', 'Ted Danson', 'Woody Harrelson', 'Eartha Kitt', 'Gary Larson', 'Anthony Bourdain', 'Eric Wareheim', 'Gordon Ramsay', 'Mario Batali', 'Tim Heidecker', 'Antonio Fargas', 'Dave Thomas', 'Randy Johnson', 'Susan Sarandon', 'Armie Hammer', 'David Letterman', 'Tiger Lillies', 'Aron Ralston', 'Ashley Olsen', 'Mary-Kate Olsen', 'Thomas Pynchon', 'Tom Clancy', 'Audrey Meadows', 'Awkwafina', 'Chelsea Peretti', 'Judy Blume', 'Lucas Meyer', 'Nicole Byer', 'Los Lobos', 'Barry White', 'Bette Midler', 'Elizabeth Taylor', 'Gene Merlino', 'Hugh Hefner', 'Johnny Carson', 'Luke Perry', 'Red Hot Chili Peppers', 'Ben Daniels', 'William Friedkin', 'Ben Schatz', 'Weird Al Yankovic', 'Benedict Cumberbatch', 'Max Weinberg', 'Robert A. Caro', 'Betty White', 'J. K. Simmons', \"Beverly D'Angelo\", 'Dixie Chicks', 'Bill Burr', 'Doris Kearns Goodwin', 'Jason Nash', 'Michael Chiklis', 'Mike Mitchell', 'Rachel Dratch', 'Bill Hader', 'Cecily Strong', 'Jane Krakowski', 'Justin Bieber', 'Patrick Stewart', 'Bill James', 'Mike Scioscia', 'Bill Saluga', 'Olympia Dukakis', 'Bill de Blasio', 'Bryan Batt', \"Lawrence O'Donnell\", 'Billy Boyd', 'Nikolaj Coster-Waldau', 'Billy Eichner', 'Peter Serafinowicz', 'Billy West', 'David Herman', 'Frank Welker', 'Katey Sagal', 'Lauren Tom', 'Phil LaMarr', 'Blake Anderson', 'Nick Kroll', 'Renee Ridgeley', 'Blink-182', 'Jane Kaczmarek', 'Tony Hawk', 'Bob Boilen', 'Kate McKinnon', 'Natalie Maines', 'Bob Denver', 'Michael Carrington', 'Rod Steiger', 'Bob Hope', 'Lona Williams', 'Bob Newhart', 'Bobcat Goldthwait', 'Bruce Baum', 'Hank Williams, Jr.', 'Janeane Garofalo', 'Jay Leno', 'Steven Wright', 'Brave Combo', 'Brendan Fraser', 'Steven Weber', 'Denis Leary', 'Brian J. Kaufman', 'Jon Wurster', 'Tom Scharpling', 'Brian Setzer', 'Elvis Costello', 'Keith Richards', 'Lenny Kravitz', 'Mick Jagger', 'Tom Petty', 'Bruce Vilanch', 'Charles Napier', 'Michael Keaton', 'Robert Schimmel', 'Eric Idle', 'Butch Patrick', 'Garry Marshall', 'Buzz Aldrin', 'James Taylor', 'Caitlin Parrott', 'Glenn Close', 'Carice van Houten', 'Carl Kasell', 'John Oliver', 'Peter Sagal', 'Carmen Electra', 'Frances Sternhagen', 'Carol Kane', 'Greg Berg', 'Carrie Brownstein', 'Colin Meloy', 'Fred Armisen', 'Patton Oswalt', 'Cat Deeley', 'R. Lee Ermey', 'Stacy Keach', 'Channing Tatum', 'Judd Apatow', 'Leslie Mann', 'Paul Rudd', 'Rob Halford', 'Seth Rogen', 'Will Arnett', 'Charlean Carmon', 'Charles Barkley', 'Common', 'Destiny Torres', 'Jim Beanz', 'Keegan-Michael Key', 'RZA', 'Snoop Dogg', 'Taraji P. Henson', 'V. Bozeman', 'Frank Gehry', 'Charlie Rose', 'Diedrich Bader', 'Joe C.', 'Kid Rock', 'Robert Evans', 'Cheech Marin', 'Tommy Chong', 'Chick Hearn', 'Magic Johnson', 'Chris Hansen', 'Mark Zuckerberg', 'Muhammad Yunus', 'Chris Martin', 'Chris Wedge', 'Christina Ricci', 'Christopher Guest', 'Michael McKean', 'Christopher Lloyd', 'Rich Sommer', 'Chuck Liddell', 'Clarence Clemons', 'Gary Coleman', 'Tim Robbins', 'Cloris Leachman', 'Daniel Stern', 'Colm Meaney', 'Glen Hansard', 'Markéta Irglová', \"Conan O'Brien\", 'Cooper Manning', 'Eli Manning', 'Huell Howser', 'Jordan Nagai', 'Kim Cattrall', 'Peyton Manning', 'Smothers Brothers', 'Cyndi Lauper', 'Franklin D. Roosevelt (archival)', 'Cypress Hill', 'Peter Frampton', 'Sonic Youth', 'The Smashing Pumpkins', 'Dan Marino', 'Dolly Parton', 'Fred Willard', 'John Madden', 'Pat Summerall', 'Rosey Grier', 'Rupert Murdoch', 'Troy Aikman', 'Dan Mintz', 'Eugene Mirman', 'H. Jon Benjamin', 'John Roberts', 'Kristen Schaal', 'Ted Moock', 'Tracy Morgan', 'Dan Rather', 'Jon Stewart', 'John Kassir', 'Sab Shimono', 'Ted Nugent', 'Danica Patrick', 'Gregg Berger', 'Rachel Weisz', 'Daniel Radcliffe', 'Hugh Laurie', 'Jimmy O. Yang', 'Danny DeVito', 'Joe Frazier', 'Rashida Jones', 'Darryl Strawberry', 'Don Mattingly', 'Jose Canseco', 'Ken Griffey, Jr.', 'Ozzie Smith', 'Roger Clemens', 'Steve Sax', 'Terry Cashman', 'Wade Boggs', 'Daryl Coley', 'Ken Levine', 'Tom Poston', 'Tony Bennett', 'Dave Attell', 'Emily Deschanel', 'Gal Gadot', 'Jonathan Groff', 'Pete Holmes', 'Dave Matthews', 'David Copperfield', 'Jack McBrayer', 'Kristen Bell', 'Martin Landau', 'Penn Jillette', 'Ricky Jay', 'Teller', 'David Crosby', 'George Harrison', 'The Dapper Dans', 'David Duchovny', 'Gillian Anderson', 'Leonard Nimoy', 'David Hyde Pierce', 'Don Hertzfeldt', 'Jeff Ross', 'John Mahoney', 'Keith Olbermann', 'David Lander', 'Larry Holmes', 'David Mamet', 'James Lipton', 'Michael Paul Chan', 'David Silverman', 'Willem Dafoe', 'David Turley', 'Ken Jeong', 'Natasha Lyonne', 'Trombone Shorty', 'Deb Lacusta', 'Debi Mazar', 'Jonathan Schmock', 'Ray Liotta', 'Delroy Lindo', 'Denice Kumagai', 'Gedde Watanabe', 'Karen Maruyama', 'Keone Young', 'Denise Donatelli', 'Dennis Rodman', 'Terry Bradshaw', 'Dennis Weaver', 'Diana Tanaka', 'Joey Miyashima', 'Larry King', 'Dick Cavett', 'Johnny Unitas', 'Dick Clark', 'Lucy Lawless', 'Tom Arnold', 'Dick Tufeld', 'Isabel Sanford', 'Mark Hamill', 'Nick Bakay', 'William Daniels', 'Don Cheadle', 'Donald Fagen', 'Drew Carey', 'Judith Owen', 'Donald Sutherland', 'Dr. Demento', 'Henry Corden', 'Dudley R. Herschbach', 'Jennifer Garner', 'Jerry Lewis', 'Oscar De La Hoya', 'Dustin Hoffman', 'Earl Mann', 'Stephen Curry', 'Ed McMahon', 'Jerry Springer', 'Kathie Lee Gifford', 'Regis Philbin', 'Robert Englund', 'Eddie Izzard', 'Edward Asner', 'Edward Norton', 'Edwin Moses', 'Ellen DeGeneres', 'Kara DioGuardi', 'Randy Jackson', 'Ryan Seacrest', 'Simon Cowell', 'Ellen Page', 'Elton John', 'Elwood Edwards', 'Emily Blunt', 'Fall Out Boy', 'Ernest Borgnine', 'Evan Marriott', 'Ian McKellen', 'J. K. Rowling', 'Jane Leeves', 'Tony Blair', 'Fran Drescher', 'Phil McGraw', 'Richard Lewis', 'Sir Mix-a-Lot', 'Joan Kenley', 'Shawn Colvin', \"The B-52's\", 'The Who', 'Tracey Ullman', 'Frankie Muniz', 'Fred Turner', 'Jim Cummings', 'Randy Bachman', 'Trevor Denman', 'Gailard Sartain', 'Tim Conway', 'Gary Busey', 'Helen Fielding', 'James L. Brooks', 'Marisa Tomei', 'Gene Tenace', 'Sal Bando', 'George Carlin', 'Martin Mull', 'Yo La Tengo', 'George Fenneman', 'Pamela Reed', 'George Segal', 'Joe Clabby', 'Rhys Darby', 'Julia Louis-Dreyfus', 'Gerry Cooney', 'Robert Goulet', 'Harry Morgan', 'Lance Armstrong', 'Gore Vidal', 'Jonathan Franzen', 'Michael Chabon', 'Tom Wolfe', 'Gregory Peck (archival)', 'John Megna (archival)', 'Mary Badham (archival)', 'Phillip Alford (archival)', 'Halle Berry', 'J. B. Smoove', 'Nick Park', 'Ricky Gervais', 'Russell Brand', 'Harlan Ellison', 'Stan Lee', 'Heavy Young Heathens', 'Matthew Sweet', 'Sammy Hagar', 'Will Forte', 'Helen Hunt', 'Henry Winkler', 'Jay North', 'John Goodman', 'NRBQ', 'Illeana Douglas', 'Jenny Slate', 'Werner Herzog', 'Isabella Rossellini', 'Jasper Johns', 'Michael Dees', 'John Baldessari', 'Kevin Pollak', 'Jack Burns', 'Mel Gibson', 'Jack LaLanne', 'Jack Lemmon', 'Jack Ong', 'James Earl Jones', 'Joan Rivers', 'Kevin Dillon', 'Liev Schreiber', 'Mr. T', 'Theo Jansen', 'Wayne Gretzky', 'Jackson Browne', 'Steve Buscemi', 'James Caan', 'James Woods', 'Kathy Griffin', 'Jane Fonda', 'Robert Siegel', 'Jess Harnell', 'Janet Reno', 'Maggy Reno Hurchalla', 'Jason Alexander', 'Ken Jennings', 'Neil deGrasse Tyson', 'Robert McKee', 'Suze Orman', 'Jeff Bezos', 'Mark Cuban', 'Marv Albert', 'Jeff Goldblum', 'Jennifer Saunders', 'Valerie Harper', 'Jim Forbes', 'Willie Nelson', 'Jim Jarmusch', 'John C. Reilly', 'Michael York', 'William H. Macy', 'Joe Pantoliano', 'Jon Hamm', 'Metallica', 'Michael Imperioli', 'Neil Patrick Harris', 'Nick Fascitelli', 'Paul Newman', 'Robert Forster', 'Tavi Gevinson', 'Joe Namath', 'Mike Judge', 'Rachel Maddow', 'Roy Firestone', 'Joey Kramer', 'John F. Kennedy (archival)', \"Shaquille O'Neal\", 'John Lithgow', 'Josh Groban', 'Okilly Dokilly', 'John Slattery', 'Matthew Weiner', 'Johnnie Cochran (archival)', 'Neil Armstrong (archival)', 'Richard Nixon (archival)', 'Tom Savini', 'Kat Dennings', 'Ksenia Solo', 'Norman Lear', 'Richard Branson', 'Ringo Starr', 'Yaya DaCosta', 'Yo-Yo Ma', 'Jonah Hill', 'Joyce Carol Oates', 'June Foray', 'Paul Willson', 'Penny Marshall', 'Kaitlin Olson', 'Stephen Merchant', 'Kareem Abdul-Jabbar', 'Katy Perry', 'Martha Stewart', 'Maria Grazia Cucinotta', 'Lisa Leslie', 'Kenny Scharf', 'Nicholas McKaig', 'Robbie Conal', 'Ron English', 'Shepard Fairey', 'Kiefer Sutherland', 'Lady Gaga', 'Matt Groening', 'Pharrell Williams', 'Ping Marshall', 'Ron Taylor', 'Sonny Rollins', 'Tom Colicchio', 'Mary Lynn Rajskub', 'Kimmy Robertson', 'Michael Jackson', 'Kurt Loder', 'Larina Jean Adamson', 'The White Stripes', 'Larry Hagman', 'Melanie Griffith', 'Larry McKay', 'Lawrence Tierney', 'LeBron James', 'Michelle Kwan', 'Tom Brady', 'Warren Sapp', 'Yao Ming', 'Leeza Gibbons', 'Liam Neeson', 'Linda McCartney', 'Paul McCartney', 'Lionel Richie', 'Stephen Colbert', 'Lisa Lampanelli', 'Seth MacFarlane', 'Little Richard', 'Lizzy Caplan', 'Michael Sheen', 'Lucy Liu', 'Robert Wagner', 'Ludacris', 'Magnus Carlsen', 'Seth Green', 'Mandy Moore', 'Mandy Patinkin', 'Marc Wilmore', 'Nick Offerman', 'Parker Posey', 'Mark McGwire', 'Martin Sheen', 'Matthew Perry', 'Merl Reagle', 'Michael Moore', 'Michelle Pfeiffer', 'Mitch Albom', \"Nancy O'Dell\", \"Pat O'Brien\", 'Patrick McGoohan', 'Paul Anka', 'Paul McGuinness', 'Paul Winfield', 'Pierce Brosnan', 'Richard Dawkins', 'Ronaldo', 'Rudy Giuliani', 'Sam McMurray', 'Stephen Jay Gould', 'Steve Allen', 'Steve Martin', 'Sting', 'Susie Smith', 'Terry Gross', 'The Moody Blues', 'Theodore Roosevelt (archival)', 'Tina Fey', 'Tom Jones', 'Topher Grace', 'U2', 'Werner Klemperer', 'Will Shortz', 'Mark Campbell', 'Nichelle Nichols', 'Tom Waits', 'Will Lyman', 'Max von Sydow', 'Maya Rudolph', 'Plácido Domingo', 'Meher Tatna', 'Richard Dean Anderson', 'Mel Brooks', 'Michael Buffer', 'Rob Reiner', 'Michele Pillar', 'Mickey Rooney', 'Miriam Flynn', 'Sara Gilbert', 'Patti LuPone', 'Ray Romano', 'Reese Witherspoon', 'Wolfgang Puck', 'Steve Coogan', 'Treat Williams', 'RuPaul', 'Sutan Amrull', 'Sacha Baron Cohen', 'Yael Naim'))"
      ]
     },
     "execution_count": 259,
     "metadata": {},
     "output_type": "execute_result"
    }
   ],
   "source": [
    "G.nodes()"
   ]
  },
  {
   "cell_type": "code",
   "execution_count": 261,
   "metadata": {
    "ExecuteTime": {
     "end_time": "2020-04-17T15:10:24.662631Z",
     "start_time": "2020-04-17T15:10:24.519039Z"
    }
   },
   "outputs": [],
   "source": [
    "g.from_nx(G)"
   ]
  },
  {
   "cell_type": "code",
   "execution_count": 262,
   "metadata": {
    "ExecuteTime": {
     "end_time": "2020-04-17T15:10:34.597468Z",
     "start_time": "2020-04-17T15:10:34.589462Z"
    }
   },
   "outputs": [
    {
     "data": {
      "text/html": [
       "\n",
       "        <iframe\n",
       "            width=\"500px\"\n",
       "            height=\"500px\"\n",
       "            src=\"test.html\"\n",
       "            frameborder=\"0\"\n",
       "            allowfullscreen\n",
       "        ></iframe>\n",
       "        "
      ],
      "text/plain": [
       "<IPython.lib.display.IFrame at 0x276425c7630>"
      ]
     },
     "execution_count": 262,
     "metadata": {},
     "output_type": "execute_result"
    }
   ],
   "source": [
    "g.show('test.html', )"
   ]
  },
  {
   "cell_type": "markdown",
   "metadata": {},
   "source": [
    "# Game of Thrones Graph"
   ]
  },
  {
   "cell_type": "code",
   "execution_count": 265,
   "metadata": {
    "ExecuteTime": {
     "end_time": "2020-04-17T15:16:19.150769Z",
     "start_time": "2020-04-17T15:16:18.418380Z"
    }
   },
   "outputs": [
    {
     "data": {
      "text/html": [
       "\n",
       "        <iframe\n",
       "            width=\"100%\"\n",
       "            height=\"750px\"\n",
       "            src=\"gameofthrones.html\"\n",
       "            frameborder=\"0\"\n",
       "            allowfullscreen\n",
       "        ></iframe>\n",
       "        "
      ],
      "text/plain": [
       "<IPython.lib.display.IFrame at 0x27642ac6860>"
      ]
     },
     "execution_count": 265,
     "metadata": {},
     "output_type": "execute_result"
    }
   ],
   "source": [
    "from pyvis.network import Network\n",
    "import pandas as pd\n",
    "url = 'https://www.macalester.edu/~abeverid/data/stormofswords.csv'\n",
    "# https://raw.githubusercontent.com/mathbeveridge/asoiaf/master/data/asoiaf-all-edges.csv\n",
    "\n",
    "\n",
    "got_net = Network(height=\"750px\", width=\"100%\", notebook=True)\n",
    "\n",
    "# set the physics layout of the network\n",
    "got_net.barnes_hut()\n",
    "got_data = pd.read_csv(url)\n",
    "\n",
    "sources = got_data['Source']\n",
    "targets = got_data['Target']\n",
    "weights = got_data['Weight']\n",
    "\n",
    "edge_data = zip(sources, targets, weights)\n",
    "\n",
    "# run through each edge and assign a value\n",
    "for e in edge_data:\n",
    "    src = e[0]\n",
    "    dst = e[1]\n",
    "    w = e[2]\n",
    "\n",
    "    got_net.add_node(src, src, title=src)\n",
    "    got_net.add_node(dst, dst, title=dst)\n",
    "    got_net.add_edge(src, dst, value=w)\n",
    "\n",
    "# get neighbors\n",
    "neighbor_map = got_net.get_adj_list()\n",
    "\n",
    "# add neighbor data to node hover data\n",
    "for node in got_net.nodes:\n",
    "    node[\"title\"] += \" Neighbors:<br>\" + \"<br>\".join(neighbor_map[node[\"id\"]])\n",
    "    node[\"value\"] = len(neighbor_map[node[\"id\"]])\n",
    "\n",
    "got_net.show_buttons()\n",
    "got_net.show(\"gameofthrones.html\", )"
   ]
  },
  {
   "cell_type": "code",
   "execution_count": 266,
   "metadata": {
    "ExecuteTime": {
     "end_time": "2020-04-17T15:17:09.708362Z",
     "start_time": "2020-04-17T15:17:09.697357Z"
    }
   },
   "outputs": [],
   "source": [
    "got_net.save_graph('got.html')"
   ]
  },
  {
   "cell_type": "code",
   "execution_count": null,
   "metadata": {},
   "outputs": [],
   "source": [
    "# https://pyvis.readthedocs.io/en/latest/tutorial.html#visualization"
   ]
  }
 ],
 "metadata": {
  "kernelspec": {
   "display_name": "Python 3",
   "language": "python",
   "name": "python3"
  },
  "language_info": {
   "codemirror_mode": {
    "name": "ipython",
    "version": 3
   },
   "file_extension": ".py",
   "mimetype": "text/x-python",
   "name": "python",
   "nbconvert_exporter": "python",
   "pygments_lexer": "ipython3",
   "version": "3.7.4"
  },
  "toc": {
   "base_numbering": 1,
   "nav_menu": {},
   "number_sections": true,
   "sideBar": true,
   "skip_h1_title": false,
   "title_cell": "Table of Contents",
   "title_sidebar": "Contents",
   "toc_cell": false,
   "toc_position": {},
   "toc_section_display": true,
   "toc_window_display": false
  },
  "varInspector": {
   "cols": {
    "lenName": 16,
    "lenType": 16,
    "lenVar": 40
   },
   "kernels_config": {
    "python": {
     "delete_cmd_postfix": "",
     "delete_cmd_prefix": "del ",
     "library": "var_list.py",
     "varRefreshCmd": "print(var_dic_list())"
    },
    "r": {
     "delete_cmd_postfix": ") ",
     "delete_cmd_prefix": "rm(",
     "library": "var_list.r",
     "varRefreshCmd": "cat(var_dic_list()) "
    }
   },
   "types_to_exclude": [
    "module",
    "function",
    "builtin_function_or_method",
    "instance",
    "_Feature"
   ],
   "window_display": false
  }
 },
 "nbformat": 4,
 "nbformat_minor": 2
}
