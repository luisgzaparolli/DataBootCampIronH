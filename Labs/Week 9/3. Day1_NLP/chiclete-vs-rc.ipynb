{
 "cells": [
  {
   "cell_type": "code",
   "execution_count": 132,
   "metadata": {
    "ExecuteTime": {
     "end_time": "2020-05-12T21:20:45.084964Z",
     "start_time": "2020-05-12T21:20:45.045882Z"
    }
   },
   "outputs": [
    {
     "name": "stdout",
     "output_type": "stream",
     "text": [
      "/c/Users/andreaguiar/Desktop/usr/temp\n"
     ]
    }
   ],
   "source": [
    "!pwd"
   ]
  },
  {
   "cell_type": "code",
   "execution_count": 1,
   "metadata": {
    "ExecuteTime": {
     "end_time": "2020-05-11T19:51:40.112421Z",
     "start_time": "2020-05-11T19:51:39.705496Z"
    }
   },
   "outputs": [],
   "source": [
    "import pandas as pd\n",
    "import requests\n",
    "import re\n",
    "from bs4 import BeautifulSoup\n",
    "from tqdm.auto import tqdm"
   ]
  },
  {
   "cell_type": "code",
   "execution_count": 125,
   "metadata": {
    "ExecuteTime": {
     "end_time": "2020-05-12T12:16:17.002215Z",
     "start_time": "2020-05-12T12:16:16.804590Z"
    }
   },
   "outputs": [
    {
     "data": {
      "text/plain": [
       "['https://www.vagalume.com.br/chiclete-com-banana/vem.html',\n",
       " 'https://www.vagalume.com.br/chiclete-com-banana/deixa-meu-amor-te-levar.html',\n",
       " 'https://www.vagalume.com.br/chiclete-com-banana/sementes.html',\n",
       " 'https://www.vagalume.com.br/chiclete-com-banana/nao-vou-chorar.html',\n",
       " 'https://www.vagalume.com.br/chiclete-com-banana/contando-as-horas.html',\n",
       " 'https://www.vagalume.com.br/chiclete-com-banana/grito-de-guerra-2.html',\n",
       " 'https://www.vagalume.com.br/chiclete-com-banana/que-forca-e-essa.html',\n",
       " 'https://www.vagalume.com.br/chiclete-com-banana/100-voce.html',\n",
       " 'https://www.vagalume.com.br/chiclete-com-banana/eu-fui-atras-de-um-caminhao.html',\n",
       " 'https://www.vagalume.com.br/chiclete-com-banana/menina-me-da-seu-amor.html',\n",
       " 'https://www.vagalume.com.br/chiclete-com-banana/diga-que-valeu.html',\n",
       " 'https://www.vagalume.com.br/chiclete-com-banana/bem-vindo-ao-mar.html',\n",
       " 'https://www.vagalume.com.br/chiclete-com-banana/selva-branca.html',\n",
       " 'https://www.vagalume.com.br/chiclete-com-banana/amor-perfeito.html',\n",
       " 'https://www.vagalume.com.br/chiclete-com-banana/voa-voa.html',\n",
       " 'https://www.vagalume.com.br/chiclete-com-banana/fe-brasileira.html',\n",
       " 'https://www.vagalume.com.br/chiclete-com-banana/foi-por-esse-amor.html',\n",
       " 'https://www.vagalume.com.br/chiclete-com-banana/quero-chiclete.html',\n",
       " 'https://www.vagalume.com.br/chiclete-com-banana/nana-banana.html',\n",
       " 'https://www.vagalume.com.br/chiclete-com-banana/se-me-chamar-eu-vou.html',\n",
       " 'https://www.vagalume.com.br/chiclete-com-banana/ele-nao-monta-na-lambreta.html',\n",
       " 'https://www.vagalume.com.br/chiclete-com-banana/eu-sou-soteropolitano.html',\n",
       " 'https://www.vagalume.com.br/chiclete-com-banana/meu-cabelo-duro-e-assim.html',\n",
       " 'https://www.vagalume.com.br/chiclete-com-banana/amar-e-bom.html',\n",
       " 'https://www.vagalume.com.br/chiclete-com-banana/nana-e.html',\n",
       " 'https://www.vagalume.com.br/chiclete-com-banana/100-voce.html',\n",
       " 'https://www.vagalume.com.br/chiclete-com-banana/a-cor-da-vida.html',\n",
       " 'https://www.vagalume.com.br/chiclete-com-banana/a-dona-do-terreiro.html',\n",
       " 'https://www.vagalume.com.br/chiclete-com-banana/a-fila-andou.html',\n",
       " 'https://www.vagalume.com.br/chiclete-com-banana/a-minha-fantasia-era-voce.html',\n",
       " 'https://www.vagalume.com.br/chiclete-com-banana/abc-do-prazer.html',\n",
       " 'https://www.vagalume.com.br/chiclete-com-banana/abra-seu-coracao.html',\n",
       " 'https://www.vagalume.com.br/chiclete-com-banana/abraco-de-quintal.html',\n",
       " 'https://www.vagalume.com.br/chiclete-com-banana/acredite-se-quiser.html',\n",
       " 'https://www.vagalume.com.br/chiclete-com-banana/ae-ae-do-amor.html',\n",
       " 'https://www.vagalume.com.br/chiclete-com-banana/ai-eu-to-maluco.html',\n",
       " 'https://www.vagalume.com.br/chiclete-com-banana/alma-gemea.html',\n",
       " 'https://www.vagalume.com.br/chiclete-com-banana/amar-e-bom.html',\n",
       " 'https://www.vagalume.com.br/chiclete-com-banana/amar-e-bomdiga-espelho-meu.html',\n",
       " 'https://www.vagalume.com.br/chiclete-com-banana/amar-voce-nao-doi.html',\n",
       " 'https://www.vagalume.com.br/chiclete-com-banana/amar-voce-nao-doi-vem.html',\n",
       " 'https://www.vagalume.com.br/chiclete-com-banana/americanizou-pra-valer.html',\n",
       " 'https://www.vagalume.com.br/chiclete-com-banana/amor-da-minha-vida.html',\n",
       " 'https://www.vagalume.com.br/chiclete-com-banana/amor-perfeito.html',\n",
       " 'https://www.vagalume.com.br/chiclete-com-banana/ana-bonita.html',\n",
       " 'https://www.vagalume.com.br/chiclete-com-banana/anjo-marginal.html',\n",
       " 'https://www.vagalume.com.br/chiclete-com-banana/aririo.html',\n",
       " 'https://www.vagalume.com.br/chiclete-com-banana/ate-o-carnaval-trazer-todo-axe.html',\n",
       " 'https://www.vagalume.com.br/chiclete-com-banana/atras-do-caminhao.html',\n",
       " 'https://www.vagalume.com.br/chiclete-com-banana/bala-na-agulha.html',\n",
       " 'https://www.vagalume.com.br/chiclete-com-banana/balancar-o-abada.html',\n",
       " 'https://www.vagalume.com.br/chiclete-com-banana/balanco-do-camaleao.html',\n",
       " 'https://www.vagalume.com.br/chiclete-com-banana/balanco-do-chiclete.html',\n",
       " 'https://www.vagalume.com.br/chiclete-com-banana/balao-dourado.html',\n",
       " 'https://www.vagalume.com.br/chiclete-com-banana/banana-metal.html',\n",
       " 'https://www.vagalume.com.br/chiclete-com-banana/banana-real.html',\n",
       " 'https://www.vagalume.com.br/chiclete-com-banana/bateu-saudade.html',\n",
       " 'https://www.vagalume.com.br/chiclete-com-banana/batuque-da-massa.html',\n",
       " 'https://www.vagalume.com.br/chiclete-com-banana/batuque-do-cais.html',\n",
       " 'https://www.vagalume.com.br/chiclete-com-banana/beijo-cigano.html',\n",
       " 'https://www.vagalume.com.br/chiclete-com-banana/beijo-em-alto-mar.html',\n",
       " 'https://www.vagalume.com.br/chiclete-com-banana/belo-camaleao.html',\n",
       " 'https://www.vagalume.com.br/chiclete-com-banana/bem-vindo-ao-mar.html',\n",
       " 'https://www.vagalume.com.br/chiclete-com-banana/boca-do-povo.html',\n",
       " 'https://www.vagalume.com.br/chiclete-com-banana/boi-da-cara-preta.html',\n",
       " 'https://www.vagalume.com.br/chiclete-com-banana/bombonieri.html',\n",
       " 'https://www.vagalume.com.br/chiclete-com-banana/broto.html',\n",
       " 'https://www.vagalume.com.br/chiclete-com-banana/cabelo-raspadinho.html',\n",
       " 'https://www.vagalume.com.br/chiclete-com-banana/cade-a-feira.html',\n",
       " 'https://www.vagalume.com.br/chiclete-com-banana/camalionina.html',\n",
       " 'https://www.vagalume.com.br/chiclete-com-banana/canto-do-alede.html',\n",
       " 'https://www.vagalume.com.br/chiclete-com-banana/cara-caramba-sou-camaleao.html',\n",
       " 'https://www.vagalume.com.br/chiclete-com-banana/cara-caricias.html',\n",
       " 'https://www.vagalume.com.br/chiclete-com-banana/carnaval-beijo-na-boca.html',\n",
       " 'https://www.vagalume.com.br/chiclete-com-banana/casamento-nao.html',\n",
       " 'https://www.vagalume.com.br/chiclete-com-banana/chamego.html',\n",
       " 'https://www.vagalume.com.br/chiclete-com-banana/chiclete-chopp-com-banana.html',\n",
       " 'https://www.vagalume.com.br/chiclete-com-banana/chiclete-na-boca.html',\n",
       " 'https://www.vagalume.com.br/chiclete-com-banana/chiclete-no-coracao.html',\n",
       " 'https://www.vagalume.com.br/chiclete-com-banana/chiclete-sem-moderacao.html',\n",
       " 'https://www.vagalume.com.br/chiclete-com-banana/chicleteiro-eu-chicleteira-ela.html',\n",
       " 'https://www.vagalume.com.br/chiclete-com-banana/chicleteou.html',\n",
       " 'https://www.vagalume.com.br/chiclete-com-banana/chorarei-amor.html',\n",
       " 'https://www.vagalume.com.br/chiclete-com-banana/cidadao.html',\n",
       " 'https://www.vagalume.com.br/chiclete-com-banana/colado-no-chiclete.html',\n",
       " 'https://www.vagalume.com.br/chiclete-com-banana/colar-do-oriente.html',\n",
       " 'https://www.vagalume.com.br/chiclete-com-banana/colar-na-procissao.html',\n",
       " 'https://www.vagalume.com.br/chiclete-com-banana/colombina.html',\n",
       " 'https://www.vagalume.com.br/chiclete-com-banana/cometa-mambembe.html',\n",
       " 'https://www.vagalume.com.br/chiclete-com-banana/contando-as-horas.html',\n",
       " 'https://www.vagalume.com.br/chiclete-com-banana/coracao-batucador.html',\n",
       " 'https://www.vagalume.com.br/chiclete-com-banana/coracao-incerto.html',\n",
       " 'https://www.vagalume.com.br/chiclete-com-banana/cuida-de-mim.html',\n",
       " 'https://www.vagalume.com.br/chiclete-com-banana/dandalunda.html',\n",
       " 'https://www.vagalume.com.br/chiclete-com-banana/dar-a-volta-no-brasil.html',\n",
       " 'https://www.vagalume.com.br/chiclete-com-banana/de-bem-com-a-vida.html',\n",
       " 'https://www.vagalume.com.br/chiclete-com-banana/de-bracos-abertos.html',\n",
       " 'https://www.vagalume.com.br/chiclete-com-banana/de-um-grito-ai.html',\n",
       " 'https://www.vagalume.com.br/chiclete-com-banana/deixa-meu-amor-te-levar.html',\n",
       " 'https://www.vagalume.com.br/chiclete-com-banana/delicia-para-ti.html',\n",
       " 'https://www.vagalume.com.br/chiclete-com-banana/desculpa-ae-pa-pa.html',\n",
       " 'https://www.vagalume.com.br/chiclete-com-banana/desejo-de-amar.html',\n",
       " 'https://www.vagalume.com.br/chiclete-com-banana/deuses-da-avenida.html',\n",
       " 'https://www.vagalume.com.br/chiclete-com-banana/diferentemente-lindo.html',\n",
       " 'https://www.vagalume.com.br/chiclete-com-banana/diga-pra-mim.html',\n",
       " 'https://www.vagalume.com.br/chiclete-com-banana/diga-que-valeu.html',\n",
       " 'https://www.vagalume.com.br/chiclete-com-banana/dinora.html',\n",
       " 'https://www.vagalume.com.br/chiclete-com-banana/do-nosso-jeito.html',\n",
       " 'https://www.vagalume.com.br/chiclete-com-banana/dormi-na-praca.html',\n",
       " 'https://www.vagalume.com.br/chiclete-com-banana/durvalino-meu-rei.html',\n",
       " 'https://www.vagalume.com.br/chiclete-com-banana/e-dificil.html',\n",
       " 'https://www.vagalume.com.br/chiclete-com-banana/e-hoje.html',\n",
       " 'https://www.vagalume.com.br/chiclete-com-banana/e-nenhuma.html',\n",
       " 'https://www.vagalume.com.br/chiclete-com-banana/e-nunca-mais-vai-me-deixar.html',\n",
       " 'https://www.vagalume.com.br/chiclete-com-banana/e-serio.html',\n",
       " 'https://www.vagalume.com.br/chiclete-com-banana/e-so-voce-pedir.html',\n",
       " 'https://www.vagalume.com.br/chiclete-com-banana/baiana.html',\n",
       " 'https://www.vagalume.com.br/chiclete-com-banana/ele-nao-monta-na-lambreta.html',\n",
       " 'https://www.vagalume.com.br/chiclete-com-banana/erva-vevenosa.html',\n",
       " 'https://www.vagalume.com.br/chiclete-com-banana/essa-mulher-e-minha.html',\n",
       " 'https://www.vagalume.com.br/chiclete-com-banana/estacao-das-cores.html',\n",
       " 'https://www.vagalume.com.br/chiclete-com-banana/eu-e-voce-sempre.html',\n",
       " 'https://www.vagalume.com.br/chiclete-com-banana/eu-fui-atras-de-um-caminhao.html',\n",
       " 'https://www.vagalume.com.br/chiclete-com-banana/eu-quero-amar-voce.html',\n",
       " 'https://www.vagalume.com.br/chiclete-com-banana/eu-quero-esse-amor.html',\n",
       " 'https://www.vagalume.com.br/chiclete-com-banana/eu-sou-do-mundo-e-da-bahia.html',\n",
       " 'https://www.vagalume.com.br/chiclete-com-banana/eu-sou-soteropolitano.html',\n",
       " 'https://www.vagalume.com.br/chiclete-com-banana/eu-vou-te-amar.html',\n",
       " 'https://www.vagalume.com.br/chiclete-com-banana/fazendo-falta.html',\n",
       " 'https://www.vagalume.com.br/chiclete-com-banana/fazer-amor.html',\n",
       " 'https://www.vagalume.com.br/chiclete-com-banana/fazer-o-que-cidadao.html',\n",
       " 'https://www.vagalume.com.br/chiclete-com-banana/fe-brasileira.html',\n",
       " 'https://www.vagalume.com.br/chiclete-com-banana/feijoda-do-vizinho.html',\n",
       " 'https://www.vagalume.com.br/chiclete-com-banana/feitico-gelado.html',\n",
       " 'https://www.vagalume.com.br/chiclete-com-banana/flor-da-manha.html',\n",
       " 'https://www.vagalume.com.br/chiclete-com-banana/flores-de-jasmim.html',\n",
       " 'https://www.vagalume.com.br/chiclete-com-banana/flutuar.html',\n",
       " 'https://www.vagalume.com.br/chiclete-com-banana/foi-assim.html',\n",
       " 'https://www.vagalume.com.br/chiclete-com-banana/foi-deus.html',\n",
       " 'https://www.vagalume.com.br/chiclete-com-banana/foi-no-nana.html',\n",
       " 'https://www.vagalume.com.br/chiclete-com-banana/foi-por-esse-amor.html',\n",
       " 'https://www.vagalume.com.br/chiclete-com-banana/forca-e-pudor.html',\n",
       " 'https://www.vagalume.com.br/chiclete-com-banana/forro-da-tribo.html',\n",
       " 'https://www.vagalume.com.br/chiclete-com-banana/funk-bahia.html',\n",
       " 'https://www.vagalume.com.br/chiclete-com-banana/gesto-de-amor.html',\n",
       " 'https://www.vagalume.com.br/chiclete-com-banana/ginga.html',\n",
       " 'https://www.vagalume.com.br/chiclete-com-banana/grito-de-guerra-2.html',\n",
       " 'https://www.vagalume.com.br/chiclete-com-banana/i-love-you-chiclete.html',\n",
       " 'https://www.vagalume.com.br/chiclete-com-banana/ice.html',\n",
       " 'https://www.vagalume.com.br/chiclete-com-banana/jamaica.html',\n",
       " 'https://www.vagalume.com.br/chiclete-com-banana/janela-x-janela.html',\n",
       " 'https://www.vagalume.com.br/chiclete-com-banana/joia-preferida.html',\n",
       " 'https://www.vagalume.com.br/chiclete-com-banana/joinha.html',\n",
       " 'https://www.vagalume.com.br/chiclete-com-banana/lente-de-timbau.html',\n",
       " 'https://www.vagalume.com.br/chiclete-com-banana/levada-chicleteira.html',\n",
       " 'https://www.vagalume.com.br/chiclete-com-banana/lindo-e-viver.html',\n",
       " 'https://www.vagalume.com.br/chiclete-com-banana/lume-da-fogueira.html',\n",
       " 'https://www.vagalume.com.br/chiclete-com-banana/luz-da-vida.html',\n",
       " 'https://www.vagalume.com.br/chiclete-com-banana/macacos-me-mordam.html',\n",
       " 'https://www.vagalume.com.br/chiclete-com-banana/magia.html',\n",
       " 'https://www.vagalume.com.br/chiclete-com-banana/maimbe-danda.html',\n",
       " 'https://www.vagalume.com.br/chiclete-com-banana/mal-acostumado.html',\n",
       " 'https://www.vagalume.com.br/chiclete-com-banana/mama.html',\n",
       " 'https://www.vagalume.com.br/chiclete-com-banana/mar-de-rosas.html',\n",
       " 'https://www.vagalume.com.br/chiclete-com-banana/maracuja-pro-bebe.html',\n",
       " 'https://www.vagalume.com.br/chiclete-com-banana/maravilha-coisa-louca.html',\n",
       " 'https://www.vagalume.com.br/chiclete-com-banana/maria-moderna.html',\n",
       " 'https://www.vagalume.com.br/chiclete-com-banana/maria-raio.html',\n",
       " 'https://www.vagalume.com.br/chiclete-com-banana/me-pegue-se-quiser.html',\n",
       " 'https://www.vagalume.com.br/chiclete-com-banana/mega.html',\n",
       " 'https://www.vagalume.com.br/chiclete-com-banana/melissa.html',\n",
       " 'https://www.vagalume.com.br/chiclete-com-banana/menina-baiana-bela.html',\n",
       " 'https://www.vagalume.com.br/chiclete-com-banana/menina-do-caterete.html',\n",
       " 'https://www.vagalume.com.br/chiclete-com-banana/menina-linda-i-should-have-no-better.html',\n",
       " 'https://www.vagalume.com.br/chiclete-com-banana/menina-louca.html',\n",
       " 'https://www.vagalume.com.br/chiclete-com-banana/menina-me-da-seu-amor.html',\n",
       " 'https://www.vagalume.com.br/chiclete-com-banana/merengueira-siga-me.html',\n",
       " 'https://www.vagalume.com.br/chiclete-com-banana/meu-amor.html',\n",
       " 'https://www.vagalume.com.br/chiclete-com-banana/meu-balao.html',\n",
       " 'https://www.vagalume.com.br/chiclete-com-banana/meu-bem-quero-te-amar.html',\n",
       " 'https://www.vagalume.com.br/chiclete-com-banana/meu-cabelo-duro-e-assim.html',\n",
       " 'https://www.vagalume.com.br/chiclete-com-banana/meu-coracao-voou.html',\n",
       " 'https://www.vagalume.com.br/chiclete-com-banana/meu-pobre-coracao.html',\n",
       " 'https://www.vagalume.com.br/chiclete-com-banana/minha-paixao-e-chiclete.html',\n",
       " 'https://www.vagalume.com.br/chiclete-com-banana/minha-vida-e-voce.html',\n",
       " 'https://www.vagalume.com.br/chiclete-com-banana/mirando-o-luar.html',\n",
       " 'https://www.vagalume.com.br/chiclete-com-banana/misterio-das-estrelas.html',\n",
       " 'https://www.vagalume.com.br/chiclete-com-banana/morro-de-sao-paulo.html',\n",
       " 'https://www.vagalume.com.br/chiclete-com-banana/mude-esse-mundo-gritos-de-guerra-ii.html',\n",
       " 'https://www.vagalume.com.br/chiclete-com-banana/mulher-amada.html',\n",
       " 'https://www.vagalume.com.br/chiclete-com-banana/multirao-da-alegria.html',\n",
       " 'https://www.vagalume.com.br/chiclete-com-banana/musica-alegre.html',\n",
       " 'https://www.vagalume.com.br/chiclete-com-banana/na-fissura-do-cheiro.html',\n",
       " 'https://www.vagalume.com.br/chiclete-com-banana/na-onda-gostosa-do-quimbundo.html',\n",
       " 'https://www.vagalume.com.br/chiclete-com-banana/naire.html',\n",
       " 'https://www.vagalume.com.br/chiclete-com-banana/nana-banana.html',\n",
       " 'https://www.vagalume.com.br/chiclete-com-banana/nana-coracao.html',\n",
       " 'https://www.vagalume.com.br/chiclete-com-banana/nana-e.html',\n",
       " 'https://www.vagalume.com.br/chiclete-com-banana/nana-rumbeira.html',\n",
       " 'https://www.vagalume.com.br/chiclete-com-banana/nao-vou-chorar.html',\n",
       " 'https://www.vagalume.com.br/chiclete-com-banana/nao-vou-embora.html',\n",
       " 'https://www.vagalume.com.br/chiclete-com-banana/navego-a-toa.html',\n",
       " 'https://www.vagalume.com.br/chiclete-com-banana/no-balancar-da-mare.html',\n",
       " 'https://www.vagalume.com.br/chiclete-com-banana/no-balanco-do-chiclete.html',\n",
       " 'https://www.vagalume.com.br/chiclete-com-banana/no-woman-no-cry-nao-chore-mais.html',\n",
       " 'https://www.vagalume.com.br/chiclete-com-banana/noite-especial.html',\n",
       " 'https://www.vagalume.com.br/chiclete-com-banana/oh-minha-preta.html',\n",
       " 'https://www.vagalume.com.br/chiclete-com-banana/oi-o-mar.html',\n",
       " 'https://www.vagalume.com.br/chiclete-com-banana/olhar-99.html',\n",
       " 'https://www.vagalume.com.br/chiclete-com-banana/olhos-da-noite.html',\n",
       " 'https://www.vagalume.com.br/chiclete-com-banana/para-o-mundo-ver.html',\n",
       " 'https://www.vagalume.com.br/chiclete-com-banana/pe-de-moleque.html',\n",
       " 'https://www.vagalume.com.br/chiclete-com-banana/peixinho-fora-dagua.html',\n",
       " 'https://www.vagalume.com.br/chiclete-com-banana/perdido-de-amor.html',\n",
       " 'https://www.vagalume.com.br/chiclete-com-banana/perdoa-na-boa.html',\n",
       " 'https://www.vagalume.com.br/chiclete-com-banana/perfume-de-luar.html',\n",
       " 'https://www.vagalume.com.br/chiclete-com-banana/pistolera.html',\n",
       " 'https://www.vagalume.com.br/chiclete-com-banana/pode-chover.html',\n",
       " 'https://www.vagalume.com.br/chiclete-com-banana/pode-ser-uma-paixao.html',\n",
       " 'https://www.vagalume.com.br/chiclete-com-banana/por-um-beijo-seu.html',\n",
       " 'https://www.vagalume.com.br/chiclete-com-banana/potpouritmos-brasileiro-quadrilha.html',\n",
       " 'https://www.vagalume.com.br/chiclete-com-banana/pra-brincar-com-meu-amor.html',\n",
       " 'https://www.vagalume.com.br/chiclete-com-banana/pra-brincar-de-vida.html',\n",
       " 'https://www.vagalume.com.br/chiclete-com-banana/preciso-dormir-princesa.html',\n",
       " 'https://www.vagalume.com.br/chiclete-com-banana/quando-o-chiclete-passar.html',\n",
       " 'https://www.vagalume.com.br/chiclete-com-banana/quando-o-chiclete-toca.html',\n",
       " 'https://www.vagalume.com.br/chiclete-com-banana/que-forca-e-essa.html',\n",
       " 'https://www.vagalume.com.br/chiclete-com-banana/que-gata-e-essa-letras.html',\n",
       " 'https://www.vagalume.com.br/chiclete-com-banana/quem-e-voce.html',\n",
       " 'https://www.vagalume.com.br/chiclete-com-banana/quer-ir-mais-eu.html',\n",
       " 'https://www.vagalume.com.br/chiclete-com-banana/quero-chiclete.html',\n",
       " 'https://www.vagalume.com.br/chiclete-com-banana/quero-esse-sonho-pra-mim.html',\n",
       " 'https://www.vagalume.com.br/chiclete-com-banana/quero-rimar-chiclete-com-banana.html',\n",
       " 'https://www.vagalume.com.br/chiclete-com-banana/quiribamba.html',\n",
       " 'https://www.vagalume.com.br/chiclete-com-banana/rainha-negra.html',\n",
       " 'https://www.vagalume.com.br/chiclete-com-banana/rumba-de-santa-clara.html',\n",
       " 'https://www.vagalume.com.br/chiclete-com-banana/saia-rodada.html',\n",
       " 'https://www.vagalume.com.br/chiclete-com-banana/saliva-seca.html',\n",
       " 'https://www.vagalume.com.br/chiclete-com-banana/sara-sarara.html',\n",
       " 'https://www.vagalume.com.br/chiclete-com-banana/savassi.html',\n",
       " 'https://www.vagalume.com.br/chiclete-com-banana/se-me-chamar-eu-vou.html',\n",
       " 'https://www.vagalume.com.br/chiclete-com-banana/se-tem-chiclete-eu-to-la.html',\n",
       " 'https://www.vagalume.com.br/chiclete-com-banana/se-voce-e-25.html',\n",
       " 'https://www.vagalume.com.br/chiclete-com-banana/se-voce-e-chicleteiro.html',\n",
       " 'https://www.vagalume.com.br/chiclete-com-banana/segredo-da-cor.html',\n",
       " 'https://www.vagalume.com.br/chiclete-com-banana/sei-viver-por-um-triz.html',\n",
       " 'https://www.vagalume.com.br/chiclete-com-banana/selva-branca.html',\n",
       " 'https://www.vagalume.com.br/chiclete-com-banana/selvagem-camaleoa.html',\n",
       " 'https://www.vagalume.com.br/chiclete-com-banana/sementes.html',\n",
       " 'https://www.vagalume.com.br/chiclete-com-banana/setimo-ceu.html',\n",
       " 'https://www.vagalume.com.br/chiclete-com-banana/sim-ou-nao.html',\n",
       " 'https://www.vagalume.com.br/chiclete-com-banana/so-mais-uma-vez.html',\n",
       " 'https://www.vagalume.com.br/chiclete-com-banana/so-pra-viver.html',\n",
       " 'https://www.vagalume.com.br/chiclete-com-banana/so-vai-dar-eu-e-voce.html',\n",
       " 'https://www.vagalume.com.br/chiclete-com-banana/so-voce-e-meu-amor.html',\n",
       " 'https://www.vagalume.com.br/chiclete-com-banana/solidao.html',\n",
       " 'https://www.vagalume.com.br/chiclete-com-banana/solteiro-em-salvador.html',\n",
       " 'https://www.vagalume.com.br/chiclete-com-banana/sonifera-ilha.html',\n",
       " 'https://www.vagalume.com.br/chiclete-com-banana/sorria.html',\n",
       " 'https://www.vagalume.com.br/chiclete-com-banana/suinga-india.html',\n",
       " 'https://www.vagalume.com.br/chiclete-com-banana/swing-merengue.html',\n",
       " 'https://www.vagalume.com.br/chiclete-com-banana/ta-lisinho.html',\n",
       " 'https://www.vagalume.com.br/chiclete-com-banana/ta-procurando-sarna.html',\n",
       " 'https://www.vagalume.com.br/chiclete-com-banana/te-amo-tiete.html',\n",
       " 'https://www.vagalume.com.br/chiclete-com-banana/te-quero-todo-dia.html',\n",
       " 'https://www.vagalume.com.br/chiclete-com-banana/tem-que-ter-chiclete.html',\n",
       " 'https://www.vagalume.com.br/chiclete-com-banana/terra-de-oxala.html',\n",
       " 'https://www.vagalume.com.br/chiclete-com-banana/tiete-do-chiclete.html',\n",
       " 'https://www.vagalume.com.br/chiclete-com-banana/tire-o-cavalinho-da-chuva.html',\n",
       " 'https://www.vagalume.com.br/chiclete-com-banana/to-fazendu-falta.html',\n",
       " 'https://www.vagalume.com.br/chiclete-com-banana/to-na-multidao.html',\n",
       " 'https://www.vagalume.com.br/chiclete-com-banana/traz-os-montes.html',\n",
       " 'https://www.vagalume.com.br/chiclete-com-banana/tributo-a-ghandhy.html',\n",
       " 'https://www.vagalume.com.br/chiclete-com-banana/tropico-banana.html',\n",
       " 'https://www.vagalume.com.br/chiclete-com-banana/tudo-no-crediario.html',\n",
       " 'https://www.vagalume.com.br/chiclete-com-banana/uma-noiite-especial.html',\n",
       " 'https://www.vagalume.com.br/chiclete-com-banana/uma-noite-especial.html',\n",
       " 'https://www.vagalume.com.br/chiclete-com-banana/vai-chorar-ou-vai-sorrir.html',\n",
       " 'https://www.vagalume.com.br/chiclete-com-banana/vai-la-mane.html',\n",
       " 'https://www.vagalume.com.br/chiclete-com-banana/valeu.html',\n",
       " 'https://www.vagalume.com.br/chiclete-com-banana/vamos-dar-a-volta-no-brasil.html',\n",
       " 'https://www.vagalume.com.br/chiclete-com-banana/vem.html',\n",
       " 'https://www.vagalume.com.br/chiclete-com-banana/vem-nana.html',\n",
       " 'https://www.vagalume.com.br/chiclete-com-banana/vem-pra-ca-meu-bem.html',\n",
       " 'https://www.vagalume.com.br/chiclete-com-banana/viagem-alucinante.html',\n",
       " 'https://www.vagalume.com.br/chiclete-com-banana/voa-voa.html',\n",
       " 'https://www.vagalume.com.br/chiclete-com-banana/vou-deitar-e-rolar.html',\n",
       " 'https://www.vagalume.com.br/chiclete-com-banana/vou-voar.html',\n",
       " 'https://www.vagalume.com.br/chiclete-com-banana/vumbora-amar.html',\n",
       " 'https://www.vagalume.com.br/chiclete-com-banana/yle-aiye.html',\n",
       " 'https://www.vagalume.com.br/chiclete-com-banana/yle-farol.html',\n",
       " 'https://www.vagalume.com.br/chiclete-com-banana/zorra.html',\n",
       " 'https://www.vagalume.com.br/chiclete-com-banana/zum-zum-zum-pra-que.html']"
      ]
     },
     "execution_count": 125,
     "metadata": {},
     "output_type": "execute_result"
    }
   ],
   "source": [
    "url_chiclete = 'https://www.vagalume.com.br/chiclete-com-banana/'\n",
    "response = requests.get(url_chiclete)\n",
    "\n",
    "\n",
    "soup = BeautifulSoup(response.content)\n",
    "\n",
    "musicas_chiclete = [ 'https://www.vagalume.com.br' + song['href'] \n",
    "                        for song in soup.find_all('a', attrs={'class': \"nameMusic\"})]\n",
    "\n",
    "musicas_chiclete"
   ]
  },
  {
   "cell_type": "code",
   "execution_count": 3,
   "metadata": {
    "ExecuteTime": {
     "end_time": "2020-05-11T19:53:12.321068Z",
     "start_time": "2020-05-11T19:51:42.413789Z"
    }
   },
   "outputs": [
    {
     "data": {
      "application/vnd.jupyter.widget-view+json": {
       "model_id": "d11280f122be4a4482f4488dc73f49b8",
       "version_major": 2,
       "version_minor": 0
      },
      "text/plain": [
       "HBox(children=(FloatProgress(value=0.0, max=293.0), HTML(value='')))"
      ]
     },
     "metadata": {},
     "output_type": "display_data"
    },
    {
     "name": "stdout",
     "output_type": "stream",
     "text": [
      "\n"
     ]
    }
   ],
   "source": [
    "text = []\n",
    "\n",
    "for each_song in tqdm(musicas_chiclete):\n",
    "    response = requests.get(each_song)\n",
    "    soup = BeautifulSoup(response.content)\n",
    "    text.append(re.sub('</?br/?>', ' ', soup.find('div', attrs={'id':'lyrics'}).decode_contents()))"
   ]
  },
  {
   "cell_type": "code",
   "execution_count": 129,
   "metadata": {
    "ExecuteTime": {
     "end_time": "2020-05-12T12:17:36.212653Z",
     "start_time": "2020-05-12T12:17:36.207637Z"
    }
   },
   "outputs": [
    {
     "data": {
      "text/plain": [
       "293"
      ]
     },
     "execution_count": 129,
     "metadata": {},
     "output_type": "execute_result"
    }
   ],
   "source": [
    "len(text)"
   ]
  },
  {
   "cell_type": "code",
   "execution_count": 4,
   "metadata": {
    "ExecuteTime": {
     "end_time": "2020-05-11T19:53:12.327052Z",
     "start_time": "2020-05-11T19:53:12.323063Z"
    }
   },
   "outputs": [],
   "source": [
    "df = pd.DataFrame({'Lyrics':text,\n",
    "                   'Artist':len(text) * ['chiclete com banana']})"
   ]
  },
  {
   "cell_type": "code",
   "execution_count": 5,
   "metadata": {
    "ExecuteTime": {
     "end_time": "2020-05-11T19:53:12.342012Z",
     "start_time": "2020-05-11T19:53:12.329072Z"
    }
   },
   "outputs": [
    {
     "data": {
      "text/html": [
       "<div>\n",
       "<style scoped>\n",
       "    .dataframe tbody tr th:only-of-type {\n",
       "        vertical-align: middle;\n",
       "    }\n",
       "\n",
       "    .dataframe tbody tr th {\n",
       "        vertical-align: top;\n",
       "    }\n",
       "\n",
       "    .dataframe thead th {\n",
       "        text-align: right;\n",
       "    }\n",
       "</style>\n",
       "<table border=\"1\" class=\"dataframe\">\n",
       "  <thead>\n",
       "    <tr style=\"text-align: right;\">\n",
       "      <th></th>\n",
       "      <th>Lyrics</th>\n",
       "      <th>Artist</th>\n",
       "    </tr>\n",
       "  </thead>\n",
       "  <tbody>\n",
       "    <tr>\n",
       "      <th>0</th>\n",
       "      <td>Ê, ê, ê, ê, ô Ê, ê, ê... ê, ô, ê, ô Vem  O amo...</td>\n",
       "      <td>chiclete com banana</td>\n",
       "    </tr>\n",
       "    <tr>\n",
       "      <th>1</th>\n",
       "      <td>Vista sua saia bem rodada Com a blusa levantad...</td>\n",
       "      <td>chiclete com banana</td>\n",
       "    </tr>\n",
       "    <tr>\n",
       "      <th>2</th>\n",
       "      <td>Semente de cores vivas que acendem novas recor...</td>\n",
       "      <td>chiclete com banana</td>\n",
       "    </tr>\n",
       "    <tr>\n",
       "      <th>3</th>\n",
       "      <td>Por que será que tem que ser assim A gente gos...</td>\n",
       "      <td>chiclete com banana</td>\n",
       "    </tr>\n",
       "    <tr>\n",
       "      <th>4</th>\n",
       "      <td>Lê lê lê ô na na na uê   Não dá pra tirar da c...</td>\n",
       "      <td>chiclete com banana</td>\n",
       "    </tr>\n",
       "    <tr>\n",
       "      <th>...</th>\n",
       "      <td>...</td>\n",
       "      <td>...</td>\n",
       "    </tr>\n",
       "    <tr>\n",
       "      <th>288</th>\n",
       "      <td>Am E7 O vento faz rende-vous Am No seu cabelo ...</td>\n",
       "      <td>chiclete com banana</td>\n",
       "    </tr>\n",
       "    <tr>\n",
       "      <th>289</th>\n",
       "      <td>O sol brilhou No Ylê Aiyê E um lamento ao vent...</td>\n",
       "      <td>chiclete com banana</td>\n",
       "    </tr>\n",
       "    <tr>\n",
       "      <th>290</th>\n",
       "      <td>Orumilá aloja forte O vulgo My God Brother, br...</td>\n",
       "      <td>chiclete com banana</td>\n",
       "    </tr>\n",
       "    <tr>\n",
       "      <th>291</th>\n",
       "      <td>Vou lhe mostrar Pra ver como é que é No meu Br...</td>\n",
       "      <td>chiclete com banana</td>\n",
       "    </tr>\n",
       "    <tr>\n",
       "      <th>292</th>\n",
       "      <td>Se eu amar, você amar Não vai faltar amor Se e...</td>\n",
       "      <td>chiclete com banana</td>\n",
       "    </tr>\n",
       "  </tbody>\n",
       "</table>\n",
       "<p>293 rows × 2 columns</p>\n",
       "</div>"
      ],
      "text/plain": [
       "                                                Lyrics               Artist\n",
       "0    Ê, ê, ê, ê, ô Ê, ê, ê... ê, ô, ê, ô Vem  O amo...  chiclete com banana\n",
       "1    Vista sua saia bem rodada Com a blusa levantad...  chiclete com banana\n",
       "2    Semente de cores vivas que acendem novas recor...  chiclete com banana\n",
       "3    Por que será que tem que ser assim A gente gos...  chiclete com banana\n",
       "4    Lê lê lê ô na na na uê   Não dá pra tirar da c...  chiclete com banana\n",
       "..                                                 ...                  ...\n",
       "288  Am E7 O vento faz rende-vous Am No seu cabelo ...  chiclete com banana\n",
       "289  O sol brilhou No Ylê Aiyê E um lamento ao vent...  chiclete com banana\n",
       "290  Orumilá aloja forte O vulgo My God Brother, br...  chiclete com banana\n",
       "291  Vou lhe mostrar Pra ver como é que é No meu Br...  chiclete com banana\n",
       "292  Se eu amar, você amar Não vai faltar amor Se e...  chiclete com banana\n",
       "\n",
       "[293 rows x 2 columns]"
      ]
     },
     "execution_count": 5,
     "metadata": {},
     "output_type": "execute_result"
    }
   ],
   "source": [
    "df"
   ]
  },
  {
   "cell_type": "code",
   "execution_count": 6,
   "metadata": {
    "ExecuteTime": {
     "end_time": "2020-05-11T19:53:12.554730Z",
     "start_time": "2020-05-11T19:53:12.343051Z"
    }
   },
   "outputs": [],
   "source": [
    "url = 'https://www.vagalume.com.br/roberto-carlos/'\n",
    "response = requests.get(url)\n",
    "\n",
    "\n",
    "soup = BeautifulSoup(response.content)\n",
    "\n",
    "musicas = [ 'https://www.vagalume.com.br' + song['href'] for song in soup.find_all('a', attrs={'class': \"nameMusic\"})]\n",
    "# get same number of chiclete songs:\n",
    "musicas = musicas[:len(musicas_chiclete)]\n"
   ]
  },
  {
   "cell_type": "code",
   "execution_count": 7,
   "metadata": {
    "ExecuteTime": {
     "end_time": "2020-05-11T19:53:12.560665Z",
     "start_time": "2020-05-11T19:53:12.556676Z"
    }
   },
   "outputs": [
    {
     "data": {
      "text/plain": [
       "293"
      ]
     },
     "execution_count": 7,
     "metadata": {},
     "output_type": "execute_result"
    }
   ],
   "source": [
    "len(musicas)"
   ]
  },
  {
   "cell_type": "code",
   "execution_count": 8,
   "metadata": {
    "ExecuteTime": {
     "end_time": "2020-05-11T19:53:12.567647Z",
     "start_time": "2020-05-11T19:53:12.561662Z"
    }
   },
   "outputs": [],
   "source": [
    "def get_songs(each_song):\n",
    "    from bs4 import BeautifulSoup\n",
    "    import requests\n",
    "    import re\n",
    "    \n",
    "    response = requests.get(each_song)\n",
    "    soup = BeautifulSoup(response.content)\n",
    "    try:\n",
    "        text = re.sub('</?br/?>', ' ', soup.find('div', attrs={'id':'lyrics'}).decode_contents())\n",
    "    except:\n",
    "        text = ''\n",
    "    return text\n"
   ]
  },
  {
   "cell_type": "code",
   "execution_count": 9,
   "metadata": {
    "ExecuteTime": {
     "end_time": "2020-05-11T19:53:16.587815Z",
     "start_time": "2020-05-11T19:53:12.568643Z"
    }
   },
   "outputs": [],
   "source": [
    "# paralelizing code:\n",
    "\n",
    "from multiprocess import Pool\n",
    "pool = Pool(processes=6)\n",
    "results = pool.map(get_songs, musicas)\n"
   ]
  },
  {
   "cell_type": "code",
   "execution_count": 10,
   "metadata": {
    "ExecuteTime": {
     "end_time": "2020-05-11T19:53:16.594795Z",
     "start_time": "2020-05-11T19:53:16.589808Z"
    }
   },
   "outputs": [],
   "source": [
    "final_df = pd.concat([df,\n",
    "                      pd.DataFrame({'Lyrics':results,\n",
    "                                    'Artist':len(results) * ['roberto carlos']})\n",
    "                      ])"
   ]
  },
  {
   "cell_type": "code",
   "execution_count": 47,
   "metadata": {
    "ExecuteTime": {
     "end_time": "2020-05-11T20:05:10.330445Z",
     "start_time": "2020-05-11T20:05:10.324460Z"
    }
   },
   "outputs": [],
   "source": [
    "def get_artist(name, n_max=200):\n",
    "    \n",
    "    name = name.replace(' ', '-').lower()\n",
    "    url = 'https://www.vagalume.com.br/' + name\n",
    "    response = requests.get(url)\n",
    "    soup = BeautifulSoup(response.content)\n",
    "\n",
    "    musicas = [ 'https://www.vagalume.com.br' + song['href'] for song in soup.find_all('a', attrs={'class': \"nameMusic\"})]\n",
    "    pool = Pool(processes=6)\n",
    "    results = pool.map(get_songs, musicas)\n",
    "    data = pd.DataFrame({'Lyrics':results,\n",
    "                         'Artist':len(results) * [name]})\n",
    "                        \n",
    "    return data.sample(min(n_max, data.shape[0]))"
   ]
  },
  {
   "cell_type": "code",
   "execution_count": 48,
   "metadata": {
    "ExecuteTime": {
     "end_time": "2020-05-11T20:05:44.562924Z",
     "start_time": "2020-05-11T20:05:10.803328Z"
    },
    "scrolled": true
   },
   "outputs": [],
   "source": [
    "final = pd.concat([\n",
    "    get_artist('Chiclete Com Banana'),\n",
    "    get_artist('Roberto Carlos'),\n",
    "    get_artist('Anitta')]\n",
    ")"
   ]
  },
  {
   "cell_type": "code",
   "execution_count": 49,
   "metadata": {
    "ExecuteTime": {
     "end_time": "2020-05-11T20:05:44.573803Z",
     "start_time": "2020-05-11T20:05:44.563859Z"
    },
    "collapsed": true
   },
   "outputs": [
    {
     "data": {
      "text/html": [
       "<div>\n",
       "<style scoped>\n",
       "    .dataframe tbody tr th:only-of-type {\n",
       "        vertical-align: middle;\n",
       "    }\n",
       "\n",
       "    .dataframe tbody tr th {\n",
       "        vertical-align: top;\n",
       "    }\n",
       "\n",
       "    .dataframe thead th {\n",
       "        text-align: right;\n",
       "    }\n",
       "</style>\n",
       "<table border=\"1\" class=\"dataframe\">\n",
       "  <thead>\n",
       "    <tr style=\"text-align: right;\">\n",
       "      <th></th>\n",
       "      <th>Lyrics</th>\n",
       "      <th>Artist</th>\n",
       "    </tr>\n",
       "  </thead>\n",
       "  <tbody>\n",
       "    <tr>\n",
       "      <th>106</th>\n",
       "      <td>Vumbora aê dinorá, vumbora aê dinorá Vumbora a...</td>\n",
       "      <td>chiclete-com-banana</td>\n",
       "    </tr>\n",
       "    <tr>\n",
       "      <th>161</th>\n",
       "      <td>Amor de verdade eu só senti Foi com você meu b...</td>\n",
       "      <td>chiclete-com-banana</td>\n",
       "    </tr>\n",
       "    <tr>\n",
       "      <th>263</th>\n",
       "      <td>Toda vez que eu olho pra você, ê ê.. Você me d...</td>\n",
       "      <td>chiclete-com-banana</td>\n",
       "    </tr>\n",
       "    <tr>\n",
       "      <th>232</th>\n",
       "      <td>Ei, ô, ôô... Chiclete com Banana  Gosto desse ...</td>\n",
       "      <td>chiclete-com-banana</td>\n",
       "    </tr>\n",
       "    <tr>\n",
       "      <th>3</th>\n",
       "      <td>Por que será que tem que ser assim A gente gos...</td>\n",
       "      <td>chiclete-com-banana</td>\n",
       "    </tr>\n",
       "    <tr>\n",
       "      <th>...</th>\n",
       "      <td>...</td>\n",
       "      <td>...</td>\n",
       "    </tr>\n",
       "    <tr>\n",
       "      <th>85</th>\n",
       "      <td>Meu mel, Lembra aquele quarto de hotel Você er...</td>\n",
       "      <td>anitta</td>\n",
       "    </tr>\n",
       "    <tr>\n",
       "      <th>120</th>\n",
       "      <td>I stay out too late got nothing in my brain th...</td>\n",
       "      <td>anitta</td>\n",
       "    </tr>\n",
       "    <tr>\n",
       "      <th>92</th>\n",
       "      <td>Hoje cê pode chegar que eu tô querendo Cê pode...</td>\n",
       "      <td>anitta</td>\n",
       "    </tr>\n",
       "    <tr>\n",
       "      <th>20</th>\n",
       "      <td>Bartender dame otro shot Y esta vez que no sea...</td>\n",
       "      <td>anitta</td>\n",
       "    </tr>\n",
       "    <tr>\n",
       "      <th>16</th>\n",
       "      <td>Sei lá, o que será que você tem Só sei que iss...</td>\n",
       "      <td>anitta</td>\n",
       "    </tr>\n",
       "  </tbody>\n",
       "</table>\n",
       "<p>554 rows × 2 columns</p>\n",
       "</div>"
      ],
      "text/plain": [
       "                                                Lyrics               Artist\n",
       "106  Vumbora aê dinorá, vumbora aê dinorá Vumbora a...  chiclete-com-banana\n",
       "161  Amor de verdade eu só senti Foi com você meu b...  chiclete-com-banana\n",
       "263  Toda vez que eu olho pra você, ê ê.. Você me d...  chiclete-com-banana\n",
       "232  Ei, ô, ôô... Chiclete com Banana  Gosto desse ...  chiclete-com-banana\n",
       "3    Por que será que tem que ser assim A gente gos...  chiclete-com-banana\n",
       "..                                                 ...                  ...\n",
       "85   Meu mel, Lembra aquele quarto de hotel Você er...               anitta\n",
       "120  I stay out too late got nothing in my brain th...               anitta\n",
       "92   Hoje cê pode chegar que eu tô querendo Cê pode...               anitta\n",
       "20   Bartender dame otro shot Y esta vez que no sea...               anitta\n",
       "16   Sei lá, o que será que você tem Só sei que iss...               anitta\n",
       "\n",
       "[554 rows x 2 columns]"
      ]
     },
     "execution_count": 49,
     "metadata": {},
     "output_type": "execute_result"
    }
   ],
   "source": [
    "final"
   ]
  },
  {
   "cell_type": "code",
   "execution_count": 50,
   "metadata": {
    "ExecuteTime": {
     "end_time": "2020-05-11T20:05:44.659600Z",
     "start_time": "2020-05-11T20:05:44.574800Z"
    }
   },
   "outputs": [
    {
     "data": {
      "text/plain": [
       "<matplotlib.axes._subplots.AxesSubplot at 0x242b5b45dd8>"
      ]
     },
     "execution_count": 50,
     "metadata": {},
     "output_type": "execute_result"
    },
    {
     "data": {
      "image/png": "[encoded data removed]",
      "text/plain": [
       "<Figure size 432x288 with 1 Axes>"
      ]
     },
     "metadata": {
      "needs_background": "light"
     },
     "output_type": "display_data"
    }
   ],
   "source": [
    "import seaborn as sns\n",
    "\n",
    "sns.countplot(final.Artist)"
   ]
  },
  {
   "cell_type": "markdown",
   "metadata": {},
   "source": [
    "# Pipeline"
   ]
  },
  {
   "cell_type": "code",
   "execution_count": 51,
   "metadata": {
    "ExecuteTime": {
     "end_time": "2020-05-11T20:05:44.663563Z",
     "start_time": "2020-05-11T20:05:44.660585Z"
    }
   },
   "outputs": [],
   "source": [
    "X = final['Lyrics']\n",
    "y = final.Artist"
   ]
  },
  {
   "cell_type": "code",
   "execution_count": 52,
   "metadata": {
    "ExecuteTime": {
     "end_time": "2020-05-11T20:05:44.670544Z",
     "start_time": "2020-05-11T20:05:44.665557Z"
    }
   },
   "outputs": [],
   "source": [
    "from sklearn.model_selection import train_test_split\n",
    "\n",
    "X_train, X_test, y_train, y_test = train_test_split(X, y)"
   ]
  },
  {
   "cell_type": "code",
   "execution_count": 53,
   "metadata": {
    "ExecuteTime": {
     "end_time": "2020-05-11T20:05:44.675530Z",
     "start_time": "2020-05-11T20:05:44.672538Z"
    }
   },
   "outputs": [],
   "source": [
    "from sklearn.linear_model import LogisticRegression"
   ]
  },
  {
   "cell_type": "code",
   "execution_count": 54,
   "metadata": {
    "ExecuteTime": {
     "end_time": "2020-05-11T20:05:44.834106Z",
     "start_time": "2020-05-11T20:05:44.676527Z"
    },
    "scrolled": true
   },
   "outputs": [
    {
     "data": {
      "text/plain": [
       "array(['anitta', 'anitta', 'anitta', 'chiclete-com-banana', 'anitta',\n",
       "       'anitta', 'chiclete-com-banana', 'anitta', 'anitta',\n",
       "       'chiclete-com-banana', 'roberto-carlos', 'anitta',\n",
       "       'chiclete-com-banana', 'roberto-carlos', 'chiclete-com-banana',\n",
       "       'roberto-carlos', 'roberto-carlos', 'roberto-carlos',\n",
       "       'chiclete-com-banana', 'roberto-carlos', 'anitta',\n",
       "       'chiclete-com-banana', 'chiclete-com-banana', 'roberto-carlos',\n",
       "       'anitta', 'chiclete-com-banana', 'chiclete-com-banana',\n",
       "       'roberto-carlos', 'roberto-carlos', 'chiclete-com-banana',\n",
       "       'anitta', 'roberto-carlos', 'chiclete-com-banana', 'anitta',\n",
       "       'chiclete-com-banana', 'anitta', 'anitta', 'roberto-carlos',\n",
       "       'roberto-carlos', 'roberto-carlos', 'roberto-carlos', 'anitta',\n",
       "       'anitta', 'anitta', 'anitta', 'roberto-carlos', 'anitta', 'anitta',\n",
       "       'roberto-carlos', 'chiclete-com-banana', 'chiclete-com-banana',\n",
       "       'anitta', 'anitta', 'chiclete-com-banana', 'chiclete-com-banana',\n",
       "       'chiclete-com-banana', 'roberto-carlos', 'anitta', 'anitta',\n",
       "       'chiclete-com-banana', 'roberto-carlos', 'anitta',\n",
       "       'chiclete-com-banana', 'roberto-carlos', 'roberto-carlos',\n",
       "       'chiclete-com-banana', 'roberto-carlos', 'roberto-carlos',\n",
       "       'roberto-carlos', 'roberto-carlos', 'roberto-carlos',\n",
       "       'chiclete-com-banana', 'roberto-carlos', 'roberto-carlos',\n",
       "       'roberto-carlos', 'chiclete-com-banana', 'chiclete-com-banana',\n",
       "       'anitta', 'roberto-carlos', 'roberto-carlos', 'anitta',\n",
       "       'chiclete-com-banana', 'chiclete-com-banana', 'anitta',\n",
       "       'roberto-carlos', 'roberto-carlos', 'chiclete-com-banana',\n",
       "       'roberto-carlos', 'chiclete-com-banana', 'chiclete-com-banana',\n",
       "       'roberto-carlos', 'chiclete-com-banana', 'chiclete-com-banana',\n",
       "       'chiclete-com-banana', 'chiclete-com-banana',\n",
       "       'chiclete-com-banana', 'chiclete-com-banana', 'anitta',\n",
       "       'chiclete-com-banana', 'roberto-carlos', 'chiclete-com-banana',\n",
       "       'anitta', 'chiclete-com-banana', 'anitta', 'roberto-carlos',\n",
       "       'roberto-carlos', 'chiclete-com-banana', 'roberto-carlos',\n",
       "       'chiclete-com-banana', 'anitta', 'anitta', 'chiclete-com-banana',\n",
       "       'roberto-carlos', 'roberto-carlos', 'anitta',\n",
       "       'chiclete-com-banana', 'chiclete-com-banana', 'anitta',\n",
       "       'chiclete-com-banana', 'chiclete-com-banana', 'roberto-carlos',\n",
       "       'roberto-carlos', 'roberto-carlos', 'roberto-carlos',\n",
       "       'roberto-carlos', 'anitta', 'chiclete-com-banana',\n",
       "       'roberto-carlos', 'roberto-carlos', 'anitta', 'anitta',\n",
       "       'chiclete-com-banana', 'chiclete-com-banana',\n",
       "       'chiclete-com-banana', 'roberto-carlos', 'anitta',\n",
       "       'chiclete-com-banana', 'roberto-carlos', 'chiclete-com-banana'],\n",
       "      dtype=object)"
      ]
     },
     "execution_count": 54,
     "metadata": {},
     "output_type": "execute_result"
    }
   ],
   "source": [
    "from sklearn.feature_extraction.text import CountVectorizer\n",
    "from sklearn.feature_extraction.text import TfidfTransformer\n",
    "\n",
    "from sklearn.pipeline import Pipeline\n",
    "\n",
    "dataprep = Pipeline([\n",
    "    ('count_vectorizer', CountVectorizer(ngram_range=(2,2), max_df=1000, min_df=5)),\n",
    "    ('tfidf_transformer', TfidfTransformer())\n",
    "])\n",
    "\n",
    "\n",
    "pipeline = Pipeline([\n",
    "    ('dataprep', dataprep),\n",
    "    ('model', LogisticRegression(max_iter=5000))\n",
    "])\n",
    "\n",
    "pipeline.fit(X_train, y_train)\n",
    "\n",
    "pipeline.predict(X_test)"
   ]
  },
  {
   "cell_type": "code",
   "execution_count": 124,
   "metadata": {
    "ExecuteTime": {
     "end_time": "2020-05-11T23:53:22.289086Z",
     "start_time": "2020-05-11T23:53:22.198356Z"
    }
   },
   "outputs": [
    {
     "data": {
      "text/html": [
       "<div>\n",
       "<style scoped>\n",
       "    .dataframe tbody tr th:only-of-type {\n",
       "        vertical-align: middle;\n",
       "    }\n",
       "\n",
       "    .dataframe tbody tr th {\n",
       "        vertical-align: top;\n",
       "    }\n",
       "\n",
       "    .dataframe thead th {\n",
       "        text-align: right;\n",
       "    }\n",
       "</style>\n",
       "<table border=\"1\" class=\"dataframe\">\n",
       "  <thead>\n",
       "    <tr style=\"text-align: right;\">\n",
       "      <th></th>\n",
       "      <th>0</th>\n",
       "      <th>1</th>\n",
       "      <th>2</th>\n",
       "    </tr>\n",
       "  </thead>\n",
       "  <tbody>\n",
       "    <tr>\n",
       "      <th>0</th>\n",
       "      <td>Uuh Uuh Uhh Uuh  Olha 'cê' me faz tão bem Só d...</td>\n",
       "      <td>anitta</td>\n",
       "      <td>anitta</td>\n",
       "    </tr>\n",
       "    <tr>\n",
       "      <th>1</th>\n",
       "      <td>Aí! eu tô maluco Aí! eu tô maluco  Sua mulher ...</td>\n",
       "      <td>anitta</td>\n",
       "      <td>chiclete-com-banana</td>\n",
       "    </tr>\n",
       "    <tr>\n",
       "      <th>2</th>\n",
       "      <td>Sei lá, o que será que você tem Só sei que iss...</td>\n",
       "      <td>anitta</td>\n",
       "      <td>anitta</td>\n",
       "    </tr>\n",
       "    <tr>\n",
       "      <th>3</th>\n",
       "      <td>Na mistura da cor Tabuleiro de damas No gingad...</td>\n",
       "      <td>chiclete-com-banana</td>\n",
       "      <td>chiclete-com-banana</td>\n",
       "    </tr>\n",
       "    <tr>\n",
       "      <th>4</th>\n",
       "      <td>Atención, formación, la capitana llegó (Vou fa...</td>\n",
       "      <td>anitta</td>\n",
       "      <td>anitta</td>\n",
       "    </tr>\n",
       "    <tr>\n",
       "      <th>...</th>\n",
       "      <td>...</td>\n",
       "      <td>...</td>\n",
       "      <td>...</td>\n",
       "    </tr>\n",
       "    <tr>\n",
       "      <th>134</th>\n",
       "      <td>se você 25 Deus te abençoa se você não é Deus ...</td>\n",
       "      <td>roberto-carlos</td>\n",
       "      <td>chiclete-com-banana</td>\n",
       "    </tr>\n",
       "    <tr>\n",
       "      <th>135</th>\n",
       "      <td>Tu me haces sentir tan bien Con solo una mirad...</td>\n",
       "      <td>anitta</td>\n",
       "      <td>anitta</td>\n",
       "    </tr>\n",
       "    <tr>\n",
       "      <th>136</th>\n",
       "      <td>Quero todo mundo feliz nesse verão Se liberte ...</td>\n",
       "      <td>chiclete-com-banana</td>\n",
       "      <td>chiclete-com-banana</td>\n",
       "    </tr>\n",
       "    <tr>\n",
       "      <th>137</th>\n",
       "      <td>Yeah-eh Yeah-eh (Prince Royce) Ro-Ro-Ro-Royce ...</td>\n",
       "      <td>roberto-carlos</td>\n",
       "      <td>anitta</td>\n",
       "    </tr>\n",
       "    <tr>\n",
       "      <th>138</th>\n",
       "      <td>Linda, oh, Linda Com você vivo a sonhar Linda,...</td>\n",
       "      <td>chiclete-com-banana</td>\n",
       "      <td>roberto-carlos</td>\n",
       "    </tr>\n",
       "  </tbody>\n",
       "</table>\n",
       "<p>139 rows × 3 columns</p>\n",
       "</div>"
      ],
      "text/plain": [
       "                                                     0                    1  \\\n",
       "0    Uuh Uuh Uhh Uuh  Olha 'cê' me faz tão bem Só d...               anitta   \n",
       "1    Aí! eu tô maluco Aí! eu tô maluco  Sua mulher ...               anitta   \n",
       "2    Sei lá, o que será que você tem Só sei que iss...               anitta   \n",
       "3    Na mistura da cor Tabuleiro de damas No gingad...  chiclete-com-banana   \n",
       "4    Atención, formación, la capitana llegó (Vou fa...               anitta   \n",
       "..                                                 ...                  ...   \n",
       "134  se você 25 Deus te abençoa se você não é Deus ...       roberto-carlos   \n",
       "135  Tu me haces sentir tan bien Con solo una mirad...               anitta   \n",
       "136  Quero todo mundo feliz nesse verão Se liberte ...  chiclete-com-banana   \n",
       "137  Yeah-eh Yeah-eh (Prince Royce) Ro-Ro-Ro-Royce ...       roberto-carlos   \n",
       "138  Linda, oh, Linda Com você vivo a sonhar Linda,...  chiclete-com-banana   \n",
       "\n",
       "                       2  \n",
       "0                 anitta  \n",
       "1    chiclete-com-banana  \n",
       "2                 anitta  \n",
       "3    chiclete-com-banana  \n",
       "4                 anitta  \n",
       "..                   ...  \n",
       "134  chiclete-com-banana  \n",
       "135               anitta  \n",
       "136  chiclete-com-banana  \n",
       "137               anitta  \n",
       "138       roberto-carlos  \n",
       "\n",
       "[139 rows x 3 columns]"
      ]
     },
     "execution_count": 124,
     "metadata": {},
     "output_type": "execute_result"
    }
   ],
   "source": [
    "pd.DataFrame(zip(X_test, pipeline.predict(X_test), y_test))"
   ]
  },
  {
   "cell_type": "code",
   "execution_count": 56,
   "metadata": {
    "ExecuteTime": {
     "end_time": "2020-05-11T20:05:44.849067Z",
     "start_time": "2020-05-11T20:05:44.845077Z"
    }
   },
   "outputs": [],
   "source": [
    "from sklearn.metrics import confusion_matrix"
   ]
  },
  {
   "cell_type": "code",
   "execution_count": 57,
   "metadata": {
    "ExecuteTime": {
     "end_time": "2020-05-11T20:05:44.886965Z",
     "start_time": "2020-05-11T20:05:44.850064Z"
    }
   },
   "outputs": [
    {
     "data": {
      "text/html": [
       "<div>\n",
       "<style scoped>\n",
       "    .dataframe tbody tr th:only-of-type {\n",
       "        vertical-align: middle;\n",
       "    }\n",
       "\n",
       "    .dataframe tbody tr th {\n",
       "        vertical-align: top;\n",
       "    }\n",
       "\n",
       "    .dataframe thead th {\n",
       "        text-align: right;\n",
       "    }\n",
       "</style>\n",
       "<table border=\"1\" class=\"dataframe\">\n",
       "  <thead>\n",
       "    <tr style=\"text-align: right;\">\n",
       "      <th></th>\n",
       "      <th>anitta</th>\n",
       "      <th>chiclete-com-banana</th>\n",
       "      <th>roberto-carlos</th>\n",
       "    </tr>\n",
       "  </thead>\n",
       "  <tbody>\n",
       "    <tr>\n",
       "      <th>anitta</th>\n",
       "      <td>33</td>\n",
       "      <td>7</td>\n",
       "      <td>5</td>\n",
       "    </tr>\n",
       "    <tr>\n",
       "      <th>chiclete-com-banana</th>\n",
       "      <td>4</td>\n",
       "      <td>35</td>\n",
       "      <td>9</td>\n",
       "    </tr>\n",
       "    <tr>\n",
       "      <th>roberto-carlos</th>\n",
       "      <td>2</td>\n",
       "      <td>9</td>\n",
       "      <td>35</td>\n",
       "    </tr>\n",
       "  </tbody>\n",
       "</table>\n",
       "</div>"
      ],
      "text/plain": [
       "                     anitta  chiclete-com-banana  roberto-carlos\n",
       "anitta                   33                    7               5\n",
       "chiclete-com-banana       4                   35               9\n",
       "roberto-carlos            2                    9              35"
      ]
     },
     "execution_count": 57,
     "metadata": {},
     "output_type": "execute_result"
    }
   ],
   "source": [
    "pd.DataFrame(\n",
    "    confusion_matrix(y_test, pipeline.predict(X_test)),\n",
    "    index=pipeline.classes_,\n",
    "    columns=pipeline.classes_)"
   ]
  },
  {
   "cell_type": "code",
   "execution_count": 58,
   "metadata": {
    "ExecuteTime": {
     "end_time": "2020-05-11T20:05:45.032576Z",
     "start_time": "2020-05-11T20:05:44.887963Z"
    },
    "scrolled": true
   },
   "outputs": [
    {
     "data": {
      "text/plain": [
       "<matplotlib.axes._subplots.AxesSubplot at 0x242b3dbf8d0>"
      ]
     },
     "execution_count": 58,
     "metadata": {},
     "output_type": "execute_result"
    },
    {
     "data": {
      "image/png": "[encoded data removed]",
      "text/plain": [
       "<Figure size 432x288 with 2 Axes>"
      ]
     },
     "metadata": {
      "needs_background": "light"
     },
     "output_type": "display_data"
    }
   ],
   "source": [
    "sns.heatmap(\n",
    "    pd.DataFrame(\n",
    "    confusion_matrix(y_test, pipeline.predict(X_test)),\n",
    "    index=pipeline.classes_,\n",
    "    columns=pipeline.classes_),\n",
    "    annot=True)"
   ]
  },
  {
   "cell_type": "markdown",
   "metadata": {},
   "source": [
    "## Distance between songs - find most similar songs given artist"
   ]
  },
  {
   "cell_type": "code",
   "execution_count": 59,
   "metadata": {
    "ExecuteTime": {
     "end_time": "2020-05-11T20:05:45.036593Z",
     "start_time": "2020-05-11T20:05:45.033601Z"
    }
   },
   "outputs": [],
   "source": [
    "from scipy.spatial.distance import pdist, squareform"
   ]
  },
  {
   "cell_type": "code",
   "execution_count": 60,
   "metadata": {
    "ExecuteTime": {
     "end_time": "2020-05-11T20:05:45.188184Z",
     "start_time": "2020-05-11T20:05:45.037563Z"
    }
   },
   "outputs": [],
   "source": [
    "count_vectorizer = CountVectorizer(ngram_range=(2,2), max_df=1000, min_df=5)\n",
    "tfidf_transformer = TfidfTransformer()\n",
    "\n",
    "transformed_vector = count_vectorizer.fit_transform(final.Lyrics)\n",
    "transformed_vector = tfidf_transformer.fit_transform(transformed_vector)"
   ]
  },
  {
   "cell_type": "code",
   "execution_count": 66,
   "metadata": {
    "ExecuteTime": {
     "end_time": "2020-05-11T20:09:02.151600Z",
     "start_time": "2020-05-11T20:09:02.013321Z"
    }
   },
   "outputs": [],
   "source": [
    "from sklearn.feature_extraction.text import TfidfVectorizer\n",
    "\n",
    "tfid_vect = TfidfVectorizer(ngram_range=(2,2), max_df=1000, min_df=5)\n",
    "transformed_vector = tfid_vect.fit_transform(final.Lyrics)"
   ]
  },
  {
   "cell_type": "code",
   "execution_count": 69,
   "metadata": {
    "ExecuteTime": {
     "end_time": "2020-05-11T20:09:21.413635Z",
     "start_time": "2020-05-11T20:09:21.408622Z"
    }
   },
   "outputs": [
    {
     "data": {
      "text/plain": [
       "(554, 1064)"
      ]
     },
     "execution_count": 69,
     "metadata": {},
     "output_type": "execute_result"
    }
   ],
   "source": [
    "transformed_vector.toarray().shape"
   ]
  },
  {
   "cell_type": "code",
   "execution_count": 111,
   "metadata": {
    "ExecuteTime": {
     "end_time": "2020-05-11T20:18:01.361825Z",
     "start_time": "2020-05-11T20:18:01.190255Z"
    }
   },
   "outputs": [],
   "source": [
    "distances = pd.DataFrame(\n",
    "    squareform(\n",
    "    pdist(transformed_vector.toarray(), \n",
    "          metric='correlation'))).fillna(2)"
   ]
  },
  {
   "cell_type": "code",
   "execution_count": 130,
   "metadata": {
    "ExecuteTime": {
     "end_time": "2020-05-12T12:25:34.846192Z",
     "start_time": "2020-05-12T12:25:34.838182Z"
    }
   },
   "outputs": [],
   "source": [
    "similarities = 1 / ( 1 + distances )"
   ]
  },
  {
   "cell_type": "code",
   "execution_count": 113,
   "metadata": {
    "ExecuteTime": {
     "end_time": "2020-05-11T20:18:01.633328Z",
     "start_time": "2020-05-11T20:18:01.630337Z"
    }
   },
   "outputs": [],
   "source": [
    "similarities_between_chiclete_and_rc = similarities.loc[0:199, 200:399]"
   ]
  },
  {
   "cell_type": "code",
   "execution_count": 114,
   "metadata": {
    "ExecuteTime": {
     "end_time": "2020-05-11T20:18:01.855252Z",
     "start_time": "2020-05-11T20:18:01.851262Z"
    }
   },
   "outputs": [],
   "source": [
    "similarities_between_rc_and_anitta = similarities.loc[200:399, 400::]"
   ]
  },
  {
   "cell_type": "code",
   "execution_count": 131,
   "metadata": {
    "ExecuteTime": {
     "end_time": "2020-05-12T12:26:40.507549Z",
     "start_time": "2020-05-12T12:26:40.498601Z"
    }
   },
   "outputs": [
    {
     "data": {
      "text/plain": [
       "428    0.499494\n",
       "510    0.510569\n",
       "459    0.511792\n",
       "414    0.511792\n",
       "451    0.513319\n",
       "         ...   \n",
       "550    0.683174\n",
       "484    0.721392\n",
       "437    0.781129\n",
       "410    0.838417\n",
       "542    0.847887\n",
       "Length: 154, dtype: float64"
      ]
     },
     "execution_count": 131,
     "metadata": {},
     "output_type": "execute_result"
    }
   ],
   "source": [
    "similarities_between_rc_and_anitta.max().sort_values()"
   ]
  },
  {
   "cell_type": "code",
   "execution_count": 115,
   "metadata": {
    "ExecuteTime": {
     "end_time": "2020-05-11T20:18:02.072375Z",
     "start_time": "2020-05-11T20:18:02.068386Z"
    }
   },
   "outputs": [],
   "source": [
    "most_similar_song = similarities_between_rc_and_anitta.max().sort_values().index[-1]"
   ]
  },
  {
   "cell_type": "code",
   "execution_count": 116,
   "metadata": {
    "ExecuteTime": {
     "end_time": "2020-05-11T20:18:02.483490Z",
     "start_time": "2020-05-11T20:18:02.479501Z"
    }
   },
   "outputs": [
    {
     "data": {
      "text/plain": [
       "542"
      ]
     },
     "execution_count": 116,
     "metadata": {},
     "output_type": "execute_result"
    }
   ],
   "source": [
    "most_similar_song\n"
   ]
  },
  {
   "cell_type": "code",
   "execution_count": 117,
   "metadata": {
    "ExecuteTime": {
     "end_time": "2020-05-11T20:18:03.224632Z",
     "start_time": "2020-05-11T20:18:03.204613Z"
    }
   },
   "outputs": [
    {
     "data": {
      "text/html": [
       "<div>\n",
       "<style scoped>\n",
       "    .dataframe tbody tr th:only-of-type {\n",
       "        vertical-align: middle;\n",
       "    }\n",
       "\n",
       "    .dataframe tbody tr th {\n",
       "        vertical-align: top;\n",
       "    }\n",
       "\n",
       "    .dataframe thead th {\n",
       "        text-align: right;\n",
       "    }\n",
       "</style>\n",
       "<table border=\"1\" class=\"dataframe\">\n",
       "  <thead>\n",
       "    <tr style=\"text-align: right;\">\n",
       "      <th></th>\n",
       "      <th>400</th>\n",
       "      <th>401</th>\n",
       "      <th>402</th>\n",
       "      <th>403</th>\n",
       "      <th>404</th>\n",
       "      <th>405</th>\n",
       "      <th>406</th>\n",
       "      <th>407</th>\n",
       "      <th>408</th>\n",
       "      <th>409</th>\n",
       "      <th>...</th>\n",
       "      <th>544</th>\n",
       "      <th>545</th>\n",
       "      <th>546</th>\n",
       "      <th>547</th>\n",
       "      <th>548</th>\n",
       "      <th>549</th>\n",
       "      <th>550</th>\n",
       "      <th>551</th>\n",
       "      <th>552</th>\n",
       "      <th>553</th>\n",
       "    </tr>\n",
       "  </thead>\n",
       "  <tbody>\n",
       "    <tr>\n",
       "      <th>200</th>\n",
       "      <td>0.498706</td>\n",
       "      <td>0.498013</td>\n",
       "      <td>0.498208</td>\n",
       "      <td>0.498783</td>\n",
       "      <td>0.498088</td>\n",
       "      <td>0.498991</td>\n",
       "      <td>0.498497</td>\n",
       "      <td>0.498793</td>\n",
       "      <td>0.498081</td>\n",
       "      <td>0.498455</td>\n",
       "      <td>...</td>\n",
       "      <td>0.497553</td>\n",
       "      <td>0.497406</td>\n",
       "      <td>0.499342</td>\n",
       "      <td>0.498722</td>\n",
       "      <td>0.497483</td>\n",
       "      <td>0.498154</td>\n",
       "      <td>0.498925</td>\n",
       "      <td>0.498535</td>\n",
       "      <td>0.498370</td>\n",
       "      <td>0.498133</td>\n",
       "    </tr>\n",
       "    <tr>\n",
       "      <th>201</th>\n",
       "      <td>0.495474</td>\n",
       "      <td>0.511419</td>\n",
       "      <td>0.495467</td>\n",
       "      <td>0.498576</td>\n",
       "      <td>0.495986</td>\n",
       "      <td>0.496465</td>\n",
       "      <td>0.494748</td>\n",
       "      <td>0.495776</td>\n",
       "      <td>0.493309</td>\n",
       "      <td>0.503753</td>\n",
       "      <td>...</td>\n",
       "      <td>0.503534</td>\n",
       "      <td>0.527803</td>\n",
       "      <td>0.497692</td>\n",
       "      <td>0.526796</td>\n",
       "      <td>0.513567</td>\n",
       "      <td>0.499601</td>\n",
       "      <td>0.496237</td>\n",
       "      <td>0.497946</td>\n",
       "      <td>0.494307</td>\n",
       "      <td>0.499182</td>\n",
       "    </tr>\n",
       "    <tr>\n",
       "      <th>202</th>\n",
       "      <td>0.495858</td>\n",
       "      <td>0.507175</td>\n",
       "      <td>0.494277</td>\n",
       "      <td>0.496102</td>\n",
       "      <td>0.493894</td>\n",
       "      <td>0.496766</td>\n",
       "      <td>0.499880</td>\n",
       "      <td>0.496134</td>\n",
       "      <td>0.493874</td>\n",
       "      <td>0.505536</td>\n",
       "      <td>...</td>\n",
       "      <td>0.500467</td>\n",
       "      <td>0.498535</td>\n",
       "      <td>0.499729</td>\n",
       "      <td>0.502041</td>\n",
       "      <td>0.506263</td>\n",
       "      <td>0.494106</td>\n",
       "      <td>0.496557</td>\n",
       "      <td>0.504829</td>\n",
       "      <td>0.494788</td>\n",
       "      <td>0.501534</td>\n",
       "    </tr>\n",
       "    <tr>\n",
       "      <th>203</th>\n",
       "      <td>0.497609</td>\n",
       "      <td>0.517250</td>\n",
       "      <td>0.496692</td>\n",
       "      <td>0.499866</td>\n",
       "      <td>0.496470</td>\n",
       "      <td>0.498135</td>\n",
       "      <td>0.497224</td>\n",
       "      <td>0.497769</td>\n",
       "      <td>0.496458</td>\n",
       "      <td>0.541619</td>\n",
       "      <td>...</td>\n",
       "      <td>0.498890</td>\n",
       "      <td>0.500496</td>\n",
       "      <td>0.500150</td>\n",
       "      <td>0.509608</td>\n",
       "      <td>0.500400</td>\n",
       "      <td>0.496593</td>\n",
       "      <td>0.498014</td>\n",
       "      <td>0.497293</td>\n",
       "      <td>0.499141</td>\n",
       "      <td>0.496553</td>\n",
       "    </tr>\n",
       "    <tr>\n",
       "      <th>204</th>\n",
       "      <td>0.498198</td>\n",
       "      <td>0.497234</td>\n",
       "      <td>0.497506</td>\n",
       "      <td>0.498304</td>\n",
       "      <td>0.497338</td>\n",
       "      <td>0.498594</td>\n",
       "      <td>0.497907</td>\n",
       "      <td>0.498319</td>\n",
       "      <td>0.497329</td>\n",
       "      <td>0.497848</td>\n",
       "      <td>...</td>\n",
       "      <td>0.496594</td>\n",
       "      <td>0.522684</td>\n",
       "      <td>0.499084</td>\n",
       "      <td>0.513006</td>\n",
       "      <td>0.496498</td>\n",
       "      <td>0.497431</td>\n",
       "      <td>0.498503</td>\n",
       "      <td>0.497959</td>\n",
       "      <td>0.497730</td>\n",
       "      <td>0.497401</td>\n",
       "    </tr>\n",
       "    <tr>\n",
       "      <th>...</th>\n",
       "      <td>...</td>\n",
       "      <td>...</td>\n",
       "      <td>...</td>\n",
       "      <td>...</td>\n",
       "      <td>...</td>\n",
       "      <td>...</td>\n",
       "      <td>...</td>\n",
       "      <td>...</td>\n",
       "      <td>...</td>\n",
       "      <td>...</td>\n",
       "      <td>...</td>\n",
       "      <td>...</td>\n",
       "      <td>...</td>\n",
       "      <td>...</td>\n",
       "      <td>...</td>\n",
       "      <td>...</td>\n",
       "      <td>...</td>\n",
       "      <td>...</td>\n",
       "      <td>...</td>\n",
       "      <td>...</td>\n",
       "      <td>...</td>\n",
       "    </tr>\n",
       "    <tr>\n",
       "      <th>395</th>\n",
       "      <td>0.498460</td>\n",
       "      <td>0.497635</td>\n",
       "      <td>0.497868</td>\n",
       "      <td>0.513361</td>\n",
       "      <td>0.497724</td>\n",
       "      <td>0.498799</td>\n",
       "      <td>0.498211</td>\n",
       "      <td>0.498563</td>\n",
       "      <td>0.497716</td>\n",
       "      <td>0.498160</td>\n",
       "      <td>...</td>\n",
       "      <td>0.497088</td>\n",
       "      <td>0.496914</td>\n",
       "      <td>0.499217</td>\n",
       "      <td>0.498478</td>\n",
       "      <td>0.497005</td>\n",
       "      <td>0.497803</td>\n",
       "      <td>0.498721</td>\n",
       "      <td>0.498256</td>\n",
       "      <td>0.498059</td>\n",
       "      <td>0.497778</td>\n",
       "    </tr>\n",
       "    <tr>\n",
       "      <th>396</th>\n",
       "      <td>0.497417</td>\n",
       "      <td>0.497842</td>\n",
       "      <td>0.496427</td>\n",
       "      <td>0.497569</td>\n",
       "      <td>0.511638</td>\n",
       "      <td>0.497984</td>\n",
       "      <td>0.497001</td>\n",
       "      <td>0.497590</td>\n",
       "      <td>0.496174</td>\n",
       "      <td>0.500338</td>\n",
       "      <td>...</td>\n",
       "      <td>0.495125</td>\n",
       "      <td>0.521697</td>\n",
       "      <td>0.498685</td>\n",
       "      <td>0.497448</td>\n",
       "      <td>0.503590</td>\n",
       "      <td>0.496319</td>\n",
       "      <td>0.497854</td>\n",
       "      <td>0.506991</td>\n",
       "      <td>0.499018</td>\n",
       "      <td>0.503060</td>\n",
       "    </tr>\n",
       "    <tr>\n",
       "      <th>397</th>\n",
       "      <td>0.496614</td>\n",
       "      <td>0.517126</td>\n",
       "      <td>0.499376</td>\n",
       "      <td>0.496814</td>\n",
       "      <td>0.499026</td>\n",
       "      <td>0.497357</td>\n",
       "      <td>0.497439</td>\n",
       "      <td>0.496840</td>\n",
       "      <td>0.494989</td>\n",
       "      <td>0.495960</td>\n",
       "      <td>...</td>\n",
       "      <td>0.518072</td>\n",
       "      <td>0.539141</td>\n",
       "      <td>0.499496</td>\n",
       "      <td>0.500717</td>\n",
       "      <td>0.513947</td>\n",
       "      <td>0.500136</td>\n",
       "      <td>0.497186</td>\n",
       "      <td>0.498291</td>\n",
       "      <td>0.495738</td>\n",
       "      <td>0.500279</td>\n",
       "    </tr>\n",
       "    <tr>\n",
       "      <th>398</th>\n",
       "      <td>0.577342</td>\n",
       "      <td>0.496822</td>\n",
       "      <td>0.497134</td>\n",
       "      <td>0.498051</td>\n",
       "      <td>0.501502</td>\n",
       "      <td>0.502014</td>\n",
       "      <td>0.499822</td>\n",
       "      <td>0.498068</td>\n",
       "      <td>0.596663</td>\n",
       "      <td>0.501526</td>\n",
       "      <td>...</td>\n",
       "      <td>0.496088</td>\n",
       "      <td>0.495855</td>\n",
       "      <td>0.498947</td>\n",
       "      <td>0.497954</td>\n",
       "      <td>0.495978</td>\n",
       "      <td>0.497048</td>\n",
       "      <td>0.498280</td>\n",
       "      <td>0.497655</td>\n",
       "      <td>0.533941</td>\n",
       "      <td>0.497014</td>\n",
       "    </tr>\n",
       "    <tr>\n",
       "      <th>399</th>\n",
       "      <td>0.496544</td>\n",
       "      <td>0.494704</td>\n",
       "      <td>0.518041</td>\n",
       "      <td>0.496748</td>\n",
       "      <td>0.496489</td>\n",
       "      <td>0.497302</td>\n",
       "      <td>0.495988</td>\n",
       "      <td>0.496775</td>\n",
       "      <td>0.494885</td>\n",
       "      <td>0.498784</td>\n",
       "      <td>...</td>\n",
       "      <td>0.496001</td>\n",
       "      <td>0.511688</td>\n",
       "      <td>0.499881</td>\n",
       "      <td>0.502060</td>\n",
       "      <td>0.525584</td>\n",
       "      <td>0.497552</td>\n",
       "      <td>0.497128</td>\n",
       "      <td>0.497990</td>\n",
       "      <td>0.495650</td>\n",
       "      <td>0.502165</td>\n",
       "    </tr>\n",
       "  </tbody>\n",
       "</table>\n",
       "<p>200 rows × 154 columns</p>\n",
       "</div>"
      ],
      "text/plain": [
       "          400       401       402       403       404       405       406  \\\n",
       "200  0.498706  0.498013  0.498208  0.498783  0.498088  0.498991  0.498497   \n",
       "201  0.495474  0.511419  0.495467  0.498576  0.495986  0.496465  0.494748   \n",
       "202  0.495858  0.507175  0.494277  0.496102  0.493894  0.496766  0.499880   \n",
       "203  0.497609  0.517250  0.496692  0.499866  0.496470  0.498135  0.497224   \n",
       "204  0.498198  0.497234  0.497506  0.498304  0.497338  0.498594  0.497907   \n",
       "..        ...       ...       ...       ...       ...       ...       ...   \n",
       "395  0.498460  0.497635  0.497868  0.513361  0.497724  0.498799  0.498211   \n",
       "396  0.497417  0.497842  0.496427  0.497569  0.511638  0.497984  0.497001   \n",
       "397  0.496614  0.517126  0.499376  0.496814  0.499026  0.497357  0.497439   \n",
       "398  0.577342  0.496822  0.497134  0.498051  0.501502  0.502014  0.499822   \n",
       "399  0.496544  0.494704  0.518041  0.496748  0.496489  0.497302  0.495988   \n",
       "\n",
       "          407       408       409  ...       544       545       546  \\\n",
       "200  0.498793  0.498081  0.498455  ...  0.497553  0.497406  0.499342   \n",
       "201  0.495776  0.493309  0.503753  ...  0.503534  0.527803  0.497692   \n",
       "202  0.496134  0.493874  0.505536  ...  0.500467  0.498535  0.499729   \n",
       "203  0.497769  0.496458  0.541619  ...  0.498890  0.500496  0.500150   \n",
       "204  0.498319  0.497329  0.497848  ...  0.496594  0.522684  0.499084   \n",
       "..        ...       ...       ...  ...       ...       ...       ...   \n",
       "395  0.498563  0.497716  0.498160  ...  0.497088  0.496914  0.499217   \n",
       "396  0.497590  0.496174  0.500338  ...  0.495125  0.521697  0.498685   \n",
       "397  0.496840  0.494989  0.495960  ...  0.518072  0.539141  0.499496   \n",
       "398  0.498068  0.596663  0.501526  ...  0.496088  0.495855  0.498947   \n",
       "399  0.496775  0.494885  0.498784  ...  0.496001  0.511688  0.499881   \n",
       "\n",
       "          547       548       549       550       551       552       553  \n",
       "200  0.498722  0.497483  0.498154  0.498925  0.498535  0.498370  0.498133  \n",
       "201  0.526796  0.513567  0.499601  0.496237  0.497946  0.494307  0.499182  \n",
       "202  0.502041  0.506263  0.494106  0.496557  0.504829  0.494788  0.501534  \n",
       "203  0.509608  0.500400  0.496593  0.498014  0.497293  0.499141  0.496553  \n",
       "204  0.513006  0.496498  0.497431  0.498503  0.497959  0.497730  0.497401  \n",
       "..        ...       ...       ...       ...       ...       ...       ...  \n",
       "395  0.498478  0.497005  0.497803  0.498721  0.498256  0.498059  0.497778  \n",
       "396  0.497448  0.503590  0.496319  0.497854  0.506991  0.499018  0.503060  \n",
       "397  0.500717  0.513947  0.500136  0.497186  0.498291  0.495738  0.500279  \n",
       "398  0.497954  0.495978  0.497048  0.498280  0.497655  0.533941  0.497014  \n",
       "399  0.502060  0.525584  0.497552  0.497128  0.497990  0.495650  0.502165  \n",
       "\n",
       "[200 rows x 154 columns]"
      ]
     },
     "execution_count": 117,
     "metadata": {},
     "output_type": "execute_result"
    }
   ],
   "source": [
    "similarities_between_rc_and_anitta.loc[:]"
   ]
  },
  {
   "cell_type": "code",
   "execution_count": 118,
   "metadata": {
    "ExecuteTime": {
     "end_time": "2020-05-11T20:18:03.973680Z",
     "start_time": "2020-05-11T20:18:03.969668Z"
    },
    "scrolled": true
   },
   "outputs": [
    {
     "data": {
      "text/plain": [
       "394"
      ]
     },
     "execution_count": 118,
     "metadata": {},
     "output_type": "execute_result"
    }
   ],
   "source": [
    "similarities_between_rc_and_anitta.idxmax().loc[most_similar_song]"
   ]
  },
  {
   "cell_type": "code",
   "execution_count": 119,
   "metadata": {
    "ExecuteTime": {
     "end_time": "2020-05-11T20:18:05.286833Z",
     "start_time": "2020-05-11T20:18:05.278879Z"
    }
   },
   "outputs": [
    {
     "data": {
      "text/html": [
       "<div>\n",
       "<style scoped>\n",
       "    .dataframe tbody tr th:only-of-type {\n",
       "        vertical-align: middle;\n",
       "    }\n",
       "\n",
       "    .dataframe tbody tr th {\n",
       "        vertical-align: top;\n",
       "    }\n",
       "\n",
       "    .dataframe thead th {\n",
       "        text-align: right;\n",
       "    }\n",
       "</style>\n",
       "<table border=\"1\" class=\"dataframe\">\n",
       "  <thead>\n",
       "    <tr style=\"text-align: right;\">\n",
       "      <th></th>\n",
       "      <th>index</th>\n",
       "      <th>Lyrics</th>\n",
       "      <th>Artist</th>\n",
       "    </tr>\n",
       "  </thead>\n",
       "  <tbody>\n",
       "    <tr>\n",
       "      <th>394</th>\n",
       "      <td>82</td>\n",
       "      <td>Todo o tempo que eu vivi Procurando meu caminh...</td>\n",
       "      <td>roberto-carlos</td>\n",
       "    </tr>\n",
       "    <tr>\n",
       "      <th>542</th>\n",
       "      <td>68</td>\n",
       "      <td>This was never the way I planned not my intent...</td>\n",
       "      <td>anitta</td>\n",
       "    </tr>\n",
       "  </tbody>\n",
       "</table>\n",
       "</div>"
      ],
      "text/plain": [
       "     index                                             Lyrics          Artist\n",
       "394     82  Todo o tempo que eu vivi Procurando meu caminh...  roberto-carlos\n",
       "542     68  This was never the way I planned not my intent...          anitta"
      ]
     },
     "execution_count": 119,
     "metadata": {},
     "output_type": "execute_result"
    }
   ],
   "source": [
    "final.reset_index().loc[[394, 542], :]"
   ]
  },
  {
   "cell_type": "code",
   "execution_count": null,
   "metadata": {},
   "outputs": [],
   "source": []
  },
  {
   "cell_type": "code",
   "execution_count": null,
   "metadata": {},
   "outputs": [],
   "source": []
  },
  {
   "cell_type": "code",
   "execution_count": 120,
   "metadata": {
    "ExecuteTime": {
     "end_time": "2020-05-11T20:18:06.300112Z",
     "start_time": "2020-05-11T20:18:06.294128Z"
    }
   },
   "outputs": [
    {
     "data": {
      "text/plain": [
       "200    155\n",
       "201     97\n",
       "202    134\n",
       "203    188\n",
       "204     28\n",
       "      ... \n",
       "395    155\n",
       "396    127\n",
       "397    152\n",
       "398     66\n",
       "399    129\n",
       "Length: 200, dtype: int64"
      ]
     },
     "execution_count": 120,
     "metadata": {},
     "output_type": "execute_result"
    }
   ],
   "source": [
    "similarities_between_chiclete_and_rc.idxmax()"
   ]
  },
  {
   "cell_type": "code",
   "execution_count": 121,
   "metadata": {
    "ExecuteTime": {
     "end_time": "2020-05-11T20:18:06.849761Z",
     "start_time": "2020-05-11T20:18:06.837793Z"
    }
   },
   "outputs": [
    {
     "name": "stdout",
     "output_type": "stream",
     "text": [
      "330\n",
      "183\n"
     ]
    },
    {
     "data": {
      "text/html": [
       "<div>\n",
       "<style scoped>\n",
       "    .dataframe tbody tr th:only-of-type {\n",
       "        vertical-align: middle;\n",
       "    }\n",
       "\n",
       "    .dataframe tbody tr th {\n",
       "        vertical-align: top;\n",
       "    }\n",
       "\n",
       "    .dataframe thead th {\n",
       "        text-align: right;\n",
       "    }\n",
       "</style>\n",
       "<table border=\"1\" class=\"dataframe\">\n",
       "  <thead>\n",
       "    <tr style=\"text-align: right;\">\n",
       "      <th></th>\n",
       "      <th>index</th>\n",
       "      <th>Lyrics</th>\n",
       "      <th>Artist</th>\n",
       "    </tr>\n",
       "  </thead>\n",
       "  <tbody>\n",
       "    <tr>\n",
       "      <th>330</th>\n",
       "      <td>337</td>\n",
       "      <td>Oh! Meu Menino Jesus Na noite desse Natal São ...</td>\n",
       "      <td>roberto-carlos</td>\n",
       "    </tr>\n",
       "    <tr>\n",
       "      <th>183</th>\n",
       "      <td>0</td>\n",
       "      <td>Ê, ê, ê, ê, ô Ê, ê, ê... ê, ô, ê, ô Vem  O amo...</td>\n",
       "      <td>chiclete-com-banana</td>\n",
       "    </tr>\n",
       "  </tbody>\n",
       "</table>\n",
       "</div>"
      ],
      "text/plain": [
       "     index                                             Lyrics  \\\n",
       "330    337  Oh! Meu Menino Jesus Na noite desse Natal São ...   \n",
       "183      0  Ê, ê, ê, ê, ô Ê, ê, ê... ê, ô, ê, ô Vem  O amo...   \n",
       "\n",
       "                  Artist  \n",
       "330       roberto-carlos  \n",
       "183  chiclete-com-banana  "
      ]
     },
     "execution_count": 121,
     "metadata": {},
     "output_type": "execute_result"
    }
   ],
   "source": [
    "most_similar_song = similarities_between_chiclete_and_rc.max().sort_values().index[-1]\n",
    "print(most_similar_song)\n",
    "print(similarities_between_chiclete_and_rc.idxmax().loc[most_similar_song])\n",
    "\n",
    "final.reset_index().loc[[most_similar_song, \n",
    "                         similarities_between_chiclete_and_rc.idxmax().loc[most_similar_song]], :]"
   ]
  },
  {
   "cell_type": "code",
   "execution_count": 123,
   "metadata": {
    "ExecuteTime": {
     "end_time": "2020-05-11T20:18:26.165409Z",
     "start_time": "2020-05-11T20:18:26.159397Z"
    }
   },
   "outputs": [
    {
     "data": {
      "text/plain": [
       "array(['Oh! Meu Menino Jesus Na noite desse Natal São as estrelas que brilham no céu Do seu amor um sinal  Que em toda casa a alegria Seja pra todos igual Brisa de flor perfumando o jardim Chuva de amor no quintal  E nessa noite feliz Noite de paz e de amor Todos veremos no céu A estrela do Salvador  Te peço Menino Jesus Ponha na mesa de alguém O que esse alguém sempre quis e não tem Felicidade também  Lá, lá, lá, lá, lá, lá, lá, lá, lá, lá, lá Lá, lá, lá, lá, lá, lá, lá, lá Lá, lá, lá, lá, lá, lá, lá, lá, lá, lá, lá Lá, lá, lá, lá, lá, lá, lá, lá, lá  Que em toda casa a alegria Seja pra todos igual Brisa de flor perfumando o jardim Chuva de amor no quintal  E nessa noite feliz Noite de paz e de amor Todos veremos no céu A estrela do Salvador  Te peço Menino Jesus Ponha na mesa de alguém O que esse alguém sempre quis e não tem Felicidade também... Felicidade também... Felicidade também  Lá, lá, lá, lá, lá, lá, lá, lá, lá, lá, lá Lá, lá, lá, lá, lá, lá, lá, lá Lá, lá, lá, lá, lá, lá, lá, lá, lá, lá, lá Lá, lá, lá, lá, lá, lá, lá, lá, lá (2x)',\n",
       "       'Ê, ê, ê, ê, ô Ê, ê, ê... ê, ô, ê, ô Vem  O amor é um vício que a vida tem Onde nasce se rompe no choro de alguém Sem eco no fundo desse amor  Olha o que eu sou pra você, oh, meu bem Só me dê alegria pra eu viver Meu amor, meu amor, não me deixe sozinho  refrão Pois a vida é uma só Nossa vida é uma só Lá, lá, lá, lá, lá, lá, ê, ô, ô, ô Lá, lá, lá, lá, lá, ê, ô, ê, ô  Vem Esquece meus erros perdoa e vem Deixe de pirraça, me abraça e vem Tudo se faz pelos braços de alguém'],\n",
       "      dtype=object)"
      ]
     },
     "execution_count": 123,
     "metadata": {},
     "output_type": "execute_result"
    }
   ],
   "source": [
    "final.reset_index().loc[[most_similar_song, \n",
    "                         similarities_between_chiclete_and_rc.idxmax().loc[most_similar_song]], :].Lyrics.values"
   ]
  }
 ],
 "metadata": {
  "kernelspec": {
   "display_name": "Python 3",
   "language": "python",
   "name": "python3"
  },
  "language_info": {
   "codemirror_mode": {
    "name": "ipython",
    "version": 3
   },
   "file_extension": ".py",
   "mimetype": "text/x-python",
   "name": "python",
   "nbconvert_exporter": "python",
   "pygments_lexer": "ipython3",
   "version": "3.7.3"
  },
  "toc": {
   "base_numbering": 1,
   "nav_menu": {},
   "number_sections": true,
   "sideBar": true,
   "skip_h1_title": false,
   "title_cell": "Table of Contents",
   "title_sidebar": "Contents",
   "toc_cell": false,
   "toc_position": {},
   "toc_section_display": true,
   "toc_window_display": false
  }
 },
 "nbformat": 4,
 "nbformat_minor": 2
}
