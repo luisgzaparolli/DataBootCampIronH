{
 "cells": [
  {
   "cell_type": "markdown",
   "metadata": {},
   "source": [
    "# Shark Attack Database Mini Project"
   ]
  },
  {
   "cell_type": "markdown",
   "metadata": {},
   "source": [
    "## Objective\n",
    "<br>\n",
    "\n",
    "* Organize and clean a csv data file.\n",
    "\n",
    "* Detail and explain all python code and commands used in the importing, cleaning, manipulation, exporting and analysis.\n",
    "\n",
    "<br>\n",
    "\n",
    "database version: 7.1"
   ]
  },
  {
   "cell_type": "markdown",
   "metadata": {},
   "source": [
    "# Starting the code"
   ]
  },
  {
   "cell_type": "markdown",
   "metadata": {},
   "source": [
    "## Importing libraries"
   ]
  },
  {
   "cell_type": "code",
   "execution_count": 1,
   "metadata": {},
   "outputs": [],
   "source": [
    "import pandas as pd\n",
    "import numpy as np\n",
    "import re\n",
    "import matplotlib.pyplot as plt"
   ]
  },
  {
   "cell_type": "markdown",
   "metadata": {},
   "source": [
    "## Importing database\n",
    "\n",
    "Importing a csv database using latin-1 encoding"
   ]
  },
  {
   "cell_type": "code",
   "execution_count": 2,
   "metadata": {},
   "outputs": [],
   "source": [
    "# Importing csv database as \"sharks\"\n",
    "sharks = pd.read_csv('attacks.csv', sep = ',', encoding='latin-1')\n",
    "\n",
    "# Creating a backup copy\n",
    "sharks_bkp = sharks.copy()"
   ]
  },
  {
   "cell_type": "markdown",
   "metadata": {},
   "source": [
    "## Declaring functions"
   ]
  },
  {
   "cell_type": "code",
   "execution_count": 3,
   "metadata": {},
   "outputs": [],
   "source": [
    "def standardize_headers(df, func=None):\n",
    "    '''\n",
    "    This functions works cleaning columns names:\n",
    "    Replacing whitespaces, lower characteres and turning to string.\n",
    "    '''\n",
    "    df.columns = df.columns.str.replace(' ', '_').str.lower()\n",
    "    if func:\n",
    "      df = df.apply(func)\n",
    "    return df\n",
    "\n",
    "def get_month(x):\n",
    "    try:\n",
    "        pattern = '-(\\w+)-'\n",
    "        x = ''.join(re.findall(pattern, x))\n",
    "        if len(x) == 3:\n",
    "            return x\n",
    "        else: return x\n",
    "    except:\n",
    "        return x"
   ]
  },
  {
   "cell_type": "markdown",
   "metadata": {},
   "source": [
    "## Data Cleaning\n",
    "\n",
    "Starting by steps cleaning this database to improve quality and productivity. Cleaning all incorrect information, just leaving the highest quality info."
   ]
  },
  {
   "cell_type": "code",
   "execution_count": 4,
   "metadata": {},
   "outputs": [
    {
     "data": {
      "text/plain": [
       "(25723, 24)"
      ]
     },
     "execution_count": 4,
     "metadata": {},
     "output_type": "execute_result"
    }
   ],
   "source": [
    "# Dataframe shape\n",
    "sharks.shape"
   ]
  },
  {
   "cell_type": "markdown",
   "metadata": {},
   "source": [
    "### Cleaning Columns\n",
    "<br>\n",
    "\n",
    "* Cleaning whitespaces\n",
    "\n",
    "<br>\n",
    "\n",
    "* Special characters\n",
    "\n",
    "<br>\n",
    "\n",
    "* Lower all characters. \n",
    "\n",
    "<br>\n"
   ]
  },
  {
   "cell_type": "code",
   "execution_count": 5,
   "metadata": {},
   "outputs": [
    {
     "data": {
      "text/plain": [
       "(25723, 24)"
      ]
     },
     "execution_count": 5,
     "metadata": {},
     "output_type": "execute_result"
    }
   ],
   "source": [
    "standardize_headers(sharks)\n",
    "sharks.shape"
   ]
  },
  {
   "cell_type": "code",
   "execution_count": 6,
   "metadata": {},
   "outputs": [
    {
     "data": {
      "text/plain": [
       "Index(['case_number', 'date', 'year', 'type', 'country', 'area', 'location',\n",
       "       'activity', 'name', 'sex', 'age', 'injury', 'fatal_(y/n)', 'time',\n",
       "       'species_', 'investigator_or_source', 'pdf', 'href_formula', 'href',\n",
       "       'case_number.1', 'case_number.2', 'original_order', 'unnamed:_22',\n",
       "       'unnamed:_23'],\n",
       "      dtype='object')"
      ]
     },
     "execution_count": 6,
     "metadata": {},
     "output_type": "execute_result"
    }
   ],
   "source": [
    "sharks = sharks.rename(columns = {'sex_':'sex'})\n",
    "sharks.columns"
   ]
  },
  {
   "cell_type": "markdown",
   "metadata": {},
   "source": [
    "### Checking Null and NaN"
   ]
  },
  {
   "cell_type": "code",
   "execution_count": 7,
   "metadata": {},
   "outputs": [
    {
     "data": {
      "text/plain": [
       "case_number               17021\n",
       "date                      19421\n",
       "year                      19423\n",
       "type                      19425\n",
       "country                   19471\n",
       "area                      19876\n",
       "location                  19961\n",
       "activity                  19965\n",
       "name                      19631\n",
       "sex                       19986\n",
       "age                       22252\n",
       "injury                    19449\n",
       "fatal_(y/n)               19960\n",
       "time                      22775\n",
       "species_                  22259\n",
       "investigator_or_source    19438\n",
       "pdf                       19421\n",
       "href_formula              19422\n",
       "href                      19421\n",
       "case_number.1             19421\n",
       "case_number.2             19421\n",
       "original_order            19414\n",
       "unnamed:_22               25722\n",
       "unnamed:_23               25721\n",
       "dtype: int64"
      ]
     },
     "execution_count": 7,
     "metadata": {},
     "output_type": "execute_result"
    }
   ],
   "source": [
    "# Searching for NaN values\n",
    "sharks.isna().sum()"
   ]
  },
  {
   "cell_type": "code",
   "execution_count": 8,
   "metadata": {},
   "outputs": [
    {
     "data": {
      "text/plain": [
       "case_number               17021\n",
       "date                      19421\n",
       "year                      19423\n",
       "type                      19425\n",
       "country                   19471\n",
       "area                      19876\n",
       "location                  19961\n",
       "activity                  19965\n",
       "name                      19631\n",
       "sex                       19986\n",
       "age                       22252\n",
       "injury                    19449\n",
       "fatal_(y/n)               19960\n",
       "time                      22775\n",
       "species_                  22259\n",
       "investigator_or_source    19438\n",
       "pdf                       19421\n",
       "href_formula              19422\n",
       "href                      19421\n",
       "case_number.1             19421\n",
       "case_number.2             19421\n",
       "original_order            19414\n",
       "unnamed:_22               25722\n",
       "unnamed:_23               25721\n",
       "dtype: int64"
      ]
     },
     "execution_count": 8,
     "metadata": {},
     "output_type": "execute_result"
    }
   ],
   "source": [
    "# Searching for Null values\n",
    "sharks.isnull().sum()"
   ]
  },
  {
   "cell_type": "code",
   "execution_count": 9,
   "metadata": {},
   "outputs": [
    {
     "data": {
      "text/plain": [
       "19411"
      ]
     },
     "execution_count": 9,
     "metadata": {},
     "output_type": "execute_result"
    }
   ],
   "source": [
    "# Searching for duplicates rows\n",
    "sharks.duplicated().sum()"
   ]
  },
  {
   "cell_type": "code",
   "execution_count": 10,
   "metadata": {},
   "outputs": [
    {
     "data": {
      "text/plain": [
       "case_number                  2\n",
       "date                        10\n",
       "year                        12\n",
       "type                        14\n",
       "country                     60\n",
       "area                       465\n",
       "location                   550\n",
       "activity                   554\n",
       "name                       220\n",
       "sex                        575\n",
       "age                       2841\n",
       "injury                      38\n",
       "fatal_(y/n)                549\n",
       "time                      3364\n",
       "species_                  2848\n",
       "investigator_or_source      27\n",
       "pdf                         10\n",
       "href_formula                11\n",
       "href                        10\n",
       "case_number.1               10\n",
       "case_number.2               10\n",
       "original_order               3\n",
       "unnamed:_22               6311\n",
       "unnamed:_23               6310\n",
       "dtype: int64"
      ]
     },
     "execution_count": 10,
     "metadata": {},
     "output_type": "execute_result"
    }
   ],
   "source": [
    "# Dropping duplicates\n",
    "sharks = sharks.drop_duplicates()\n",
    "sharks.isna().sum()"
   ]
  },
  {
   "cell_type": "markdown",
   "metadata": {},
   "source": [
    "### Dropping column"
   ]
  },
  {
   "cell_type": "markdown",
   "metadata": {},
   "source": [
    "#### Dropping two NaN columns \n",
    "\n",
    "<br>\n",
    "\n",
    "For improve performance and having no useful data."
   ]
  },
  {
   "cell_type": "code",
   "execution_count": 11,
   "metadata": {},
   "outputs": [],
   "source": [
    "sharks = sharks.drop(axis = 1, columns = ['unnamed:_22', 'unnamed:_23'])"
   ]
  },
  {
   "cell_type": "markdown",
   "metadata": {},
   "source": [
    "#### Drop original_order column\n",
    "\n",
    "<br>\n",
    "\n",
    "A column than was a Original index that is no longer useful."
   ]
  },
  {
   "cell_type": "code",
   "execution_count": 12,
   "metadata": {},
   "outputs": [],
   "source": [
    "sharks = sharks.drop(axis = 1, columns = ['original_order'])"
   ]
  },
  {
   "cell_type": "code",
   "execution_count": 13,
   "metadata": {},
   "outputs": [
    {
     "data": {
      "text/plain": [
       "True     6278\n",
       "False      34\n",
       "dtype: int64"
      ]
     },
     "execution_count": 13,
     "metadata": {},
     "output_type": "execute_result"
    }
   ],
   "source": [
    "sharks_case = sharks['case_number'] == sharks['case_number.1']\n",
    "sharks_case.value_counts()"
   ]
  },
  {
   "cell_type": "code",
   "execution_count": 14,
   "metadata": {},
   "outputs": [
    {
     "data": {
      "text/plain": [
       "True     6282\n",
       "False      30\n",
       "dtype: int64"
      ]
     },
     "execution_count": 14,
     "metadata": {},
     "output_type": "execute_result"
    }
   ],
   "source": [
    "sharks_case = sharks['case_number.1'] == sharks['case_number.2']\n",
    "sharks_case.value_counts()"
   ]
  },
  {
   "cell_type": "code",
   "execution_count": 15,
   "metadata": {},
   "outputs": [
    {
     "data": {
      "text/plain": [
       "True     6282\n",
       "False      30\n",
       "dtype: int64"
      ]
     },
     "execution_count": 15,
     "metadata": {},
     "output_type": "execute_result"
    }
   ],
   "source": [
    "sharks_href = sharks['href_formula'] == sharks['href']\n",
    "sharks_case.value_counts()"
   ]
  },
  {
   "cell_type": "markdown",
   "metadata": {},
   "source": [
    "### Drop duplicate column\n",
    "\n",
    "<br>\n",
    "\n",
    "* case_number.2 and case_number.1 was duplicate column of case_number\n",
    "\n",
    "\n",
    "<br>\n",
    "\n",
    "* href_formula was a duplicate column of href\n",
    "\n",
    "<br>"
   ]
  },
  {
   "cell_type": "code",
   "execution_count": 16,
   "metadata": {},
   "outputs": [],
   "source": [
    "sharks = sharks.drop(axis = 1, columns = ['case_number.1'])"
   ]
  },
  {
   "cell_type": "code",
   "execution_count": 17,
   "metadata": {},
   "outputs": [],
   "source": [
    "sharks = sharks.drop(axis = 1, columns = ['case_number.2'])"
   ]
  },
  {
   "cell_type": "code",
   "execution_count": 18,
   "metadata": {},
   "outputs": [],
   "source": [
    "sharks = sharks.drop(axis = 1, columns = ['href_formula'])"
   ]
  },
  {
   "cell_type": "markdown",
   "metadata": {},
   "source": [
    "## Data Manipulation"
   ]
  },
  {
   "cell_type": "markdown",
   "metadata": {},
   "source": [
    "### Cleaning country column"
   ]
  },
  {
   "cell_type": "code",
   "execution_count": 19,
   "metadata": {},
   "outputs": [],
   "source": [
    "# Cleaning special characteres and lower.\n",
    "for row in sharks['country']:\n",
    "    if isinstance(row, str):\n",
    "        new_row = re.sub('\\/.+|\\(.+\\)|\\.|\\?', '', row)\n",
    "        new_row = re.sub('\\&', 'and', new_row.strip().lower())\n",
    "        sharks['country'].replace(row,new_row, inplace=True)\n",
    "    else:\n",
    "        sharks['country'].replace(row,np.nan, inplace=True)"
   ]
  },
  {
   "cell_type": "code",
   "execution_count": 20,
   "metadata": {},
   "outputs": [
    {
     "data": {
      "text/html": [
       "<div>\n",
       "<style scoped>\n",
       "    .dataframe tbody tr th:only-of-type {\n",
       "        vertical-align: middle;\n",
       "    }\n",
       "\n",
       "    .dataframe tbody tr th {\n",
       "        vertical-align: top;\n",
       "    }\n",
       "\n",
       "    .dataframe thead th {\n",
       "        text-align: right;\n",
       "    }\n",
       "</style>\n",
       "<table border=\"1\" class=\"dataframe\">\n",
       "  <thead>\n",
       "    <tr style=\"text-align: right;\">\n",
       "      <th></th>\n",
       "      <th>case_number</th>\n",
       "      <th>date</th>\n",
       "      <th>year</th>\n",
       "      <th>type</th>\n",
       "      <th>country</th>\n",
       "      <th>area</th>\n",
       "      <th>location</th>\n",
       "      <th>activity</th>\n",
       "      <th>name</th>\n",
       "      <th>sex</th>\n",
       "      <th>age</th>\n",
       "      <th>injury</th>\n",
       "      <th>fatal_(y/n)</th>\n",
       "      <th>time</th>\n",
       "      <th>species_</th>\n",
       "      <th>investigator_or_source</th>\n",
       "      <th>pdf</th>\n",
       "      <th>href</th>\n",
       "    </tr>\n",
       "  </thead>\n",
       "  <tbody>\n",
       "    <tr>\n",
       "      <th>6170</th>\n",
       "      <td>1580.01.10.R</td>\n",
       "      <td>Letter dated 10-Jan-1580</td>\n",
       "      <td>1580.0</td>\n",
       "      <td>Unprovoked</td>\n",
       "      <td>between portugal and india</td>\n",
       "      <td>NaN</td>\n",
       "      <td>NaN</td>\n",
       "      <td>Man fell overboard from ship. Those on board t...</td>\n",
       "      <td>male</td>\n",
       "      <td>M</td>\n",
       "      <td>NaN</td>\n",
       "      <td>FATAL. \"Shark tore him to pieces.</td>\n",
       "      <td>Y</td>\n",
       "      <td>NaN</td>\n",
       "      <td>NaN</td>\n",
       "      <td>G.P. Whitley, p. 10</td>\n",
       "      <td>1580.01.10.R-Portugal-India.pdf</td>\n",
       "      <td>http://sharkattackfile.net/spreadsheets/pdf_di...</td>\n",
       "    </tr>\n",
       "  </tbody>\n",
       "</table>\n",
       "</div>"
      ],
      "text/plain": [
       "       case_number                      date    year        type  \\\n",
       "6170  1580.01.10.R  Letter dated 10-Jan-1580  1580.0  Unprovoked   \n",
       "\n",
       "                         country area location  \\\n",
       "6170  between portugal and india  NaN      NaN   \n",
       "\n",
       "                                               activity  name sex  age  \\\n",
       "6170  Man fell overboard from ship. Those on board t...  male   M  NaN   \n",
       "\n",
       "                                 injury fatal_(y/n) time species_  \\\n",
       "6170  FATAL. \"Shark tore him to pieces.           Y  NaN      NaN   \n",
       "\n",
       "     investigator_or_source                              pdf  \\\n",
       "6170    G.P. Whitley, p. 10  1580.01.10.R-Portugal-India.pdf   \n",
       "\n",
       "                                                   href  \n",
       "6170  http://sharkattackfile.net/spreadsheets/pdf_di...  "
      ]
     },
     "execution_count": 20,
     "metadata": {},
     "output_type": "execute_result"
    }
   ],
   "source": [
    "mask = sharks['country'] == 'between portugal and india'\n",
    "sharks.loc[mask , :]"
   ]
  },
  {
   "cell_type": "markdown",
   "metadata": {},
   "source": [
    "Filling NaN rows and correcting country name that are incorrectly"
   ]
  },
  {
   "cell_type": "code",
   "execution_count": 21,
   "metadata": {},
   "outputs": [
    {
     "data": {
      "text/plain": [
       "0              usa\n",
       "1              usa\n",
       "2              usa\n",
       "3        australia\n",
       "4           mexico\n",
       "           ...    \n",
       "6307       unknown\n",
       "6308       unknown\n",
       "6309       unknown\n",
       "8702       unknown\n",
       "25722      unknown\n",
       "Name: country, Length: 6312, dtype: object"
      ]
     },
     "execution_count": 21,
     "metadata": {},
     "output_type": "execute_result"
    }
   ],
   "source": [
    "sharks['country'].fillna(value = 'unknown')"
   ]
  },
  {
   "cell_type": "code",
   "execution_count": 22,
   "metadata": {},
   "outputs": [
    {
     "data": {
      "text/plain": [
       "usa                     2229\n",
       "australia               1338\n",
       "south africa             579\n",
       "papua new guinea         134\n",
       "new zealand              128\n",
       "                        ... \n",
       "northern arabian sea       1\n",
       "andaman islands            1\n",
       "falkland islands           1\n",
       "ireland                    1\n",
       "admiralty islands          1\n",
       "Name: country, Length: 192, dtype: int64"
      ]
     },
     "execution_count": 22,
     "metadata": {},
     "output_type": "execute_result"
    }
   ],
   "source": [
    "sharks['country'].value_counts(dropna=False)"
   ]
  },
  {
   "cell_type": "code",
   "execution_count": 23,
   "metadata": {},
   "outputs": [],
   "source": [
    "#Changing usa to united states\n",
    "sharks['country'] = sharks['country'].str.replace('usa' , 'united states')\n",
    "\n",
    "#Changing england to united kingdom\n",
    "sharks['country'] = sharks['country'].str.replace('england' , 'united kingdom')\n",
    "\n",
    "#Changing st helena.. to united kingdom\n",
    "sharks['country'] = sharks['country'].str.replace('st helena, british overseas territory' , 'united kingdom')\n",
    "\n",
    "#Changing columbia to colombia\n",
    "sharks['country'] = sharks['country'].str.replace('columbia' , 'colombia')\n",
    "\n",
    "#Changing british virgin islands to united kingdom\n",
    "sharks['country'] = sharks['country'].str.replace('british virgin islands' , 'united kingdom')\n",
    "\n",
    "#Changing diego garcia to united kingdom\n",
    "sharks['country'] = sharks['country'].str.replace('diego garcia' , 'united kingdom')\n",
    "\n",
    "#Changing british new guinea to united kingdom\n",
    "sharks['country'] = sharks['country'].str.replace('british new guinea' , 'united kingdom')"
   ]
  },
  {
   "cell_type": "code",
   "execution_count": 24,
   "metadata": {},
   "outputs": [
    {
     "data": {
      "text/plain": [
       "array(['united states', 'australia', 'mexico', 'brazil', 'united kingdom',\n",
       "       'south africa', 'thailand', 'costa rica', 'maldives', 'bahamas',\n",
       "       'new caledonia', 'ecuador', 'malaysia', 'libya', nan, 'cuba',\n",
       "       'mauritius', 'new zealand', 'spain', 'samoa', 'solomon islands',\n",
       "       'japan', 'egypt', 'comoros', 'reunion', 'french polynesia',\n",
       "       'united arab emirates', 'philippines', 'indonesia', 'china',\n",
       "       'colombia', 'cape verde', 'fiji', 'dominican republic',\n",
       "       'cayman islands', 'aruba', 'mozambique', 'puerto rico', 'italy',\n",
       "       'atlantic ocean', 'greece', 'st martin', 'france',\n",
       "       'papua new guinea', 'trinidad and tobago', 'kiribati', 'israel',\n",
       "       'taiwan', 'jamaica', 'palestinian territories', 'guam',\n",
       "       'seychelles', 'belize', 'nigeria', 'tonga', 'scotland', 'canada',\n",
       "       'croatia', 'saudi arabia', 'chile', 'antigua', 'kenya', 'russia',\n",
       "       'turks and caicos', 'azores', 'south korea', 'malta', 'vietnam',\n",
       "       'madagascar', 'panama', 'somalia', 'nevis', 'norway', 'senegal',\n",
       "       'yemen', 'gulf of aden', 'sierra leone', 'st maartin',\n",
       "       'grand cayman', 'liberia', 'vanuatu', 'honduras', 'venezuela',\n",
       "       'sri lanka', 'uruguay', 'india', 'micronesia', 'caribbean sea',\n",
       "       'okinawa', 'tanzania', 'marshall islands', 'northern arabian sea',\n",
       "       'hong kong', 'el salvador', 'angola', 'bermuda', 'montenegro',\n",
       "       'iran', 'tunisia', 'namibia', 'north atlantic ocean', 'portugal',\n",
       "       'south china sea', 'bangladesh', 'palau', 'western samoa',\n",
       "       'pacific ocean', 'british isles', 'grenada', 'iraq', 'turkey',\n",
       "       'singapore', 'new britain', 'sudan', 'johnston island',\n",
       "       'south pacific ocean', 'new guinea', 'red sea',\n",
       "       'north pacific ocean', 'federated states of micronesia',\n",
       "       'mid atlantic ocean', 'admiralty islands', 'british west indies',\n",
       "       'south atlantic ocean', 'persian gulf', 'north sea', 'nicaragua',\n",
       "       'maldive islands', 'american samoa', 'andaman', 'gabon', 'mayotte',\n",
       "       'the balkans', 'argentina', 'martinique', 'indian ocean',\n",
       "       'guatemala', 'netherlands antilles', 'northern mariana islands',\n",
       "       'java', 'central pacific', 'southwest pacific ocean',\n",
       "       'bay of bengal', 'mid-pacifc ocean', 'slovenia', 'curacao',\n",
       "       'iceland', 'barbados', 'monaco', 'guyana', 'haiti', 'san domingo',\n",
       "       'ireland', 'kuwait', 'reunion island', 'falkland islands', 'crete',\n",
       "       'cyprus', 'west indies', 'burma', 'lebanon', 'paraguay', 'ceylon',\n",
       "       'ocean', 'georgia', 'syria', 'tuvalu', 'guinea', 'andaman islands',\n",
       "       'equatorial guinea', 'cook islands', 'tobago', 'peru', 'africa',\n",
       "       'algeria', 'coast of africa', 'tasman sea', 'ghana', 'greenland',\n",
       "       'mediterranean sea', 'sweden', 'roatan',\n",
       "       'between portugal and india', 'djibouti', 'bahrein', 'korea',\n",
       "       'asia'], dtype=object)"
      ]
     },
     "execution_count": 24,
     "metadata": {},
     "output_type": "execute_result"
    }
   ],
   "source": [
    "sharks['country'].unique()"
   ]
  },
  {
   "cell_type": "markdown",
   "metadata": {},
   "source": [
    "### Cleaning fatality column"
   ]
  },
  {
   "cell_type": "code",
   "execution_count": 25,
   "metadata": {},
   "outputs": [
    {
     "data": {
      "text/plain": [
       "array(['N', 'Y', nan, 'M', 'UNKNOWN', '2017', ' N', 'N ', 'y'],\n",
       "      dtype=object)"
      ]
     },
     "execution_count": 25,
     "metadata": {},
     "output_type": "execute_result"
    }
   ],
   "source": [
    "sharks['fatal_(y/n)'].unique()"
   ]
  },
  {
   "cell_type": "code",
   "execution_count": 26,
   "metadata": {},
   "outputs": [],
   "source": [
    "sharks = sharks.drop(786)"
   ]
  },
  {
   "cell_type": "code",
   "execution_count": 27,
   "metadata": {},
   "outputs": [],
   "source": [
    "sharks['fatal_(y/n)'] = sharks['fatal_(y/n)'].apply(lambda x: str(x))\n",
    " # Can verify to see that dates prints out as an object"
   ]
  },
  {
   "cell_type": "code",
   "execution_count": 28,
   "metadata": {},
   "outputs": [],
   "source": [
    "def cleaning_fatal(row):\n",
    "    pattern = ' N|N '\n",
    "    new_row = re.sub(pattern, 'N', row)\n",
    "    return new_row\n",
    "sharks['fatal_(y/n)'] = sharks['fatal_(y/n)'].apply(cleaning_fatal)"
   ]
  },
  {
   "cell_type": "code",
   "execution_count": 29,
   "metadata": {},
   "outputs": [],
   "source": [
    "# Changing one row letter y to capitalize\n",
    "sharks['fatal_(y/n)'] = sharks['fatal_(y/n)'].str.replace('y', 'Y')\n",
    "\n",
    "# Changing one row letter M to letter N\n",
    "sharks['fatal_(y/n)'] = sharks['fatal_(y/n)'].str.replace('M', 'N')\n",
    "\n",
    "# Changing nan to Unknown\n",
    "sharks['fatal_(y/n)'] = sharks['fatal_(y/n)'].str.replace('nan', 'UNKNOWN')"
   ]
  },
  {
   "cell_type": "code",
   "execution_count": 30,
   "metadata": {},
   "outputs": [
    {
     "data": {
      "text/plain": [
       "N          4302\n",
       "Y          1389\n",
       "UNKNOWN     620\n",
       "Name: fatal_(y/n), dtype: int64"
      ]
     },
     "execution_count": 30,
     "metadata": {},
     "output_type": "execute_result"
    }
   ],
   "source": [
    "sharks['fatal_(y/n)'].value_counts()"
   ]
  },
  {
   "cell_type": "markdown",
   "metadata": {},
   "source": [
    "### Cleaning sex column"
   ]
  },
  {
   "cell_type": "code",
   "execution_count": 31,
   "metadata": {},
   "outputs": [],
   "source": [
    "#Verifying spaces M\n",
    "mask_M = sharks['sex'] == 'M '\n",
    "sharks.loc[mask_M , :]\n",
    "#Cleaning spaces\n",
    "sharks['sex'] = sharks['sex'].str.replace('M ', 'M')"
   ]
  },
  {
   "cell_type": "code",
   "execution_count": 32,
   "metadata": {},
   "outputs": [
    {
     "data": {
      "text/html": [
       "<div>\n",
       "<style scoped>\n",
       "    .dataframe tbody tr th:only-of-type {\n",
       "        vertical-align: middle;\n",
       "    }\n",
       "\n",
       "    .dataframe tbody tr th {\n",
       "        vertical-align: top;\n",
       "    }\n",
       "\n",
       "    .dataframe thead th {\n",
       "        text-align: right;\n",
       "    }\n",
       "</style>\n",
       "<table border=\"1\" class=\"dataframe\">\n",
       "  <thead>\n",
       "    <tr style=\"text-align: right;\">\n",
       "      <th></th>\n",
       "      <th>case_number</th>\n",
       "      <th>date</th>\n",
       "      <th>year</th>\n",
       "      <th>type</th>\n",
       "      <th>country</th>\n",
       "      <th>area</th>\n",
       "      <th>location</th>\n",
       "      <th>activity</th>\n",
       "      <th>name</th>\n",
       "      <th>sex</th>\n",
       "      <th>age</th>\n",
       "      <th>injury</th>\n",
       "      <th>fatal_(y/n)</th>\n",
       "      <th>time</th>\n",
       "      <th>species_</th>\n",
       "      <th>investigator_or_source</th>\n",
       "      <th>pdf</th>\n",
       "      <th>href</th>\n",
       "    </tr>\n",
       "  </thead>\n",
       "  <tbody>\n",
       "    <tr>\n",
       "      <th>1624</th>\n",
       "      <td>2004.11.11.b</td>\n",
       "      <td>11-Nov-2004</td>\n",
       "      <td>2004.0</td>\n",
       "      <td>Unprovoked</td>\n",
       "      <td>united states</td>\n",
       "      <td>California</td>\n",
       "      <td>Bunkers, Humboldt Bay, Eureka, Humboldt County</td>\n",
       "      <td>Surfing</td>\n",
       "      <td>Brian Kang</td>\n",
       "      <td>lli</td>\n",
       "      <td>38</td>\n",
       "      <td>Lacerations to hand, knee &amp; thigh</td>\n",
       "      <td>N</td>\n",
       "      <td>13h30</td>\n",
       "      <td>5.5 m [18'] white shark</td>\n",
       "      <td>R. Collier, GSAF</td>\n",
       "      <td>2004.11.11.b-Kang.pdf</td>\n",
       "      <td>http://sharkattackfile.net/spreadsheets/pdf_di...</td>\n",
       "    </tr>\n",
       "  </tbody>\n",
       "</table>\n",
       "</div>"
      ],
      "text/plain": [
       "       case_number         date    year        type        country  \\\n",
       "1624  2004.11.11.b  11-Nov-2004  2004.0  Unprovoked  united states   \n",
       "\n",
       "            area                                        location activity  \\\n",
       "1624  California  Bunkers, Humboldt Bay, Eureka, Humboldt County  Surfing   \n",
       "\n",
       "            name  sex age                              injury fatal_(y/n)  \\\n",
       "1624  Brian Kang  lli  38  Lacerations to hand, knee & thigh            N   \n",
       "\n",
       "       time                 species_            investigator_or_source  \\\n",
       "1624  13h30  5.5 m [18'] white shark  R. Collier, GSAF                   \n",
       "\n",
       "                        pdf                                               href  \n",
       "1624  2004.11.11.b-Kang.pdf  http://sharkattackfile.net/spreadsheets/pdf_di...  "
      ]
     },
     "execution_count": 32,
     "metadata": {},
     "output_type": "execute_result"
    }
   ],
   "source": [
    "#Verifying lli info\n",
    "mask = sharks['sex'] == 'lli'\n",
    "sharks.loc[mask , :]"
   ]
  },
  {
   "cell_type": "code",
   "execution_count": 33,
   "metadata": {},
   "outputs": [
    {
     "data": {
      "text/html": [
       "<div>\n",
       "<style scoped>\n",
       "    .dataframe tbody tr th:only-of-type {\n",
       "        vertical-align: middle;\n",
       "    }\n",
       "\n",
       "    .dataframe tbody tr th {\n",
       "        vertical-align: top;\n",
       "    }\n",
       "\n",
       "    .dataframe thead th {\n",
       "        text-align: right;\n",
       "    }\n",
       "</style>\n",
       "<table border=\"1\" class=\"dataframe\">\n",
       "  <thead>\n",
       "    <tr style=\"text-align: right;\">\n",
       "      <th></th>\n",
       "      <th>case_number</th>\n",
       "      <th>date</th>\n",
       "      <th>year</th>\n",
       "      <th>type</th>\n",
       "      <th>country</th>\n",
       "      <th>area</th>\n",
       "      <th>location</th>\n",
       "      <th>activity</th>\n",
       "      <th>name</th>\n",
       "      <th>sex</th>\n",
       "      <th>age</th>\n",
       "      <th>injury</th>\n",
       "      <th>fatal_(y/n)</th>\n",
       "      <th>time</th>\n",
       "      <th>species_</th>\n",
       "      <th>investigator_or_source</th>\n",
       "      <th>pdf</th>\n",
       "      <th>href</th>\n",
       "    </tr>\n",
       "  </thead>\n",
       "  <tbody>\n",
       "    <tr>\n",
       "      <th>4938</th>\n",
       "      <td>1934.07.11</td>\n",
       "      <td>11-Jul-1934</td>\n",
       "      <td>1934.0</td>\n",
       "      <td>Boating</td>\n",
       "      <td>australia</td>\n",
       "      <td>New South Wales</td>\n",
       "      <td>Cronulla</td>\n",
       "      <td>Fishing</td>\n",
       "      <td>18' boat, occupants William &amp; Leslie Newton</td>\n",
       "      <td>N</td>\n",
       "      <td>NaN</td>\n",
       "      <td>No injury to occupants Sharks continually foll...</td>\n",
       "      <td>N</td>\n",
       "      <td>NaN</td>\n",
       "      <td>Blue pointer, 11'</td>\n",
       "      <td>G.P. Whitley, ref: Daily Telegraph, 7/11/1934 ...</td>\n",
       "      <td>1934.07.11-Newton-boat-Australia.pdf</td>\n",
       "      <td>http://sharkattackfile.net/spreadsheets/pdf_di...</td>\n",
       "    </tr>\n",
       "    <tr>\n",
       "      <th>6131</th>\n",
       "      <td>1801.12.18.R</td>\n",
       "      <td>Reported 18-Dec-1801</td>\n",
       "      <td>1801.0</td>\n",
       "      <td>Provoked</td>\n",
       "      <td>NaN</td>\n",
       "      <td>NaN</td>\n",
       "      <td>NaN</td>\n",
       "      <td>Standing on landed shark's tail</td>\n",
       "      <td>Stephen Pettigew</td>\n",
       "      <td>N</td>\n",
       "      <td>NaN</td>\n",
       "      <td>FATAL, PROVOKED INCIDENT</td>\n",
       "      <td>Y</td>\n",
       "      <td>NaN</td>\n",
       "      <td>12' shark</td>\n",
       "      <td>The Evening Post, 12/18/1801</td>\n",
       "      <td>1801.12.18.R-Pettigrew.pdf</td>\n",
       "      <td>http://sharkattackfile.net/spreadsheets/pdf_di...</td>\n",
       "    </tr>\n",
       "  </tbody>\n",
       "</table>\n",
       "</div>"
      ],
      "text/plain": [
       "       case_number                  date    year      type    country  \\\n",
       "4938    1934.07.11           11-Jul-1934  1934.0   Boating  australia   \n",
       "6131  1801.12.18.R  Reported 18-Dec-1801  1801.0  Provoked        NaN   \n",
       "\n",
       "                 area  location                         activity  \\\n",
       "4938  New South Wales  Cronulla                          Fishing   \n",
       "6131              NaN       NaN  Standing on landed shark's tail   \n",
       "\n",
       "                                             name sex  age  \\\n",
       "4938  18' boat, occupants William & Leslie Newton   N  NaN   \n",
       "6131                             Stephen Pettigew   N  NaN   \n",
       "\n",
       "                                                 injury fatal_(y/n) time  \\\n",
       "4938  No injury to occupants Sharks continually foll...           N  NaN   \n",
       "6131                           FATAL, PROVOKED INCIDENT           Y  NaN   \n",
       "\n",
       "                species_                             investigator_or_source  \\\n",
       "4938  Blue pointer, 11'   G.P. Whitley, ref: Daily Telegraph, 7/11/1934 ...   \n",
       "6131           12' shark                       The Evening Post, 12/18/1801   \n",
       "\n",
       "                                       pdf  \\\n",
       "4938  1934.07.11-Newton-boat-Australia.pdf   \n",
       "6131            1801.12.18.R-Pettigrew.pdf   \n",
       "\n",
       "                                                   href  \n",
       "4938  http://sharkattackfile.net/spreadsheets/pdf_di...  \n",
       "6131  http://sharkattackfile.net/spreadsheets/pdf_di...  "
      ]
     },
     "execution_count": 33,
     "metadata": {},
     "output_type": "execute_result"
    }
   ],
   "source": [
    "#Changing lli to M\n",
    "sharks['sex'] = sharks['sex'].str.replace('lli', 'M')\n",
    "\n",
    "#Verifying N\n",
    "mask_N_to_M = sharks['sex'] == 'N'\n",
    "sharks.loc[mask_N_to_M , :]"
   ]
  },
  {
   "cell_type": "code",
   "execution_count": 34,
   "metadata": {},
   "outputs": [],
   "source": [
    "#Changing N to M\n",
    "sharks['sex'] = sharks['sex'].str.replace('N' , 'M')\n",
    "\n",
    "#Verifying dot(.)\n",
    "mask_dot = sharks['sex'] == '.'\n",
    "sharks.loc[mask_dot , :]\n",
    "\n",
    "#dropping dot row\n",
    "sharks = sharks.drop(axis = 0, index = [5437])"
   ]
  },
  {
   "cell_type": "code",
   "execution_count": 35,
   "metadata": {},
   "outputs": [],
   "source": [
    "# Changing nan to Unknown group\n",
    "sharks['sex'] = sharks['sex'].fillna(value = 'UNKNOWN')"
   ]
  },
  {
   "cell_type": "markdown",
   "metadata": {},
   "source": [
    "## Data Export"
   ]
  },
  {
   "cell_type": "code",
   "execution_count": 36,
   "metadata": {},
   "outputs": [],
   "source": [
    "sharks.to_csv('attacks_clean.csv', sep=',', index = False)"
   ]
  },
  {
   "cell_type": "markdown",
   "metadata": {},
   "source": [
    "## Data Analysis"
   ]
  },
  {
   "cell_type": "code",
   "execution_count": 37,
   "metadata": {},
   "outputs": [],
   "source": [
    "sharks_analysis = sharks[['year', 'country', 'sex', 'fatal_(y/n)']]"
   ]
  },
  {
   "cell_type": "code",
   "execution_count": 38,
   "metadata": {},
   "outputs": [
    {
     "data": {
      "text/html": [
       "<div>\n",
       "<style scoped>\n",
       "    .dataframe tbody tr th:only-of-type {\n",
       "        vertical-align: middle;\n",
       "    }\n",
       "\n",
       "    .dataframe tbody tr th {\n",
       "        vertical-align: top;\n",
       "    }\n",
       "\n",
       "    .dataframe thead th {\n",
       "        text-align: right;\n",
       "    }\n",
       "</style>\n",
       "<table border=\"1\" class=\"dataframe\">\n",
       "  <thead>\n",
       "    <tr style=\"text-align: right;\">\n",
       "      <th></th>\n",
       "      <th>year</th>\n",
       "      <th>country</th>\n",
       "      <th>sex</th>\n",
       "      <th>fatal_(y/n)</th>\n",
       "    </tr>\n",
       "  </thead>\n",
       "  <tbody>\n",
       "    <tr>\n",
       "      <th>0</th>\n",
       "      <td>2018.0</td>\n",
       "      <td>united states</td>\n",
       "      <td>F</td>\n",
       "      <td>N</td>\n",
       "    </tr>\n",
       "    <tr>\n",
       "      <th>1</th>\n",
       "      <td>2018.0</td>\n",
       "      <td>united states</td>\n",
       "      <td>F</td>\n",
       "      <td>N</td>\n",
       "    </tr>\n",
       "    <tr>\n",
       "      <th>2</th>\n",
       "      <td>2018.0</td>\n",
       "      <td>united states</td>\n",
       "      <td>M</td>\n",
       "      <td>N</td>\n",
       "    </tr>\n",
       "    <tr>\n",
       "      <th>3</th>\n",
       "      <td>2018.0</td>\n",
       "      <td>australia</td>\n",
       "      <td>M</td>\n",
       "      <td>N</td>\n",
       "    </tr>\n",
       "    <tr>\n",
       "      <th>4</th>\n",
       "      <td>2018.0</td>\n",
       "      <td>mexico</td>\n",
       "      <td>M</td>\n",
       "      <td>N</td>\n",
       "    </tr>\n",
       "  </tbody>\n",
       "</table>\n",
       "</div>"
      ],
      "text/plain": [
       "     year        country sex fatal_(y/n)\n",
       "0  2018.0  united states   F           N\n",
       "1  2018.0  united states   F           N\n",
       "2  2018.0  united states   M           N\n",
       "3  2018.0      australia   M           N\n",
       "4  2018.0         mexico   M           N"
      ]
     },
     "execution_count": 38,
     "metadata": {},
     "output_type": "execute_result"
    }
   ],
   "source": [
    "sharks_analysis.head(5)"
   ]
  },
  {
   "cell_type": "markdown",
   "metadata": {},
   "source": [
    "### Fatality by genre and country"
   ]
  },
  {
   "cell_type": "markdown",
   "metadata": {},
   "source": [
    "#### Fatal by male and country"
   ]
  },
  {
   "cell_type": "code",
   "execution_count": 39,
   "metadata": {},
   "outputs": [],
   "source": [
    "mask_year = sharks['year'] > 1900\n",
    "sharks_year = sharks.loc[mask_year, :]\n",
    "mask_fatal = sharks_year['fatal_(y/n)'] == 'Y'\n",
    "sharks_fatal = sharks_year.loc[mask_fatal,:]\n",
    "mask_genre = sharks_fatal['sex'] == 'M'\n",
    "sharks_genre = sharks_fatal.loc[mask_genre, :]"
   ]
  },
  {
   "cell_type": "code",
   "execution_count": 40,
   "metadata": {},
   "outputs": [
    {
     "data": {
      "text/html": [
       "<div>\n",
       "<style scoped>\n",
       "    .dataframe tbody tr th:only-of-type {\n",
       "        vertical-align: middle;\n",
       "    }\n",
       "\n",
       "    .dataframe tbody tr th {\n",
       "        vertical-align: top;\n",
       "    }\n",
       "\n",
       "    .dataframe thead th {\n",
       "        text-align: right;\n",
       "    }\n",
       "</style>\n",
       "<table border=\"1\" class=\"dataframe\">\n",
       "  <thead>\n",
       "    <tr style=\"text-align: right;\">\n",
       "      <th></th>\n",
       "      <th></th>\n",
       "      <th></th>\n",
       "      <th>genre_count</th>\n",
       "    </tr>\n",
       "    <tr>\n",
       "      <th>fatal_(y/n)</th>\n",
       "      <th>country</th>\n",
       "      <th>sex</th>\n",
       "      <th></th>\n",
       "    </tr>\n",
       "  </thead>\n",
       "  <tbody>\n",
       "    <tr>\n",
       "      <th rowspan=\"5\" valign=\"top\">Y</th>\n",
       "      <th>australia</th>\n",
       "      <th>M</th>\n",
       "      <td>203</td>\n",
       "    </tr>\n",
       "    <tr>\n",
       "      <th>united states</th>\n",
       "      <th>M</th>\n",
       "      <td>117</td>\n",
       "    </tr>\n",
       "    <tr>\n",
       "      <th>south africa</th>\n",
       "      <th>M</th>\n",
       "      <td>80</td>\n",
       "    </tr>\n",
       "    <tr>\n",
       "      <th>papua new guinea</th>\n",
       "      <th>M</th>\n",
       "      <td>42</td>\n",
       "    </tr>\n",
       "    <tr>\n",
       "      <th>brazil</th>\n",
       "      <th>M</th>\n",
       "      <td>28</td>\n",
       "    </tr>\n",
       "  </tbody>\n",
       "</table>\n",
       "</div>"
      ],
      "text/plain": [
       "                                  genre_count\n",
       "fatal_(y/n) country          sex             \n",
       "Y           australia        M            203\n",
       "            united states    M            117\n",
       "            south africa     M             80\n",
       "            papua new guinea M             42\n",
       "            brazil           M             28"
      ]
     },
     "execution_count": 40,
     "metadata": {},
     "output_type": "execute_result"
    }
   ],
   "source": [
    "sharks_group = sharks_genre.groupby(by = ['fatal_(y/n)', 'country', 'sex']).agg(genre_count = ('sex', 'count'))\n",
    "sharks_group.sort_values(by = 'genre_count', ascending = False).head(5)"
   ]
  },
  {
   "cell_type": "markdown",
   "metadata": {},
   "source": [
    "##### Plotting"
   ]
  },
  {
   "cell_type": "code",
   "execution_count": null,
   "metadata": {},
   "outputs": [
    {
     "data": {
      "text/plain": [
       "[203, 117, 80, 42, 28]"
      ]
     },
     "execution_count": 41,
     "metadata": {},
     "output_type": "execute_result"
    }
   ],
   "source": [
    "list(sharks_group.sort_values(by = 'genre_count', ascending = False).head(5).reset_index()['genre_count'])"
   ]
  },
  {
   "cell_type": "code",
   "execution_count": null,
   "metadata": {},
   "outputs": [],
   "source": [
    "australia_percent = (203/834)*100\n",
    "united_states = (117/834)*100\n",
    "south_africa = (80/834)*100\n",
    "papua_new_guinea = (42/834)*100\n",
    "brazil = (28/834)*100\n",
    "others = ((834-470)/834)*100\n",
    "print(australia_percent, united_states, south_africa, papua_new_guinea, brazil, others)"
   ]
  },
  {
   "cell_type": "code",
   "execution_count": null,
   "metadata": {},
   "outputs": [],
   "source": [
    "labels = 'Australia', 'United States', 'South Africa', 'Papua New Guinea', 'Brazil', 'Others'\n",
    "sizes = [24.34, 14.03, 9.59, 5.03, 3.36, 43.64]\n",
    "explode = (0.1, 0.0, 0, 0, 0, 0)\n",
    "\n",
    "fig1, ax1 = plt.subplots()\n",
    "ax1.pie(sizes, explode=explode, labels=labels, autopct='%1.1f%%',\n",
    "        shadow=True, startangle=90)\n",
    "ax1.axis('equal')\n",
    "\n",
    "plt.show()"
   ]
  },
  {
   "cell_type": "markdown",
   "metadata": {},
   "source": [
    "#### Fatal by female"
   ]
  },
  {
   "cell_type": "code",
   "execution_count": null,
   "metadata": {},
   "outputs": [],
   "source": [
    "mask_year = sharks['year'] > 1900\n",
    "sharks_year = sharks.loc[mask_year, :]\n",
    "mask_fatal = sharks_year['fatal_(y/n)'] == 'Y'\n",
    "sharks_fatal = sharks_year.loc[mask_fatal,:]\n",
    "mask_genre = sharks_fatal['sex'] == 'F'\n",
    "sharks_genre = sharks_fatal.loc[mask_genre, :]"
   ]
  },
  {
   "cell_type": "code",
   "execution_count": null,
   "metadata": {},
   "outputs": [],
   "source": [
    "sharks_group = sharks_genre.groupby(by = ['fatal_(y/n)', 'country', 'sex']).agg(genre_count = ('sex', 'count'))\n",
    "sharks_group.sort_values(by = 'genre_count', ascending = False).head(5)"
   ]
  },
  {
   "cell_type": "markdown",
   "metadata": {},
   "source": [
    "##### Plotting"
   ]
  },
  {
   "cell_type": "code",
   "execution_count": null,
   "metadata": {},
   "outputs": [],
   "source": [
    "australia_percent_yf = (14/92)*100\n",
    "united_states_yf = (12/92)*100\n",
    "croatia_yf = (7/92)*100\n",
    "mexico_yf = (6/92)*100\n",
    "south_africa_yf = (5/92)*100\n",
    "others_yf = ((92-44)/92)*100\n",
    "print(australia_percent_yf, united_states_yf, croatia_yf, mexico_yf, south_africa_yf, others_yf)"
   ]
  },
  {
   "cell_type": "code",
   "execution_count": null,
   "metadata": {},
   "outputs": [],
   "source": [
    "labels_yf = 'Australia', 'United States', 'Croatia', 'Mexico', 'South Africa', 'Others'\n",
    "sizes_yf = [15.22, 13.04, 7.61, 6.52, 5.43, 52.17]\n",
    "explode_yf = (0.1, 0.0, 0, 0, 0, 0)\n",
    "\n",
    "fig2, ax2 = plt.subplots()\n",
    "ax2.pie(sizes_yf, explode=explode_yf, labels=labels_yf, autopct='%1.1f%%',\n",
    "        shadow=True, startangle=90)\n",
    "ax2.axis('equal')\n",
    "\n",
    "plt.show()"
   ]
  },
  {
   "cell_type": "markdown",
   "metadata": {},
   "source": [
    "#### Non Fatal and Male"
   ]
  },
  {
   "cell_type": "code",
   "execution_count": null,
   "metadata": {},
   "outputs": [],
   "source": [
    "mask_year = sharks['year'] > 1900\n",
    "sharks_year = sharks.loc[mask_year, :]\n",
    "mask_fatal = sharks_year['fatal_(y/n)'] == 'N'\n",
    "sharks_fatal = sharks_year.loc[mask_fatal,:]\n",
    "mask_genre = sharks_fatal['sex'] == 'M'\n",
    "sharks_genre = sharks_fatal.loc[mask_genre, :]"
   ]
  },
  {
   "cell_type": "code",
   "execution_count": null,
   "metadata": {},
   "outputs": [],
   "source": [
    "sharks_group = sharks_genre.groupby(by = ['fatal_(y/n)', 'country', 'sex']).agg(genre_count = ('sex', 'count'))\n",
    "sharks_group.sort_values(by = 'genre_count', ascending = False).head(5)"
   ]
  },
  {
   "cell_type": "markdown",
   "metadata": {},
   "source": [
    "##### Plotting"
   ]
  },
  {
   "cell_type": "code",
   "execution_count": null,
   "metadata": {},
   "outputs": [],
   "source": [
    "united_states_nm = (1404/3229)*100\n",
    "australia_nm = (688/3229)*100\n",
    "south_africa_nm = (332/3229)*100\n",
    "bahamas_nm = (74/3229)*100\n",
    "papua_new_guinea_nm = (61/3229)*100\n",
    "others_nm = ((3229-2559)/3229)*100\n",
    "print(united_states_nm, australia_nm, south_africa_nm, bahamas_nm, papua_new_guinea_nm, others_nm)"
   ]
  },
  {
   "cell_type": "code",
   "execution_count": null,
   "metadata": {},
   "outputs": [],
   "source": [
    "labels_nm = 'United States', 'Australia', 'South Africa', 'Bahamas', 'Papua New Guinea', 'Others'\n",
    "sizes_nm = [43.48, 21.31, 10.28, 2.29, 1.89, 20.75]\n",
    "explode_nm = (0.1, 0.0, 0, 0, 0, 0)\n",
    "\n",
    "fig3, ax3 = plt.subplots()\n",
    "ax3.pie(sizes_nm, explode=explode_nm, labels=labels_nm, autopct='%1.1f%%',\n",
    "        shadow=True, startangle=90)\n",
    "ax3.axis('equal')\n",
    "\n",
    "plt.show()"
   ]
  },
  {
   "cell_type": "markdown",
   "metadata": {},
   "source": [
    "#### Non Fatal by Female"
   ]
  },
  {
   "cell_type": "code",
   "execution_count": null,
   "metadata": {},
   "outputs": [],
   "source": [
    "mask_year = sharks['year'] > 1900\n",
    "sharks_year = sharks.loc[mask_year, :]\n",
    "mask_fatal = sharks_year['fatal_(y/n)'] == 'N'\n",
    "sharks_fatal = sharks_year.loc[mask_fatal,:]\n",
    "mask_genre = sharks_fatal['sex'] == 'F'\n",
    "sharks_genre = sharks_fatal.loc[mask_genre, :]"
   ]
  },
  {
   "cell_type": "code",
   "execution_count": null,
   "metadata": {},
   "outputs": [],
   "source": [
    "sharks_group = sharks_genre.groupby(by = ['fatal_(y/n)', 'country', 'sex']).agg(genre_count = ('sex', 'count'))\n",
    "sharks_group.sort_values(by = 'genre_count', ascending = False).head(5)"
   ]
  },
  {
   "cell_type": "code",
   "execution_count": null,
   "metadata": {},
   "outputs": [],
   "source": [
    "sharks_group['genre_count'].sum()"
   ]
  },
  {
   "cell_type": "markdown",
   "metadata": {},
   "source": [
    "##### Plotting"
   ]
  },
  {
   "cell_type": "code",
   "execution_count": null,
   "metadata": {},
   "outputs": [],
   "source": [
    "united_states_nf = (287/448)*100\n",
    "australia_nf = (58/448)*100\n",
    "bahamas_nf = (14/448)*100\n",
    "south_africa_nf = (14/448)*100\n",
    "new_zealand_nf = (11/448)*100\n",
    "others_nf = ((448-384)/448)*100\n",
    "print(united_states_nf, australia_nf, bahamas_nf, south_africa_nf, new_zealand_nf, others_nf)"
   ]
  },
  {
   "cell_type": "code",
   "execution_count": null,
   "metadata": {},
   "outputs": [],
   "source": [
    "labels_nf = 'United States', 'Australia', 'Bahamas', 'South Africa', 'New Zealand', 'Others'\n",
    "sizes_nf = [64.06, 12.95, 3.13, 3.13, 2.46, 14.29]\n",
    "explode_nf = (0.1, 0.0, 0, 0, 0, 0)\n",
    "\n",
    "fig4, ax4 = plt.subplots()\n",
    "ax4.pie(sizes_nf, explode=explode_nf, labels=labels_nf, autopct='%1.1f%%',\n",
    "        shadow=True, startangle=90)\n",
    "ax4.axis('equal')\n",
    "\n",
    "plt.show()"
   ]
  }
 ],
 "metadata": {
  "kernelspec": {
   "display_name": "Python 3",
   "language": "python",
   "name": "python3"
  },
  "language_info": {
   "codemirror_mode": {
    "name": "ipython",
    "version": 3
   },
   "file_extension": ".py",
   "mimetype": "text/x-python",
   "name": "python",
   "nbconvert_exporter": "python",
   "pygments_lexer": "ipython3",
   "version": "3.7.4"
  },
  "toc": {
   "base_numbering": 1,
   "nav_menu": {},
   "number_sections": true,
   "sideBar": true,
   "skip_h1_title": false,
   "title_cell": "Table of Contents",
   "title_sidebar": "Contents",
   "toc_cell": false,
   "toc_position": {},
   "toc_section_display": true,
   "toc_window_display": true
  },
  "varInspector": {
   "cols": {
    "lenName": 16,
    "lenType": 16,
    "lenVar": 40
   },
   "kernels_config": {
    "python": {
     "delete_cmd_postfix": "",
     "delete_cmd_prefix": "del ",
     "library": "var_list.py",
     "varRefreshCmd": "print(var_dic_list())"
    },
    "r": {
     "delete_cmd_postfix": ") ",
     "delete_cmd_prefix": "rm(",
     "library": "var_list.r",
     "varRefreshCmd": "cat(var_dic_list()) "
    }
   },
   "types_to_exclude": [
    "module",
    "function",
    "builtin_function_or_method",
    "instance",
    "_Feature"
   ],
   "window_display": false
  }
 },
 "nbformat": 4,
 "nbformat_minor": 2
}
